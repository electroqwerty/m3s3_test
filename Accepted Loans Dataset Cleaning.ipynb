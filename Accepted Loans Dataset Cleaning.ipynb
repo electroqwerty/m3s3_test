{
 "cells": [
  {
   "cell_type": "code",
   "execution_count": 1,
   "id": "04ad1527-d019-4e9a-a78b-747c61809b04",
   "metadata": {},
   "outputs": [],
   "source": [
    "import numpy as np\n",
    "import pandas as pd\n",
    "import seaborn as sns\n",
    "import matplotlib.pyplot as plt\n",
    "import re\n",
    "from sklearn.impute import SimpleImputer"
   ]
  },
  {
   "cell_type": "markdown",
   "id": "9683cbe3-742e-45b2-9a30-ed49edd5ff69",
   "metadata": {},
   "source": [
    "## About\n",
    "\n",
    "This notebook contains process of modifying data from accepted loans dataset in order to do dimensiopnality reduction later. "
   ]
  },
  {
   "cell_type": "markdown",
   "id": "6312bc76-e565-42c2-b914-afede21b763e",
   "metadata": {
    "tags": []
   },
   "source": [
    "## Loading the Accepted Loans dataset"
   ]
  },
  {
   "cell_type": "code",
   "execution_count": 2,
   "id": "b3044592-23b2-4bb5-a8ad-3b9ca25bb214",
   "metadata": {
    "scrolled": true
   },
   "outputs": [
    {
     "name": "stderr",
     "output_type": "stream",
     "text": [
      "C:\\Users\\Martin\\AppData\\Local\\Temp\\ipykernel_20404\\1989349893.py:2: DtypeWarning: Columns (0,19,49,59,118,129,130,131,134,135,136,139,145,146,147) have mixed types. Specify dtype option on import or set low_memory=False.\n",
      "  data_accepted = pd.read_csv(accepted_path)\n"
     ]
    }
   ],
   "source": [
    "accepted_path = './Datasets/accepted_2007_to_2018Q4.csv'\n",
    "data_accepted = pd.read_csv(accepted_path)"
   ]
  },
  {
   "cell_type": "code",
   "execution_count": 3,
   "id": "d7e0a1cb-52ce-482b-9cc9-a62c23b047d3",
   "metadata": {},
   "outputs": [
    {
     "data": {
      "text/plain": [
       "(2260701, 151)"
      ]
     },
     "execution_count": 3,
     "metadata": {},
     "output_type": "execute_result"
    }
   ],
   "source": [
    "data_accepted.shape"
   ]
  },
  {
   "cell_type": "markdown",
   "id": "b676648d-54cb-439c-9983-7a2ac46e6738",
   "metadata": {},
   "source": [
    "Starting with 151 features"
   ]
  },
  {
   "cell_type": "markdown",
   "id": "60713620-cf37-4413-97e0-e6c3ab9e413a",
   "metadata": {
    "tags": []
   },
   "source": [
    "## Missing Data Handling"
   ]
  },
  {
   "cell_type": "code",
   "execution_count": 4,
   "id": "003659f0-ffe5-4792-9382-c8cc197439bd",
   "metadata": {},
   "outputs": [],
   "source": [
    "# Setting threshold for proportion of missing values per feature\n",
    "missing_threshold = 0.1\n",
    "\n",
    "data_accepted = (\n",
    "    data_accepted.loc[:, data_accepted.isnull().sum() / data_accepted.shape[0] <= missing_threshold]\n",
    "    .dropna(subset=['grade', 'sub_grade'])\n",
    ")"
   ]
  },
  {
   "cell_type": "code",
   "execution_count": 5,
   "id": "e88191a3-2ee2-4cd8-8e69-89628448e7b5",
   "metadata": {},
   "outputs": [
    {
     "data": {
      "text/plain": [
       "(2260668, 92)"
      ]
     },
     "execution_count": 5,
     "metadata": {},
     "output_type": "execute_result"
    }
   ],
   "source": [
    "data_accepted.shape"
   ]
  },
  {
   "cell_type": "markdown",
   "id": "dbfd6bc3-ca70-4581-8265-f5a836f990af",
   "metadata": {},
   "source": [
    "- By just removing features with substantial amount of missing values, we reduced dataset dimensionality by 59 features.\n",
    "- More comprehensive prediction of missing values using various ML models could work as an alternative to simple threshold removal."
   ]
  },
  {
   "cell_type": "code",
   "execution_count": 6,
   "id": "a1cba689-8109-4c50-a8ed-2ca06e084d00",
   "metadata": {},
   "outputs": [
    {
     "data": {
      "text/plain": [
       "0"
      ]
     },
     "execution_count": 6,
     "metadata": {},
     "output_type": "execute_result"
    }
   ],
   "source": [
    "data_accepted.duplicated().sum()"
   ]
  },
  {
   "cell_type": "markdown",
   "id": "faf8f32b-3ae5-425d-885a-82d143135ae1",
   "metadata": {},
   "source": [
    "- No duplicates in the data"
   ]
  },
  {
   "cell_type": "markdown",
   "id": "cef37433-d414-43b4-9c65-d488b7313074",
   "metadata": {},
   "source": [
    "## High cardinality handling\n",
    "- Threshold of 50 unique categories was selected"
   ]
  },
  {
   "cell_type": "code",
   "execution_count": 7,
   "id": "58c0422c-9fc5-4ad5-9eed-ae1c8896cd2c",
   "metadata": {},
   "outputs": [],
   "source": [
    "high_cardinality_columns = [\n",
    "    col for col in data_accepted.columns \n",
    "    if data_accepted[col].dtype == 'object' and data_accepted[col].nunique() > 50\n",
    "]"
   ]
  },
  {
   "cell_type": "markdown",
   "id": "72d9bb42-0559-4445-8cbd-2145b79fa5bf",
   "metadata": {},
   "source": [
    "## Taking a look at filtered high cardinality features"
   ]
  },
  {
   "cell_type": "code",
   "execution_count": 8,
   "id": "34e5aa45-b398-488d-8218-80e92a8c5f6b",
   "metadata": {},
   "outputs": [
    {
     "data": {
      "text/html": [
       "<div>\n",
       "<style scoped>\n",
       "    .dataframe tbody tr th:only-of-type {\n",
       "        vertical-align: middle;\n",
       "    }\n",
       "\n",
       "    .dataframe tbody tr th {\n",
       "        vertical-align: top;\n",
       "    }\n",
       "\n",
       "    .dataframe thead th {\n",
       "        text-align: right;\n",
       "    }\n",
       "</style>\n",
       "<table border=\"1\" class=\"dataframe\">\n",
       "  <thead>\n",
       "    <tr style=\"text-align: right;\">\n",
       "      <th></th>\n",
       "      <th>id</th>\n",
       "      <th>emp_title</th>\n",
       "      <th>issue_d</th>\n",
       "      <th>url</th>\n",
       "      <th>title</th>\n",
       "      <th>zip_code</th>\n",
       "      <th>addr_state</th>\n",
       "      <th>earliest_cr_line</th>\n",
       "      <th>last_pymnt_d</th>\n",
       "      <th>last_credit_pull_d</th>\n",
       "    </tr>\n",
       "  </thead>\n",
       "  <tbody>\n",
       "    <tr>\n",
       "      <th>0</th>\n",
       "      <td>68407277</td>\n",
       "      <td>leadman</td>\n",
       "      <td>Dec-2015</td>\n",
       "      <td>https://lendingclub.com/browse/loanDetail.acti...</td>\n",
       "      <td>Debt consolidation</td>\n",
       "      <td>190xx</td>\n",
       "      <td>PA</td>\n",
       "      <td>Aug-2003</td>\n",
       "      <td>Jan-2019</td>\n",
       "      <td>Mar-2019</td>\n",
       "    </tr>\n",
       "    <tr>\n",
       "      <th>1</th>\n",
       "      <td>68355089</td>\n",
       "      <td>Engineer</td>\n",
       "      <td>Dec-2015</td>\n",
       "      <td>https://lendingclub.com/browse/loanDetail.acti...</td>\n",
       "      <td>Business</td>\n",
       "      <td>577xx</td>\n",
       "      <td>SD</td>\n",
       "      <td>Dec-1999</td>\n",
       "      <td>Jun-2016</td>\n",
       "      <td>Mar-2019</td>\n",
       "    </tr>\n",
       "    <tr>\n",
       "      <th>2</th>\n",
       "      <td>68341763</td>\n",
       "      <td>truck driver</td>\n",
       "      <td>Dec-2015</td>\n",
       "      <td>https://lendingclub.com/browse/loanDetail.acti...</td>\n",
       "      <td>NaN</td>\n",
       "      <td>605xx</td>\n",
       "      <td>IL</td>\n",
       "      <td>Aug-2000</td>\n",
       "      <td>Jun-2017</td>\n",
       "      <td>Mar-2019</td>\n",
       "    </tr>\n",
       "    <tr>\n",
       "      <th>3</th>\n",
       "      <td>66310712</td>\n",
       "      <td>Information Systems Officer</td>\n",
       "      <td>Dec-2015</td>\n",
       "      <td>https://lendingclub.com/browse/loanDetail.acti...</td>\n",
       "      <td>Debt consolidation</td>\n",
       "      <td>076xx</td>\n",
       "      <td>NJ</td>\n",
       "      <td>Sep-2008</td>\n",
       "      <td>Feb-2019</td>\n",
       "      <td>Mar-2019</td>\n",
       "    </tr>\n",
       "    <tr>\n",
       "      <th>4</th>\n",
       "      <td>68476807</td>\n",
       "      <td>Contract Specialist</td>\n",
       "      <td>Dec-2015</td>\n",
       "      <td>https://lendingclub.com/browse/loanDetail.acti...</td>\n",
       "      <td>Major purchase</td>\n",
       "      <td>174xx</td>\n",
       "      <td>PA</td>\n",
       "      <td>Jun-1998</td>\n",
       "      <td>Jul-2016</td>\n",
       "      <td>Mar-2018</td>\n",
       "    </tr>\n",
       "  </tbody>\n",
       "</table>\n",
       "</div>"
      ],
      "text/plain": [
       "         id                    emp_title   issue_d  \\\n",
       "0  68407277                      leadman  Dec-2015   \n",
       "1  68355089                     Engineer  Dec-2015   \n",
       "2  68341763                 truck driver  Dec-2015   \n",
       "3  66310712  Information Systems Officer  Dec-2015   \n",
       "4  68476807          Contract Specialist  Dec-2015   \n",
       "\n",
       "                                                 url               title  \\\n",
       "0  https://lendingclub.com/browse/loanDetail.acti...  Debt consolidation   \n",
       "1  https://lendingclub.com/browse/loanDetail.acti...            Business   \n",
       "2  https://lendingclub.com/browse/loanDetail.acti...                 NaN   \n",
       "3  https://lendingclub.com/browse/loanDetail.acti...  Debt consolidation   \n",
       "4  https://lendingclub.com/browse/loanDetail.acti...      Major purchase   \n",
       "\n",
       "  zip_code addr_state earliest_cr_line last_pymnt_d last_credit_pull_d  \n",
       "0    190xx         PA         Aug-2003     Jan-2019           Mar-2019  \n",
       "1    577xx         SD         Dec-1999     Jun-2016           Mar-2019  \n",
       "2    605xx         IL         Aug-2000     Jun-2017           Mar-2019  \n",
       "3    076xx         NJ         Sep-2008     Feb-2019           Mar-2019  \n",
       "4    174xx         PA         Jun-1998     Jul-2016           Mar-2018  "
      ]
     },
     "execution_count": 8,
     "metadata": {},
     "output_type": "execute_result"
    }
   ],
   "source": [
    "data_accepted[high_cardinality_columns].head()"
   ]
  },
  {
   "cell_type": "code",
   "execution_count": 9,
   "id": "e6b503d3-65ca-40e5-986a-ee16a7f2a015",
   "metadata": {},
   "outputs": [
    {
     "data": {
      "text/plain": [
       "id                    2260668\n",
       "emp_title              512694\n",
       "issue_d                   139\n",
       "url                   2260668\n",
       "title                   63154\n",
       "zip_code                  956\n",
       "addr_state                 51\n",
       "earliest_cr_line          754\n",
       "last_pymnt_d              136\n",
       "last_credit_pull_d        141\n",
       "dtype: int64"
      ]
     },
     "execution_count": 9,
     "metadata": {},
     "output_type": "execute_result"
    }
   ],
   "source": [
    "data_accepted[high_cardinality_columns].nunique()"
   ]
  },
  {
   "cell_type": "code",
   "execution_count": 10,
   "id": "f33f7b78-1526-465c-bb76-57e78c5b2cd9",
   "metadata": {},
   "outputs": [],
   "source": [
    "data_accepted.drop(['url','title','id','zip_code'], axis=1, inplace=True)"
   ]
  },
  {
   "cell_type": "markdown",
   "id": "4171f1fe-9770-49a9-90a9-c744f7bb9c17",
   "metadata": {},
   "source": [
    "- Removing url, title, id and zip_code."
   ]
  },
  {
   "cell_type": "markdown",
   "id": "6c201011-add9-4a76-bed7-1b184ffb721a",
   "metadata": {},
   "source": [
    "- Standardizing format of emp_title feature"
   ]
  },
  {
   "cell_type": "code",
   "execution_count": 11,
   "id": "220e33c3-85dc-48f3-b339-fa6988ac74e3",
   "metadata": {},
   "outputs": [],
   "source": [
    "data_accepted['emp_title'] = (\n",
    "    data_accepted['emp_title'].str.lower()\n",
    "    .str.replace('_', ' ')\n",
    "    .apply(lambda x: re.sub(r'[^a-z\\s]', '', str(x)))\n",
    ")\n",
    "\n",
    "data_accepted['emp_title'] = data_accepted['emp_title'].replace('nan', np.nan)\n",
    "top_20_titles = data_accepted['emp_title'].value_counts().nlargest(20).index.tolist()\n",
    "data_accepted['emp_title'] = data_accepted['emp_title'].apply(\n",
    "    lambda x: x if x in top_20_titles else ('other' if pd.notna(x) else x)\n",
    ")"
   ]
  },
  {
   "cell_type": "code",
   "execution_count": 12,
   "id": "eba0a784-3b91-47fa-ab2e-8b2f17c5e242",
   "metadata": {},
   "outputs": [
    {
     "data": {
      "text/plain": [
       "21"
      ]
     },
     "execution_count": 12,
     "metadata": {},
     "output_type": "execute_result"
    }
   ],
   "source": [
    "data_accepted['emp_title'].nunique()"
   ]
  },
  {
   "cell_type": "markdown",
   "id": "2b788797-55ba-4b7e-8908-5cd302c84e08",
   "metadata": {},
   "source": [
    "- We are left with 21 unique categories 1 being 'Other' representing all categories not in top 20"
   ]
  },
  {
   "cell_type": "markdown",
   "id": "b83164e0-2394-4a8d-9886-d7b237ced108",
   "metadata": {
    "tags": []
   },
   "source": [
    "\n",
    "## Datetime feature conversion\n"
   ]
  },
  {
   "cell_type": "code",
   "execution_count": 13,
   "id": "22f2b78c-d1ef-4708-8e5d-61251ed5381a",
   "metadata": {},
   "outputs": [],
   "source": [
    "data_accepted['issue_d'] = pd.to_datetime(data_accepted['issue_d'], format='%b-%Y')\n",
    "data_accepted['earliest_cr_line'] = pd.to_datetime(data_accepted['earliest_cr_line'], format='%b-%Y')\n",
    "data_accepted['last_pymnt_d'] = pd.to_datetime(data_accepted['last_pymnt_d'], format='%b-%Y')\n",
    "data_accepted['last_credit_pull_d'] = pd.to_datetime(data_accepted['last_credit_pull_d'], format='%b-%Y')"
   ]
  },
  {
   "cell_type": "code",
   "execution_count": 14,
   "id": "f3cc0aba-452e-4c46-b916-258addbf55d5",
   "metadata": {},
   "outputs": [
    {
     "data": {
      "text/plain": [
       "float64           68\n",
       "object            16\n",
       "datetime64[ns]     4\n",
       "Name: count, dtype: int64"
      ]
     },
     "execution_count": 14,
     "metadata": {},
     "output_type": "execute_result"
    }
   ],
   "source": [
    "data_accepted.dtypes.value_counts()"
   ]
  },
  {
   "cell_type": "code",
   "execution_count": 15,
   "id": "25657a48-ce6a-433f-82d0-b0364cd654cb",
   "metadata": {},
   "outputs": [
    {
     "data": {
      "text/plain": [
       "51"
      ]
     },
     "execution_count": 15,
     "metadata": {},
     "output_type": "execute_result"
    }
   ],
   "source": [
    "data_accepted['addr_state'].nunique()"
   ]
  },
  {
   "cell_type": "markdown",
   "id": "82497acc-8f6d-4201-b835-d07848dff74d",
   "metadata": {},
   "source": [
    "- add_state feature will be kept with its 51 categories as it might bring important modeling importance later."
   ]
  },
  {
   "cell_type": "code",
   "execution_count": 16,
   "id": "ef9bf0d2-826b-4e5b-99ca-825225b5cd7f",
   "metadata": {},
   "outputs": [
    {
     "data": {
      "text/plain": [
       "(2260668, 88)"
      ]
     },
     "execution_count": 16,
     "metadata": {},
     "output_type": "execute_result"
    }
   ],
   "source": [
    "data_accepted.shape"
   ]
  },
  {
   "cell_type": "markdown",
   "id": "1f8008ea-48d1-40f5-9967-7b80c04bd6ab",
   "metadata": {},
   "source": [
    "- **Features reduced by 63 during this process with 88 still left and over 2.26 milion data points**"
   ]
  },
  {
   "cell_type": "code",
   "execution_count": 17,
   "id": "9d0bd738-2f74-484e-845d-46e464027675",
   "metadata": {},
   "outputs": [],
   "source": [
    "numerical_columns = data_accepted.select_dtypes(include=['float64', 'int64'])\n",
    "missing_values = numerical_columns.isnull().sum()"
   ]
  },
  {
   "cell_type": "code",
   "execution_count": 18,
   "id": "ceff22ba-9a3e-4884-83d2-4fcbab0b9155",
   "metadata": {},
   "outputs": [
    {
     "data": {
      "text/plain": [
       "count        68.000000\n",
       "mean      35166.617647\n",
       "std       39010.214282\n",
       "min           0.000000\n",
       "25%           0.000000\n",
       "50%        1756.500000\n",
       "75%       70276.000000\n",
       "max      153657.000000\n",
       "dtype: float64"
      ]
     },
     "execution_count": 18,
     "metadata": {},
     "output_type": "execute_result"
    }
   ],
   "source": [
    "missing_values.describe()"
   ]
  },
  {
   "cell_type": "code",
   "execution_count": 19,
   "id": "cb311803-8931-4805-a938-076e08abd0e2",
   "metadata": {},
   "outputs": [
    {
     "data": {
      "text/plain": [
       "(2260668, 68)"
      ]
     },
     "execution_count": 19,
     "metadata": {},
     "output_type": "execute_result"
    }
   ],
   "source": [
    "numerical_columns.shape"
   ]
  },
  {
   "cell_type": "code",
   "execution_count": 20,
   "id": "de6eb19f-149a-4833-9eed-bf01319a3df3",
   "metadata": {},
   "outputs": [
    {
     "name": "stdout",
     "output_type": "stream",
     "text": [
      "num_accts_ever_120_pd: 502976 outliers (22.96%)\n",
      "delinq_2yrs: 421531 outliers (18.65%)\n",
      "pub_rec: 357881 outliers (15.83%)\n",
      "tot_coll_amt: 334263 outliers (15.26%)\n",
      "last_pymnt_amnt: 313415 outliers (13.86%)\n",
      "pub_rec_bankruptcies: 271920 outliers (12.04%)\n",
      "out_prncp_inv: 212305 outliers (9.39%)\n",
      "out_prncp: 212242 outliers (9.39%)\n",
      "mths_since_recent_bc: 186169 outliers (8.51%)\n",
      "recoveries: 185432 outliers (8.20%)\n",
      "bc_open_to_buy: 180429 outliers (8.25%)\n",
      "collection_recovery_fee: 177013 outliers (7.83%)\n",
      "mo_sin_rcnt_rev_tl_op: 171177 outliers (7.81%)\n",
      "total_rec_int: 163420 outliers (7.23%)\n",
      "pct_tl_nvr_dlq: 148872 outliers (6.80%)\n",
      "revol_bal: 137095 outliers (6.06%)\n",
      "total_bal_ex_mort: 131127 outliers (5.93%)\n",
      "total_bc_limit: 129699 outliers (5.87%)\n",
      "total_rev_hi_lim: 127152 outliers (5.80%)\n",
      "avg_cur_bal: 118015 outliers (5.39%)\n",
      "num_tl_90g_dpd_24m: 117332 outliers (5.36%)\n",
      "total_il_high_credit_limit: 111518 outliers (5.09%)\n",
      "mo_sin_rcnt_tl: 110296 outliers (5.04%)\n",
      "annual_inc: 110041 outliers (4.87%)\n",
      "num_bc_sats: 106663 outliers (4.84%)\n",
      "num_il_tl: 100049 outliers (4.57%)\n",
      "last_fico_range_high: 98414 outliers (4.35%)\n",
      "last_fico_range_low: 98414 outliers (4.35%)\n",
      "num_op_rev_tl: 98094 outliers (4.48%)\n",
      "inq_last_6mths: 94314 outliers (4.17%)\n",
      "total_rec_late_fee: 87155 outliers (3.86%)\n",
      "open_acc: 84754 outliers (3.75%)\n",
      "total_pymnt_inv: 84034 outliers (3.72%)\n",
      "total_pymnt: 83848 outliers (3.71%)\n",
      "num_sats: 83072 outliers (3.77%)\n",
      "tot_cur_bal: 77390 outliers (3.53%)\n",
      "tot_hi_cred_lim: 75688 outliers (3.46%)\n",
      "fico_range_low: 74846 outliers (3.31%)\n",
      "fico_range_high: 74846 outliers (3.31%)\n",
      "mo_sin_old_il_acct: 68032 outliers (3.21%)\n",
      "installment: 66312 outliers (2.93%)\n",
      "num_actv_rev_tl: 65929 outliers (3.01%)\n",
      "tax_liens: 64630 outliers (2.86%)\n",
      "total_rec_prncp: 64014 outliers (2.83%)\n",
      "mo_sin_old_rev_tl_op: 62970 outliers (2.87%)\n",
      "num_rev_tl_bal_gt_0: 59828 outliers (2.73%)\n",
      "num_rev_accts: 57491 outliers (2.62%)\n",
      "num_tl_op_past_12m: 55466 outliers (2.53%)\n",
      "num_bc_tl: 52341 outliers (2.39%)\n",
      "num_actv_bc_tl: 51949 outliers (2.37%)\n",
      "acc_open_past_24mths: 48076 outliers (2.17%)\n",
      "int_rate: 41099 outliers (1.82%)\n",
      "total_acc: 39411 outliers (1.74%)\n",
      "collections_12_mths_ex_med: 37438 outliers (1.66%)\n",
      "loan_amnt: 35215 outliers (1.56%)\n",
      "funded_amnt: 35215 outliers (1.56%)\n",
      "funded_amnt_inv: 35212 outliers (1.56%)\n",
      "mort_acc: 23902 outliers (1.08%)\n",
      "dti: 21580 outliers (0.96%)\n",
      "chargeoff_within_12_mths: 17184 outliers (0.76%)\n",
      "acc_now_delinq: 8782 outliers (0.39%)\n",
      "delinq_amnt: 7174 outliers (0.32%)\n",
      "num_tl_30dpd: 5831 outliers (0.27%)\n",
      "num_tl_120dpd_2m: 1273 outliers (0.06%)\n",
      "revol_util: 114 outliers (0.01%)\n",
      "bc_util: 82 outliers (0.00%)\n",
      "policy_code: 0 outliers (0.00%)\n",
      "percent_bc_gt_75: 0 outliers (0.00%)\n"
     ]
    }
   ],
   "source": [
    "# Calculating the proportion of outliers based on 1.5IQR rule, and imputing based on that. \n",
    "\n",
    "numerical_columns = data_accepted.select_dtypes(include=['float64', 'int64']).columns\n",
    "outliers_info = {}\n",
    "for column in numerical_columns:\n",
    "    Q1 = data_accepted[column].quantile(0.25)\n",
    "    Q3 = data_accepted[column].quantile(0.75)\n",
    "    IQR = Q3 - Q1\n",
    "    lower_bound = Q1 - 1.5 * IQR\n",
    "    upper_bound = Q3 + 1.5 * IQR\n",
    "    outliers = data_accepted[(data_accepted[column] < lower_bound) | (data_accepted[column] > upper_bound)]\n",
    "    outliers_count = len(outliers)\n",
    "    non_nan_count = data_accepted[column].count()\n",
    "    outliers_percentage = (outliers_count / non_nan_count) * 100 if non_nan_count > 0 else 0\n",
    "    outliers_info[column] = {'count': outliers_count, 'percentage': outliers_percentage}\n",
    "\n",
    "sorted_outliers_info = dict(sorted(outliers_info.items(), key=lambda item: item[1]['count'], reverse=True))\n",
    "\n",
    "for column, info in sorted_outliers_info.items():\n",
    "    print(f\"{column}: {info['count']} outliers ({info['percentage']:.2f}%)\")"
   ]
  },
  {
   "cell_type": "markdown",
   "id": "1bbc36e7-4e16-4ee3-9f77-fd3d403ca8cd",
   "metadata": {},
   "source": [
    "## Imputation of missing values based on number of outliers"
   ]
  },
  {
   "cell_type": "code",
   "execution_count": 21,
   "id": "46425db4-44fd-499b-85d5-9550242444e1",
   "metadata": {},
   "outputs": [],
   "source": [
    "outliers_df = pd.DataFrame(sorted_outliers_info).T\n",
    "\n",
    "median_imputer = SimpleImputer(strategy='median')\n",
    "mean_imputer = SimpleImputer(strategy='mean')\n",
    "\n",
    "for column, data in outliers_df.iterrows():\n",
    "    if data['percentage'] > 5:\n",
    "        data_accepted[column] = data_accepted[column].apply(lambda x: np.log1p(x) if x > 0 else x)\n",
    "\n",
    "        data_accepted[column] = median_imputer.fit_transform(data_accepted[[column]])\n",
    "    elif 1 <= data['percentage'] <= 5:\n",
    "        # Moderate percentage of outliers - median imputation\n",
    "        data_accepted[column] = median_imputer.fit_transform(data_accepted[[column]])\n",
    "    elif data['percentage'] < 1:\n",
    "        # Low percentage of outliers - mean imputation\n",
    "        data_accepted[column] = mean_imputer.fit_transform(data_accepted[[column]])"
   ]
  },
  {
   "cell_type": "markdown",
   "id": "af3faa14-ff35-472e-941e-c0269bee6e0f",
   "metadata": {},
   "source": [
    "- High Percentage of Outliers (over 5%): Apply a logarithmic transformation to positive values in the column to reduce the impact of outliers.\n",
    "-  Moderate Percentage of Outliers (1% to 5%): Replace outliers using median values without any prior transformation.\n",
    "- Low Percentage of Outliers (less than 1%): Replace outliers using mean values."
   ]
  },
  {
   "cell_type": "code",
   "execution_count": 22,
   "id": "43e6194c-5eb2-46ea-9b95-41eb2182ba60",
   "metadata": {},
   "outputs": [
    {
     "data": {
      "text/plain": [
       "emp_title             166969\n",
       "emp_length            146907\n",
       "earliest_cr_line          29\n",
       "last_pymnt_d            2427\n",
       "last_credit_pull_d        72\n",
       "dtype: int64"
      ]
     },
     "execution_count": 22,
     "metadata": {},
     "output_type": "execute_result"
    }
   ],
   "source": [
    "data_accepted.isnull().sum()[data_accepted.isnull().sum() != 0]"
   ]
  },
  {
   "cell_type": "code",
   "execution_count": 23,
   "id": "a61e9a54-da12-4058-a600-2dd8db9ac7a0",
   "metadata": {},
   "outputs": [],
   "source": [
    "data_accepted.dropna(subset=['earliest_cr_line','last_pymnt_d','last_credit_pull_d'], inplace=True)"
   ]
  },
  {
   "cell_type": "code",
   "execution_count": 24,
   "id": "487ede0a-6d7c-4084-8c46-a3bfba11115d",
   "metadata": {},
   "outputs": [
    {
     "data": {
      "text/plain": [
       "emp_title     166677\n",
       "emp_length    146657\n",
       "dtype: int64"
      ]
     },
     "execution_count": 24,
     "metadata": {},
     "output_type": "execute_result"
    }
   ],
   "source": [
    "data_accepted.isnull().sum()[data_accepted.isnull().sum() != 0]"
   ]
  },
  {
   "cell_type": "code",
   "execution_count": 25,
   "id": "63ca33d2-fdd7-488e-917a-487a0a31fc6f",
   "metadata": {},
   "outputs": [],
   "source": [
    "def proportional_imputation(column):\n",
    "    distribution = data_accepted[column].value_counts(normalize=True)\n",
    "    missing_count = data_accepted[column].isnull().sum()\n",
    "    imputed_values = np.random.choice(distribution.index, size=missing_count, p=distribution.values)\n",
    "    data_accepted.loc[data_accepted[column].isnull(), column] = imputed_values\n",
    "\n",
    "proportional_imputation('emp_length')\n",
    "proportional_imputation('emp_title')"
   ]
  },
  {
   "cell_type": "markdown",
   "id": "89bfa35c-0bee-41b7-af6a-98f364c621aa",
   "metadata": {},
   "source": [
    "- Proportinal imputation of categorical values of these two features"
   ]
  },
  {
   "cell_type": "code",
   "execution_count": 26,
   "id": "3899c3a7-6217-4b8f-a788-04eae3298488",
   "metadata": {},
   "outputs": [
    {
     "data": {
      "text/plain": [
       "0"
      ]
     },
     "execution_count": 26,
     "metadata": {},
     "output_type": "execute_result"
    }
   ],
   "source": [
    "data_accepted.isnull().sum().sum()"
   ]
  },
  {
   "cell_type": "markdown",
   "id": "f356a463-b222-4997-9800-680cee1e74f9",
   "metadata": {},
   "source": [
    "No missing values."
   ]
  },
  {
   "cell_type": "code",
   "execution_count": 27,
   "id": "4167e025-d883-4a56-b77d-f6385b29ac1c",
   "metadata": {},
   "outputs": [
    {
     "data": {
      "text/plain": [
       "float64           68\n",
       "object            16\n",
       "datetime64[ns]     4\n",
       "Name: count, dtype: int64"
      ]
     },
     "execution_count": 27,
     "metadata": {},
     "output_type": "execute_result"
    }
   ],
   "source": [
    "data_accepted.dtypes.value_counts()"
   ]
  },
  {
   "cell_type": "markdown",
   "id": "a3632493-2e3c-472a-940e-d95a8558b338",
   "metadata": {},
   "source": [
    "## Saving the dataset"
   ]
  },
  {
   "cell_type": "code",
   "execution_count": 28,
   "id": "9f2c252b-5ca5-4a89-9c48-8bc3ec9b6862",
   "metadata": {},
   "outputs": [],
   "source": [
    "data_accepted.to_csv('./Datasets/Data Accepted Cleaned For Dimensionality Reduction.csv',index=False)"
   ]
  },
  {
   "cell_type": "markdown",
   "id": "08e3b6db-0afa-4db4-b2d1-c8f77968a88f",
   "metadata": {},
   "source": [
    "## What could have I done better:"
   ]
  },
  {
   "cell_type": "markdown",
   "id": "52691bb5-4c75-4148-93de-7bf06c95cc19",
   "metadata": {},
   "source": [
    "- Use more advanced imputation techniques.\n",
    "- Streamlined this process using pipeline objects."
   ]
  },
  {
   "cell_type": "code",
   "execution_count": null,
   "id": "d0f8da81-65e6-44fc-b4cd-447d1d50232a",
   "metadata": {},
   "outputs": [],
   "source": []
  }
 ],
 "metadata": {
  "kernelspec": {
   "display_name": "Python 3 (ipykernel)",
   "language": "python",
   "name": "python3"
  },
  "language_info": {
   "codemirror_mode": {
    "name": "ipython",
    "version": 3
   },
   "file_extension": ".py",
   "mimetype": "text/x-python",
   "name": "python",
   "nbconvert_exporter": "python",
   "pygments_lexer": "ipython3",
   "version": "3.11.5"
  }
 },
 "nbformat": 4,
 "nbformat_minor": 5
}
