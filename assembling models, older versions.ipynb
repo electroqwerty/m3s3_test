{
 "cells": [
  {
   "cell_type": "markdown",
   "id": "4fbf3991-aebd-464f-8505-c9238d9a05c1",
   "metadata": {
    "tags": []
   },
   "source": [
    "# STATUS MODELS"
   ]
  },
  {
   "cell_type": "code",
   "execution_count": null,
   "id": "953cefd7-6b73-44d2-8519-bdd6074ee439",
   "metadata": {},
   "outputs": [
    {
     "data": {
      "text/plain": [
       "loan_status\n",
       "0    2397894\n",
       "1     202441\n",
       "Name: count, dtype: int64"
      ]
     },
     "execution_count": 10,
     "metadata": {},
     "output_type": "execute_result"
    }
   ],
   "source": [
    "sampled_data['loan_status'].value_counts()"
   ]
  },
  {
   "cell_type": "code",
   "execution_count": null,
   "id": "7969bc72-d422-4849-9715-b2bb56fe1804",
   "metadata": {},
   "outputs": [
    {
     "data": {
      "text/plain": [
       "11.844902959380757"
      ]
     },
     "execution_count": 12,
     "metadata": {},
     "output_type": "execute_result"
    }
   ],
   "source": [
    "sampled_data['loan_status'].value_counts()[0] / sampled_data['loan_status'].value_counts()[1]"
   ]
  },
  {
   "cell_type": "code",
   "execution_count": null,
   "id": "99e06ac6-9a9a-45a5-a9f2-e1550c032907",
   "metadata": {},
   "outputs": [],
   "source": [
    "model_2 = cb.CatBoostClassifier(\n",
    "    iterations=2500\n",
    "    cat_features=categorical_features,\n",
    "    eval_metric='Logloss',\n",
    "    early_stopping_rounds=500,\n",
    "    random_state=42,\n",
    "    scale_pos_weight=9\n",
    ")"
   ]
  },
  {
   "cell_type": "code",
   "execution_count": null,
   "id": "f57b4fa0-1c09-4602-87f1-627e5f7e712e",
   "metadata": {
    "scrolled": true
   },
   "outputs": [
    {
     "data": {
      "application/vnd.jupyter.widget-view+json": {
       "model_id": "72e5921ecc624a4fa9bd4b044e1fc14a",
       "version_major": 2,
       "version_minor": 0
      },
      "text/plain": [
       "MetricVisualizer(layout=Layout(align_self='stretch', height='500px'))"
      ]
     },
     "metadata": {},
     "output_type": "display_data"
    },
    {
     "name": "stdout",
     "output_type": "stream",
     "text": [
      "Learning rate set to 0.114473\n",
      "0:\tlearn: 0.5706903\ttest: 0.5706431\tbest: 0.5706431 (0)\ttotal: 508ms\tremaining: 21m 9s\n",
      "100:\tlearn: 0.2230370\ttest: 0.2226688\tbest: 0.2226688 (100)\ttotal: 52.5s\tremaining: 20m 47s\n",
      "200:\tlearn: 0.2140999\ttest: 0.2140446\tbest: 0.2140446 (200)\ttotal: 2m 31s\tremaining: 28m 54s\n",
      "300:\tlearn: 0.2105588\ttest: 0.2110770\tbest: 0.2110770 (300)\ttotal: 3m 38s\tremaining: 26m 34s\n",
      "400:\tlearn: 0.2078532\ttest: 0.2094429\tbest: 0.2094429 (400)\ttotal: 5m 1s\tremaining: 26m 19s\n",
      "500:\tlearn: 0.2058772\ttest: 0.2082893\tbest: 0.2082893 (500)\ttotal: 6m 27s\tremaining: 25m 44s\n",
      "600:\tlearn: 0.2042001\ttest: 0.2075405\tbest: 0.2075405 (600)\ttotal: 7m 47s\tremaining: 24m 38s\n",
      "700:\tlearn: 0.2026625\ttest: 0.2071515\tbest: 0.2071515 (700)\ttotal: 9m 5s\tremaining: 23m 19s\n",
      "800:\tlearn: 0.2013127\ttest: 0.2068420\tbest: 0.2068420 (800)\ttotal: 10m 31s\tremaining: 22m 19s\n",
      "900:\tlearn: 0.2001036\ttest: 0.2066661\tbest: 0.2066536 (896)\ttotal: 11m 57s\tremaining: 21m 13s\n",
      "1000:\tlearn: 0.1989671\ttest: 0.2064457\tbest: 0.2064454 (999)\ttotal: 13m 23s\tremaining: 20m 2s\n",
      "1100:\tlearn: 0.1979437\ttest: 0.2063228\tbest: 0.2063192 (1099)\ttotal: 14m 48s\tremaining: 18m 48s\n",
      "1200:\tlearn: 0.1970472\ttest: 0.2063362\tbest: 0.2063170 (1103)\ttotal: 16m 9s\tremaining: 17m 28s\n",
      "Stopped by overfitting detector  (100 iterations wait)\n",
      "\n",
      "bestTest = 0.2063169803\n",
      "bestIteration = 1103\n",
      "\n",
      "Shrink model to first 1104 iterations.\n",
      "Training completed in 979.79 seconds\n",
      "              precision    recall  f1-score   support\n",
      "\n",
      "     Class 0       0.99      0.95      0.97    719369\n",
      "     Class 1       0.59      0.90      0.71     60732\n",
      "\n",
      "    accuracy                           0.94    780101\n",
      "   macro avg       0.79      0.93      0.84    780101\n",
      "weighted avg       0.96      0.94      0.95    780101\n",
      "\n"
     ]
    }
   ],
   "source": [
    "start_time = time.time()\n",
    "model_2.fit(\n",
    "    X_train, \n",
    "    y_train, \n",
    "    eval_set=(X_validation, y_validation), \n",
    "    verbose=100,\n",
    "    plot=True,\n",
    "    early_stopping_rounds=100\n",
    ")\n",
    "end_time = time.time()\n",
    "training_duration = end_time - start_time\n",
    "print(f\"Training completed in {training_duration:.2f} seconds\")\n",
    "\n",
    "y_pred = model_2.predict(X_test)\n",
    "y_pred_proba = model_2.predict_proba(X_test)[:, 1]\n",
    "\n",
    "report = classification_report(y_test, y_pred, target_names=['Class 0', 'Class 1'])\n",
    "\n",
    "print(report)"
   ]
  },
  {
   "cell_type": "code",
   "execution_count": null,
   "id": "c20fe824-afb6-448f-9335-2b51e5722717",
   "metadata": {},
   "outputs": [],
   "source": [
    "model_3 = cb.CatBoostClassifier(\n",
    "    cat_features=categorical_features,\n",
    "    eval_metric='Logloss',\n",
    "    early_stopping_rounds=50,\n",
    "    random_state=42,\n",
    "    scale_pos_weight=5\n",
    ")"
   ]
  },
  {
   "cell_type": "code",
   "execution_count": null,
   "id": "af2efb28-d222-4761-9925-a01c3d793669",
   "metadata": {
    "tags": []
   },
   "outputs": [
    {
     "data": {
      "application/vnd.jupyter.widget-view+json": {
       "model_id": "",
       "version_major": 2,
       "version_minor": 0
      },
      "text/plain": [
       "MetricVisualizer(layout=Layout(align_self='stretch', height='500px'))"
      ]
     },
     "metadata": {},
     "output_type": "display_data"
    },
    {
     "name": "stdout",
     "output_type": "stream",
     "text": [
      "Learning rate set to 0.170532\n",
      "0:\tlearn: 0.5028796\ttest: 0.5028489\tbest: 0.5028489 (0)\ttotal: 593ms\tremaining: 9m 52s\n",
      "100:\tlearn: 0.1973001\ttest: 0.1969415\tbest: 0.1969415 (100)\ttotal: 1m\tremaining: 8m 57s\n",
      "200:\tlearn: 0.1910676\ttest: 0.1914255\tbest: 0.1914255 (200)\ttotal: 2m 21s\tremaining: 9m 21s\n",
      "300:\tlearn: 0.1881866\ttest: 0.1894987\tbest: 0.1894987 (300)\ttotal: 3m 38s\tremaining: 8m 28s\n",
      "400:\tlearn: 0.1861810\ttest: 0.1884183\tbest: 0.1884183 (400)\ttotal: 4m 58s\tremaining: 7m 26s\n",
      "500:\tlearn: 0.1846975\ttest: 0.1879094\tbest: 0.1879090 (499)\ttotal: 6m 23s\tremaining: 6m 21s\n",
      "600:\tlearn: 0.1832979\ttest: 0.1875289\tbest: 0.1875288 (599)\ttotal: 7m 49s\tremaining: 5m 11s\n",
      "700:\tlearn: 0.1821951\ttest: 0.1873420\tbest: 0.1873350 (689)\ttotal: 9m 6s\tremaining: 3m 53s\n",
      "800:\tlearn: 0.1809671\ttest: 0.1871843\tbest: 0.1871843 (800)\ttotal: 10m 32s\tremaining: 2m 37s\n",
      "900:\tlearn: 0.1798351\ttest: 0.1871120\tbest: 0.1871053 (891)\ttotal: 11m 56s\tremaining: 1m 18s\n",
      "999:\tlearn: 0.1789600\ttest: 0.1870319\tbest: 0.1870273 (993)\ttotal: 13m 21s\tremaining: 0us\n",
      "\n",
      "bestTest = 0.1870273004\n",
      "bestIteration = 993\n",
      "\n",
      "Shrink model to first 994 iterations.\n",
      "Training completed in 809.97 seconds\n",
      "              precision    recall  f1-score   support\n",
      "\n",
      "     Class 0       0.99      0.96      0.97    719369\n",
      "     Class 1       0.64      0.88      0.74     60732\n",
      "\n",
      "    accuracy                           0.95    780101\n",
      "   macro avg       0.81      0.92      0.86    780101\n",
      "weighted avg       0.96      0.95      0.96    780101\n",
      "\n"
     ]
    }
   ],
   "source": [
    "start_time = time.time()\n",
    "model_3.fit(\n",
    "    X_train, \n",
    "    y_train, \n",
    "    eval_set=(X_validation, y_validation), \n",
    "    verbose=100,\n",
    "    plot=True,\n",
    "    early_stozddpping_rounds=100\n",
    ")\n",
    "end_time = time.time()\n",
    "training_duration = end_time - start_time\n",
    "print(f\"Training completed in {training_duration:.2f} seconds\")\n",
    "\n",
    "y_pred = model_3.predict(X_test)\n",
    "y_pred_proba = model_3.predict_proba(X_test)[:, 1]\n",
    "\n",
    "report = classification_report(y_test, y_pred, target_names=['Class 0', 'Class 1'])\n",
    "\n",
    "print(report)"
   ]
  },
  {
   "cell_type": "code",
   "execution_count": null,
   "id": "7381562f-133c-4dc7-a7cd-107bd2bc5d19",
   "metadata": {},
   "outputs": [],
   "source": [
    "model_4 = cb.CatBoostClassifier(\n",
    "    cat_features=categorical_features,\n",
    "    eval_metric='Logloss',\n",
    "    early_stopping_rounds=50,\n",
    "    random_state=42,\n",
    "    scale_pos_weight=5\n",
    ")"
   ]
  },
  {
   "cell_type": "code",
   "execution_count": null,
   "id": "5ca95f8c-d459-4c9c-9aa4-736fa1a9f2f9",
   "metadata": {},
   "outputs": [
    {
     "data": {
      "application/vnd.jupyter.widget-view+json": {
       "model_id": "c2c8c6c3cec34c9bad5f99e1e51b41f5",
       "version_major": 2,
       "version_minor": 0
      },
      "text/plain": [
       "MetricVisualizer(layout=Layout(align_self='stretch', height='500px'))"
      ]
     },
     "metadata": {},
     "output_type": "display_data"
    },
    {
     "name": "stdout",
     "output_type": "stream",
     "text": [
      "Learning rate set to 0.170532\n",
      "0:\tlearn: 0.5028796\ttest: 0.5028489\tbest: 0.5028489 (0)\ttotal: 593ms\tremaining: 9m 52s\n",
      "100:\tlearn: 0.1973001\ttest: 0.1969415\tbest: 0.1969415 (100)\ttotal: 1m\tremaining: 8m 57s\n",
      "200:\tlearn: 0.1910676\ttest: 0.1914255\tbest: 0.1914255 (200)\ttotal: 2m 21s\tremaining: 9m 21s\n",
      "300:\tlearn: 0.1881866\ttest: 0.1894987\tbest: 0.1894987 (300)\ttotal: 3m 38s\tremaining: 8m 28s\n",
      "400:\tlearn: 0.1861810\ttest: 0.1884183\tbest: 0.1884183 (400)\ttotal: 4m 58s\tremaining: 7m 26s\n",
      "500:\tlearn: 0.1846975\ttest: 0.1879094\tbest: 0.1879090 (499)\ttotal: 6m 23s\tremaining: 6m 21s\n",
      "600:\tlearn: 0.1832979\ttest: 0.1875289\tbest: 0.1875288 (599)\ttotal: 7m 49s\tremaining: 5m 11s\n",
      "700:\tlearn: 0.1821951\ttest: 0.1873420\tbest: 0.1873350 (689)\ttotal: 9m 6s\tremaining: 3m 53s\n",
      "800:\tlearn: 0.1809671\ttest: 0.1871843\tbest: 0.1871843 (800)\ttotal: 10m 32s\tremaining: 2m 37s\n",
      "900:\tlearn: 0.1798351\ttest: 0.1871120\tbest: 0.1871053 (891)\ttotal: 11m 56s\tremaining: 1m 18s\n",
      "999:\tlearn: 0.1789600\ttest: 0.1870319\tbest: 0.1870273 (993)\ttotal: 13m 21s\tremaining: 0us\n",
      "\n",
      "bestTest = 0.1870273004\n",
      "bestIteration = 993\n",
      "\n",
      "Shrink model to first 994 iterations.\n",
      "Training completed in 809.97 seconds\n",
      "              precision    recall  f1-score   support\n",
      "\n",
      "     Class 0       0.99      0.96      0.97    719369\n",
      "     Class 1       0.64      0.88      0.74     60732\n",
      "\n",
      "    accuracy                           0.95    780101\n",
      "   macro avg       0.81      0.92      0.86    780101\n",
      "weighted avg       0.96      0.95      0.96    780101\n",
      "\n"
     ]
    }
   ],
   "source": [
    "start_time = time.time()\n",
    "model_3.fit(\n",
    "    X_train, \n",
    "    y_train, \n",
    "    eval_set=(X_validation, y_validation), \n",
    "    verbose=100,\n",
    "    plot=True,\n",
    "    early_stopping_rounds=100\n",
    ")\n",
    "end_time = time.time()\n",
    "training_duration = end_time - start_time\n",
    "print(f\"Training completed in {training_duration:.2f} seconds\")\n",
    "\n",
    "y_pred = model_3.predict(X_test)\n",
    "y_pred_proba = model_3.predict_proba(X_test)[:, 1]\n",
    "\n",
    "report = classification_report(y_test, y_pred, target_names=['Class 0', 'Class 1'])\n",
    "\n",
    "print(report)"
   ]
  },
  {
   "cell_type": "code",
   "execution_count": null,
   "id": "4b787f86-67e3-40e6-bdde-da1026084517",
   "metadata": {},
   "outputs": [],
   "source": [
    "X_full = data.drop('loan_status', axis=1)  \n",
    "y_pred_full = model_2.predict(X_full)\n",
    "y_pred_proba_full = model_2.predict_proba(X_full)[:, 1]\n"
   ]
  },
  {
   "cell_type": "code",
   "execution_count": null,
   "id": "1d883b58-4ad7-4c3b-8d77-685334939cb7",
   "metadata": {},
   "outputs": [
    {
     "name": "stdout",
     "output_type": "stream",
     "text": [
      "              precision    recall  f1-score   support\n",
      "\n",
      "     Class 0       0.99      0.95      0.97  23978934\n",
      "     Class 1       0.59      0.90      0.71   2024413\n",
      "\n",
      "    accuracy                           0.94  26003347\n",
      "   macro avg       0.79      0.92      0.84  26003347\n",
      "weighted avg       0.96      0.94      0.95  26003347\n",
      "\n"
     ]
    }
   ],
   "source": [
    "y_full = data['loan_status']  # Target variable\n",
    "report_full = classification_report(y_full, y_pred_full, target_names=['Class 0', 'Class 1'])\n",
    "print(report_full)"
   ]
  },
  {
   "cell_type": "markdown",
   "id": "235540e1-fa43-429e-aa3f-917927ffb899",
   "metadata": {
    "tags": []
   },
   "source": [
    "# GRADE MODELS "
   ]
  },
  {
   "cell_type": "markdown",
   "id": "9723d1f6-0e77-4755-bad9-e216af978f68",
   "metadata": {
    "tags": []
   },
   "source": [
    "### Model 1"
   ]
  },
  {
   "cell_type": "code",
   "execution_count": null,
   "id": "aa6d15e9-cc8a-4ec1-92c3-1efc79434bd3",
   "metadata": {
    "tags": []
   },
   "outputs": [],
   "source": [
    "model_1 = CatBoostClassifier(\n",
    "    iterations=600,\n",
    "    loss_function='MultiClass', \n",
    "    cat_features=cat_features,\n",
    "    verbose=100,\n",
    "    eval_metric='TotalF1',  \n",
    "    auto_class_weights='Balanced',\n",
    "    early_stopping_rounds=150\n",
    ")"
   ]
  },
  {
   "cell_type": "code",
   "execution_count": null,
   "id": "c5776295-c73f-4d64-911f-d393e1420bc1",
   "metadata": {
    "tags": []
   },
   "outputs": [
    {
     "data": {
      "application/vnd.jupyter.widget-view+json": {
       "model_id": "",
       "version_major": 2,
       "version_minor": 0
      },
      "text/plain": [
       "MetricVisualizer(layout=Layout(align_self='stretch', height='500px'))"
      ]
     },
     "metadata": {},
     "output_type": "display_data"
    },
    {
     "name": "stdout",
     "output_type": "stream",
     "text": [
      "Learning rate set to 0.142882\n",
      "0:\tlearn: 0.2999232\ttest: 0.2745249\tbest: 0.2745249 (0)\ttotal: 317ms\tremaining: 3m 9s\n",
      "100:\tlearn: 0.5365817\ttest: 0.3762046\tbest: 0.3803602 (97)\ttotal: 34.2s\tremaining: 2m 49s\n",
      "200:\tlearn: 0.6252253\ttest: 0.3746587\tbest: 0.3834560 (167)\ttotal: 1m 8s\tremaining: 2m 15s\n",
      "300:\tlearn: 0.6725933\ttest: 0.3784021\tbest: 0.3834560 (167)\ttotal: 1m 42s\tremaining: 1m 41s\n",
      "Stopped by overfitting detector  (150 iterations wait)\n",
      "\n",
      "bestTest = 0.3834560092\n",
      "bestIteration = 167\n",
      "\n",
      "Shrink model to first 168 iterations.\n"
     ]
    },
    {
     "data": {
      "text/plain": [
       "<catboost.core.CatBoostClassifier at 0x1d22332f6d0>"
      ]
     },
     "execution_count": 204,
     "metadata": {},
     "output_type": "execute_result"
    }
   ],
   "source": [
    "model_1.fit(train_pool, eval_set=validation_pool, plot=True)"
   ]
  },
  {
   "cell_type": "code",
   "execution_count": null,
   "id": "56741d2b-a2ad-4fea-a89b-a70a68eed36d",
   "metadata": {
    "tags": []
   },
   "outputs": [
    {
     "name": "stdout",
     "output_type": "stream",
     "text": [
      "              precision    recall  f1-score   support\n",
      "\n",
      "           A       0.63      0.76      0.69      2876\n",
      "           B       0.50      0.47      0.49      4441\n",
      "           C       0.47      0.31      0.37      4302\n",
      "           D       0.29      0.26      0.27      2129\n",
      "           E       0.20      0.31      0.24       893\n",
      "           F       0.13      0.42      0.19       276\n",
      "           G       0.07      0.16      0.09        83\n",
      "\n",
      "    accuracy                           0.44     15000\n",
      "   macro avg       0.32      0.38      0.34     15000\n",
      "weighted avg       0.46      0.44      0.44     15000\n",
      "\n",
      "[[2199  590   60   17    8    2    0]\n",
      " [1002 2103  882  295  113   36   10]\n",
      " [ 264 1179 1331  817  457  220   34]\n",
      " [  41  287  456  547  482  263   53]\n",
      " [   6   57   80  179  278  247   46]\n",
      " [   2    3   15   37   67  115   37]\n",
      " [   0    1    6    9   18   36   13]]\n"
     ]
    }
   ],
   "source": [
    "from sklearn.metrics import accuracy_score, classification_report, confusion_matrix, recall_score, roc_auc_score\n",
    "\n",
    "y_pred = model_1.predict(X_test)\n",
    "\n",
    "print(classification_report(y_test, y_pred))\n",
    "print(confusion_matrix(y_test, y_pred))"
   ]
  },
  {
   "cell_type": "markdown",
   "id": "bddddf68-0fcf-4317-a673-0c15e1f36b3c",
   "metadata": {},
   "source": [
    "#### Model 1 Feature Importances"
   ]
  },
  {
   "cell_type": "code",
   "execution_count": null,
   "id": "aea70f58-8150-435e-b45c-c562f572e0ca",
   "metadata": {
    "tags": []
   },
   "outputs": [],
   "source": [
    "model_1_fi_1 = model_1.get_feature_importance(prettified=True)\n",
    "model_1_fi_loss = model_1.get_feature_importance(\n",
    "    train_pool,\n",
    "    'LossFunctionChange',\n",
    "    prettified=True\n",
    ")"
   ]
  },
  {
   "cell_type": "code",
   "execution_count": null,
   "id": "2a512bdf-4393-4739-8b94-b6d450d507b8",
   "metadata": {
    "tags": []
   },
   "outputs": [
    {
     "data": {
      "text/html": [
       "<div>\n",
       "<style scoped>\n",
       "    .dataframe tbody tr th:only-of-type {\n",
       "        vertical-align: middle;\n",
       "    }\n",
       "\n",
       "    .dataframe tbody tr th {\n",
       "        vertical-align: top;\n",
       "    }\n",
       "\n",
       "    .dataframe thead th {\n",
       "        text-align: right;\n",
       "    }\n",
       "</style>\n",
       "<table border=\"1\" class=\"dataframe\">\n",
       "  <thead>\n",
       "    <tr style=\"text-align: right;\">\n",
       "      <th></th>\n",
       "      <th>Feature Id</th>\n",
       "      <th>Importances</th>\n",
       "    </tr>\n",
       "  </thead>\n",
       "  <tbody>\n",
       "    <tr>\n",
       "      <th>52</th>\n",
       "      <td>pymnt_plan</td>\n",
       "      <td>0.0</td>\n",
       "    </tr>\n",
       "    <tr>\n",
       "      <th>53</th>\n",
       "      <td>application_type</td>\n",
       "      <td>0.0</td>\n",
       "    </tr>\n",
       "    <tr>\n",
       "      <th>54</th>\n",
       "      <td>hardship_flag</td>\n",
       "      <td>0.0</td>\n",
       "    </tr>\n",
       "    <tr>\n",
       "      <th>55</th>\n",
       "      <td>debt_settlement_flag</td>\n",
       "      <td>0.0</td>\n",
       "    </tr>\n",
       "  </tbody>\n",
       "</table>\n",
       "</div>"
      ],
      "text/plain": [
       "              Feature Id  Importances\n",
       "52            pymnt_plan          0.0\n",
       "53      application_type          0.0\n",
       "54         hardship_flag          0.0\n",
       "55  debt_settlement_flag          0.0"
      ]
     },
     "execution_count": 222,
     "metadata": {},
     "output_type": "execute_result"
    }
   ],
   "source": [
    "model_1_fi_1.tail(4)"
   ]
  },
  {
   "cell_type": "code",
   "execution_count": null,
   "id": "8e92bce2-9f7b-4949-a74d-4c56a82cc485",
   "metadata": {
    "scrolled": true,
    "tags": []
   },
   "outputs": [
    {
     "data": {
      "text/html": [
       "<div>\n",
       "<style scoped>\n",
       "    .dataframe tbody tr th:only-of-type {\n",
       "        vertical-align: middle;\n",
       "    }\n",
       "\n",
       "    .dataframe tbody tr th {\n",
       "        vertical-align: top;\n",
       "    }\n",
       "\n",
       "    .dataframe thead th {\n",
       "        text-align: right;\n",
       "    }\n",
       "</style>\n",
       "<table border=\"1\" class=\"dataframe\">\n",
       "  <thead>\n",
       "    <tr style=\"text-align: right;\">\n",
       "      <th></th>\n",
       "      <th>Feature Id</th>\n",
       "      <th>Importances</th>\n",
       "    </tr>\n",
       "  </thead>\n",
       "  <tbody>\n",
       "    <tr>\n",
       "      <th>52</th>\n",
       "      <td>pymnt_plan</td>\n",
       "      <td>0.0</td>\n",
       "    </tr>\n",
       "    <tr>\n",
       "      <th>53</th>\n",
       "      <td>application_type</td>\n",
       "      <td>0.0</td>\n",
       "    </tr>\n",
       "    <tr>\n",
       "      <th>54</th>\n",
       "      <td>hardship_flag</td>\n",
       "      <td>0.0</td>\n",
       "    </tr>\n",
       "    <tr>\n",
       "      <th>55</th>\n",
       "      <td>debt_settlement_flag</td>\n",
       "      <td>0.0</td>\n",
       "    </tr>\n",
       "  </tbody>\n",
       "</table>\n",
       "</div>"
      ],
      "text/plain": [
       "              Feature Id  Importances\n",
       "52            pymnt_plan          0.0\n",
       "53      application_type          0.0\n",
       "54         hardship_flag          0.0\n",
       "55  debt_settlement_flag          0.0"
      ]
     },
     "execution_count": 221,
     "metadata": {},
     "output_type": "execute_result"
    }
   ],
   "source": [
    "model_1_fi_loss.tail(4)"
   ]
  },
  {
   "cell_type": "markdown",
   "id": "a005b0bb-92c2-4a79-a8f6-610143b75f7c",
   "metadata": {},
   "source": [
    "- Maybe drop these 4 ?"
   ]
  },
  {
   "cell_type": "markdown",
   "id": "7b924dbb-d7a2-41e1-84e1-099f538f18ab",
   "metadata": {
    "tags": []
   },
   "source": [
    "### Model 2"
   ]
  },
  {
   "cell_type": "code",
   "execution_count": null,
   "id": "f7639720-6097-4f13-aca4-1874e7fbd53e",
   "metadata": {},
   "outputs": [],
   "source": [
    "model_1 = CatBoostClassifier(\n",
    "    iterations=600,\n",
    "    loss_function='MultiClass', \n",
    "    cat_features=cat_features,\n",
    "    verbose=100,\n",
    "    eval_metric='TotalF1',  \n",
    "    auto_class_weights='Balanced',\n",
    "    early_stopping_rounds=150\n",
    ")"
   ]
  },
  {
   "cell_type": "code",
   "execution_count": null,
   "id": "92c92f67-c75c-49a6-ab67-570e7bd54bf0",
   "metadata": {
    "tags": []
   },
   "outputs": [
    {
     "data": {
      "application/vnd.jupyter.widget-view+json": {
       "model_id": "",
       "version_major": 2,
       "version_minor": 0
      },
      "text/plain": [
       "MetricVisualizer(layout=Layout(align_self='stretch', height='500px'))"
      ]
     },
     "metadata": {},
     "output_type": "display_data"
    },
    {
     "name": "stdout",
     "output_type": "stream",
     "text": [
      "0:\tlearn: 0.3201898\ttest: 0.2788386\tbest: 0.2788386 (0)\ttotal: 618ms\tremaining: 6m 10s\n",
      "50:\tlearn: 0.4362773\ttest: 0.3562481\tbest: 0.3562481 (50)\ttotal: 31.3s\tremaining: 5m 37s\n",
      "100:\tlearn: 0.4862432\ttest: 0.3645884\tbest: 0.3664766 (99)\ttotal: 1m 3s\tremaining: 5m 13s\n",
      "150:\tlearn: 0.5233320\ttest: 0.3561004\tbest: 0.3693466 (107)\ttotal: 1m 40s\tremaining: 4m 58s\n",
      "200:\tlearn: 0.5497616\ttest: 0.3658270\tbest: 0.3693466 (107)\ttotal: 2m 12s\tremaining: 4m 22s\n",
      "250:\tlearn: 0.5721622\ttest: 0.3720376\tbest: 0.3740000 (241)\ttotal: 2m 43s\tremaining: 3m 46s\n",
      "300:\tlearn: 0.5931872\ttest: 0.3748215\tbest: 0.3767354 (292)\ttotal: 3m 14s\tremaining: 3m 13s\n",
      "350:\tlearn: 0.6108232\ttest: 0.3711746\tbest: 0.3771445 (302)\ttotal: 3m 48s\tremaining: 2m 41s\n",
      "400:\tlearn: 0.6299781\ttest: 0.3704336\tbest: 0.3771445 (302)\ttotal: 4m 21s\tremaining: 2m 9s\n",
      "450:\tlearn: 0.6482676\ttest: 0.3749342\tbest: 0.3787750 (434)\ttotal: 4m 53s\tremaining: 1m 36s\n",
      "500:\tlearn: 0.6648098\ttest: 0.3776219\tbest: 0.3787750 (434)\ttotal: 5m 21s\tremaining: 1m 3s\n",
      "550:\tlearn: 0.6779103\ttest: 0.3718008\tbest: 0.3826403 (532)\ttotal: 5m 52s\tremaining: 31.4s\n",
      "599:\tlearn: 0.6905030\ttest: 0.3658058\tbest: 0.3826403 (532)\ttotal: 6m 22s\tremaining: 0us\n",
      "\n",
      "bestTest = 0.3826403355\n",
      "bestIteration = 532\n",
      "\n",
      "Shrink model to first 533 iterations.\n"
     ]
    },
    {
     "data": {
      "text/plain": [
       "<catboost.core.CatBoostClassifier at 0x1d23d52c490>"
      ]
     },
     "execution_count": 223,
     "metadata": {},
     "output_type": "execute_result"
    }
   ],
   "source": [
    "model_2 = CatBoostClassifier(\n",
    "    iterations=600,\n",
    "    learning_rate=0.03,          \n",
    "    depth=8,\n",
    "    loss_function='MultiClass',\n",
    "    eval_metric='TotalF1',\n",
    "    cat_features=cat_features,\n",
    "    auto_class_weights='Balanced',\n",
    "    early_stopping_rounds=150,\n",
    "    verbose=50\n",
    ")\n",
    "\n",
    "model_2.fit(train_pool, eval_set=validation_pool, plot=True)"
   ]
  },
  {
   "cell_type": "code",
   "execution_count": null,
   "id": "10ec00ef-051c-4539-8ac2-79e74bb42ebd",
   "metadata": {
    "scrolled": true,
    "tags": []
   },
   "outputs": [
    {
     "name": "stdout",
     "output_type": "stream",
     "text": [
      "              precision    recall  f1-score   support\n",
      "\n",
      "           A       0.62      0.77      0.69      2876\n",
      "           B       0.50      0.48      0.49      4441\n",
      "           C       0.48      0.33      0.39      4302\n",
      "           D       0.30      0.28      0.29      2129\n",
      "           E       0.21      0.34      0.26       893\n",
      "           F       0.15      0.41      0.22       276\n",
      "           G       0.08      0.10      0.09        83\n",
      "\n",
      "    accuracy                           0.45     15000\n",
      "   macro avg       0.33      0.38      0.35     15000\n",
      "weighted avg       0.46      0.45      0.45     15000\n",
      "\n",
      "[[2201  577   77   15    4    2    0]\n",
      " [1030 2114  878  294  100   25    0]\n",
      " [ 259 1187 1403  828  463  152   10]\n",
      " [  49  290  468  591  500  211   20]\n",
      " [   6   57   95  188  303  209   35]\n",
      " [   2    4   15   42   77  114   22]\n",
      " [   0    1    4    9   21   40    8]]\n"
     ]
    }
   ],
   "source": [
    "y_pred = model_2.predict(X_test)\n",
    "\n",
    "print(classification_report(y_test, y_pred))\n",
    "print(confusion_matrix(y_test, y_pred))"
   ]
  },
  {
   "cell_type": "markdown",
   "id": "6d9a7b8c-9637-4a01-9edf-0fce2b8550f1",
   "metadata": {},
   "source": [
    "#### Model 2 Feature Importances"
   ]
  },
  {
   "cell_type": "code",
   "execution_count": null,
   "id": "d3448ef1-36d9-4518-ac87-17d9b402a54c",
   "metadata": {
    "tags": []
   },
   "outputs": [],
   "source": [
    "model_2_fi_1 = model_2.get_feature_importance(prettified=True)\n",
    "model_2_fi_loss = model_2.get_feature_importance(\n",
    "    train_pool,\n",
    "    'LossFunctionChange',\n",
    "    prettified=True\n",
    ")"
   ]
  },
  {
   "cell_type": "code",
   "execution_count": null,
   "id": "ec40e16c-18c2-4c79-8f6b-eef5ab664099",
   "metadata": {
    "tags": []
   },
   "outputs": [
    {
     "data": {
      "text/html": [
       "<div>\n",
       "<style scoped>\n",
       "    .dataframe tbody tr th:only-of-type {\n",
       "        vertical-align: middle;\n",
       "    }\n",
       "\n",
       "    .dataframe tbody tr th {\n",
       "        vertical-align: top;\n",
       "    }\n",
       "\n",
       "    .dataframe thead th {\n",
       "        text-align: right;\n",
       "    }\n",
       "</style>\n",
       "<table border=\"1\" class=\"dataframe\">\n",
       "  <thead>\n",
       "    <tr style=\"text-align: right;\">\n",
       "      <th></th>\n",
       "      <th>Feature Id</th>\n",
       "      <th>Importances</th>\n",
       "    </tr>\n",
       "  </thead>\n",
       "  <tbody>\n",
       "    <tr>\n",
       "      <th>0</th>\n",
       "      <td>term</td>\n",
       "      <td>11.498417</td>\n",
       "    </tr>\n",
       "    <tr>\n",
       "      <th>1</th>\n",
       "      <td>PCA_Component_2</td>\n",
       "      <td>10.342403</td>\n",
       "    </tr>\n",
       "    <tr>\n",
       "      <th>2</th>\n",
       "      <td>PCA_Component_3</td>\n",
       "      <td>7.103404</td>\n",
       "    </tr>\n",
       "    <tr>\n",
       "      <th>3</th>\n",
       "      <td>PCA_Component_5</td>\n",
       "      <td>6.911119</td>\n",
       "    </tr>\n",
       "    <tr>\n",
       "      <th>4</th>\n",
       "      <td>verification_status</td>\n",
       "      <td>4.781445</td>\n",
       "    </tr>\n",
       "  </tbody>\n",
       "</table>\n",
       "</div>"
      ],
      "text/plain": [
       "            Feature Id  Importances\n",
       "0                 term    11.498417\n",
       "1      PCA_Component_2    10.342403\n",
       "2      PCA_Component_3     7.103404\n",
       "3      PCA_Component_5     6.911119\n",
       "4  verification_status     4.781445"
      ]
     },
     "execution_count": 231,
     "metadata": {},
     "output_type": "execute_result"
    }
   ],
   "source": [
    "model_2_fi_1.head()"
   ]
  },
  {
   "cell_type": "code",
   "execution_count": null,
   "id": "7cb19dca-fe21-460a-ac32-7cff70ede346",
   "metadata": {
    "tags": []
   },
   "outputs": [
    {
     "data": {
      "text/html": [
       "<div>\n",
       "<style scoped>\n",
       "    .dataframe tbody tr th:only-of-type {\n",
       "        vertical-align: middle;\n",
       "    }\n",
       "\n",
       "    .dataframe tbody tr th {\n",
       "        vertical-align: top;\n",
       "    }\n",
       "\n",
       "    .dataframe thead th {\n",
       "        text-align: right;\n",
       "    }\n",
       "</style>\n",
       "<table border=\"1\" class=\"dataframe\">\n",
       "  <thead>\n",
       "    <tr style=\"text-align: right;\">\n",
       "      <th></th>\n",
       "      <th>Feature Id</th>\n",
       "      <th>Importances</th>\n",
       "    </tr>\n",
       "  </thead>\n",
       "  <tbody>\n",
       "    <tr>\n",
       "      <th>0</th>\n",
       "      <td>term</td>\n",
       "      <td>0.117731</td>\n",
       "    </tr>\n",
       "    <tr>\n",
       "      <th>1</th>\n",
       "      <td>PCA_Component_2</td>\n",
       "      <td>0.077398</td>\n",
       "    </tr>\n",
       "    <tr>\n",
       "      <th>2</th>\n",
       "      <td>PCA_Component_5</td>\n",
       "      <td>0.067554</td>\n",
       "    </tr>\n",
       "    <tr>\n",
       "      <th>3</th>\n",
       "      <td>PCA_Component_3</td>\n",
       "      <td>0.049376</td>\n",
       "    </tr>\n",
       "    <tr>\n",
       "      <th>4</th>\n",
       "      <td>PCA_Component_40</td>\n",
       "      <td>0.029133</td>\n",
       "    </tr>\n",
       "  </tbody>\n",
       "</table>\n",
       "</div>"
      ],
      "text/plain": [
       "         Feature Id  Importances\n",
       "0              term     0.117731\n",
       "1   PCA_Component_2     0.077398\n",
       "2   PCA_Component_5     0.067554\n",
       "3   PCA_Component_3     0.049376\n",
       "4  PCA_Component_40     0.029133"
      ]
     },
     "execution_count": 230,
     "metadata": {},
     "output_type": "execute_result"
    }
   ],
   "source": [
    "model_2_fi_loss.head()"
   ]
  },
  {
   "cell_type": "code",
   "execution_count": null,
   "id": "5948ef67-abaa-49a9-945f-22ba5a735cfa",
   "metadata": {
    "tags": []
   },
   "outputs": [],
   "source": [
    "classes = np.unique(y_train)\n",
    "weights = compute_class_weight(class_weight='balanced', classes=classes, y=y_train)\n",
    "class_weights = dict(zip(classes, weights))"
   ]
  },
  {
   "cell_type": "code",
   "execution_count": null,
   "id": "cc6976a3-de2f-4b80-86b5-d75e296c3668",
   "metadata": {
    "tags": []
   },
   "outputs": [
    {
     "data": {
      "text/plain": [
       "{'A': 0.7451564828614009,\n",
       " 'B': 0.48255561453457513,\n",
       " 'C': 0.49808238282611944,\n",
       " 'D': 1.0068465565847764,\n",
       " 'E': 2.3986567522187574,\n",
       " 'F': 7.745933384972889,\n",
       " 'G': 25.77319587628866}"
      ]
     },
     "execution_count": 233,
     "metadata": {},
     "output_type": "execute_result"
    }
   ],
   "source": [
    "class_weights"
   ]
  },
  {
   "cell_type": "code",
   "execution_count": null,
   "id": "e11c6079-65c9-4c15-b055-7b0f4a90bb7b",
   "metadata": {
    "tags": []
   },
   "outputs": [
    {
     "data": {
      "application/vnd.jupyter.widget-view+json": {
       "model_id": "",
       "version_major": 2,
       "version_minor": 0
      },
      "text/plain": [
       "MetricVisualizer(layout=Layout(align_self='stretch', height='500px'))"
      ]
     },
     "metadata": {},
     "output_type": "display_data"
    },
    {
     "name": "stdout",
     "output_type": "stream",
     "text": [
      "0:\tlearn: 0.3201898\ttest: 0.2788386\tbest: 0.2788386 (0)\ttotal: 610ms\tremaining: 6m 5s\n",
      "50:\tlearn: 0.4562487\ttest: 0.3593569\tbest: 0.3626243 (38)\ttotal: 34.5s\tremaining: 6m 11s\n",
      "100:\tlearn: 0.5162280\ttest: 0.3695433\tbest: 0.3695433 (100)\ttotal: 1m 8s\tremaining: 5m 40s\n",
      "150:\tlearn: 0.5517065\ttest: 0.3705792\tbest: 0.3774473 (120)\ttotal: 1m 43s\tremaining: 5m 8s\n",
      "200:\tlearn: 0.5816587\ttest: 0.3685364\tbest: 0.3774473 (120)\ttotal: 2m 19s\tremaining: 4m 37s\n",
      "250:\tlearn: 0.6042491\ttest: 0.3783754\tbest: 0.3818830 (243)\ttotal: 2m 55s\tremaining: 4m 3s\n",
      "300:\tlearn: 0.6198970\ttest: 0.3772371\tbest: 0.3828191 (291)\ttotal: 3m 30s\tremaining: 3m 29s\n",
      "350:\tlearn: 0.6378978\ttest: 0.3763504\tbest: 0.3828191 (291)\ttotal: 4m 6s\tremaining: 2m 54s\n",
      "400:\tlearn: 0.6540609\ttest: 0.3760672\tbest: 0.3839273 (390)\ttotal: 4m 40s\tremaining: 2m 19s\n",
      "450:\tlearn: 0.6695487\ttest: 0.3804665\tbest: 0.3839273 (390)\ttotal: 5m 12s\tremaining: 1m 43s\n",
      "500:\tlearn: 0.6830140\ttest: 0.3774670\tbest: 0.3852337 (493)\ttotal: 5m 43s\tremaining: 1m 7s\n",
      "550:\tlearn: 0.6952823\ttest: 0.3752444\tbest: 0.3852337 (493)\ttotal: 6m 14s\tremaining: 33.3s\n",
      "599:\tlearn: 0.7064657\ttest: 0.3721749\tbest: 0.3852337 (493)\ttotal: 6m 47s\tremaining: 0us\n",
      "\n",
      "bestTest = 0.3852337239\n",
      "bestIteration = 493\n",
      "\n",
      "Shrink model to first 494 iterations.\n"
     ]
    },
    {
     "data": {
      "text/plain": [
       "<catboost.core.CatBoostClassifier at 0x1d226dde510>"
      ]
     },
     "execution_count": 234,
     "metadata": {},
     "output_type": "execute_result"
    }
   ],
   "source": [
    "model_2 = CatBoostClassifier(\n",
    "    iterations=600,\n",
    "    learning_rate=0.03,\n",
    "    depth=8,\n",
    "    loss_function='MultiClass',\n",
    "    eval_metric='TotalF1',\n",
    "    cat_features=cat_features,\n",
    "    class_weights=class_weights,  \n",
    "    early_stopping_rounds=150,\n",
    "    verbose=50\n",
    ")\n",
    "\n",
    "model_2.fit(train_pool, eval_set=validation_pool, plot=True)"
   ]
  },
  {
   "cell_type": "code",
   "execution_count": null,
   "id": "8db9457d-a831-4277-b37b-0da4382e00d5",
   "metadata": {},
   "outputs": [
    {
     "name": "stdout",
     "output_type": "stream",
     "text": [
      "              precision    recall  f1-score   support\n",
      "\n",
      "           A       0.63      0.77      0.69      2876\n",
      "           B       0.50      0.48      0.49      4441\n",
      "           C       0.47      0.33      0.39      4302\n",
      "           D       0.30      0.28      0.29      2129\n",
      "           E       0.22      0.38      0.28       893\n",
      "           F       0.16      0.40      0.23       276\n",
      "           G       0.14      0.12      0.13        83\n",
      "\n",
      "    accuracy                           0.45     15000\n",
      "   macro avg       0.35      0.39      0.36     15000\n",
      "weighted avg       0.46      0.45      0.45     15000\n",
      "\n",
      "[[2211  572   72   15    5    1    0]\n",
      " [1009 2127  905  282   97   21    0]\n",
      " [ 250 1175 1400  846  488  136    7]\n",
      " [  44  287  471  601  502  211   13]\n",
      " [   6   56   94  187  337  191   22]\n",
      " [   2    4   16   44   81  111   18]\n",
      " [   0    1    4    9   20   39   10]]\n"
     ]
    }
   ],
   "source": [
    "y_pred = model_2.predict(X_test)\n",
    "\n",
    "print(classification_report(y_test, y_pred))\n",
    "print(confusion_matrix(y_test, y_pred))"
   ]
  },
  {
   "cell_type": "markdown",
   "id": "64d76229-f87d-4333-a43b-6640d6358a48",
   "metadata": {},
   "source": [
    "- We can see weights automatic or not is the same. \n",
    "- Maybe we can tru oversampling the minority classes"
   ]
  },
  {
   "cell_type": "code",
   "execution_count": null,
   "id": "becf7e4c-8629-4c12-9ae8-adfd5954f61a",
   "metadata": {
    "tags": []
   },
   "outputs": [],
   "source": [
    "model_1 = CatBoostClassifier(\n",
    "    iterations=600,\n",
    "    loss_function='MultiClass', \n",
    "    cat_features=cat_features,\n",
    "    verbose=100,\n",
    "    eval_metric='TotalF1',  \n",
    "    auto_class_weights='Balanced',\n",
    "    early_stopping_rounds=150\n",
    ")"
   ]
  },
  {
   "cell_type": "code",
   "execution_count": null,
   "id": "7046888a-9e0b-47ff-ba39-c5ab59f797a1",
   "metadata": {
    "tags": []
   },
   "outputs": [
    {
     "data": {
      "application/vnd.jupyter.widget-view+json": {
       "model_id": "a8fde9a115504f3d81a252d05327e382",
       "version_major": 2,
       "version_minor": 0
      },
      "text/plain": [
       "MetricVisualizer(layout=Layout(align_self='stretch', height='500px'))"
      ]
     },
     "metadata": {},
     "output_type": "display_data"
    },
    {
     "name": "stdout",
     "output_type": "stream",
     "text": [
      "Learning rate set to 0.142882\n",
      "0:\tlearn: 0.2999232\ttest: 0.2745249\tbest: 0.2745249 (0)\ttotal: 317ms\tremaining: 3m 9s\n",
      "100:\tlearn: 0.5365817\ttest: 0.3762046\tbest: 0.3803602 (97)\ttotal: 34.2s\tremaining: 2m 49s\n",
      "200:\tlearn: 0.6252253\ttest: 0.3746587\tbest: 0.3834560 (167)\ttotal: 1m 8s\tremaining: 2m 15s\n",
      "300:\tlearn: 0.6725933\ttest: 0.3784021\tbest: 0.3834560 (167)\ttotal: 1m 42s\tremaining: 1m 41s\n",
      "Stopped by overfitting detector  (150 iterations wait)\n",
      "\n",
      "bestTest = 0.3834560092\n",
      "bestIteration = 167\n",
      "\n",
      "Shrink model to first 168 iterations.\n"
     ]
    },
    {
     "data": {
      "text/plain": [
       "<catboost.core.CatBoostClassifier at 0x1d22332f6d0>"
      ]
     },
     "execution_count": 204,
     "metadata": {},
     "output_type": "execute_result"
    }
   ],
   "source": [
    "model_1.fit(train_pool, eval_set=validation_pool, plot=True)"
   ]
  },
  {
   "cell_type": "code",
   "execution_count": null,
   "id": "285e6b41-861a-4f61-bf00-8996b8f8a5f0",
   "metadata": {
    "tags": []
   },
   "outputs": [
    {
     "name": "stdout",
     "output_type": "stream",
     "text": [
      "              precision    recall  f1-score   support\n",
      "\n",
      "           A       0.63      0.76      0.69      2876\n",
      "           B       0.50      0.47      0.49      4441\n",
      "           C       0.47      0.31      0.37      4302\n",
      "           D       0.29      0.26      0.27      2129\n",
      "           E       0.20      0.31      0.24       893\n",
      "           F       0.13      0.42      0.19       276\n",
      "           G       0.07      0.16      0.09        83\n",
      "\n",
      "    accuracy                           0.44     15000\n",
      "   macro avg       0.32      0.38      0.34     15000\n",
      "weighted avg       0.46      0.44      0.44     15000\n",
      "\n",
      "[[2199  590   60   17    8    2    0]\n",
      " [1002 2103  882  295  113   36   10]\n",
      " [ 264 1179 1331  817  457  220   34]\n",
      " [  41  287  456  547  482  263   53]\n",
      " [   6   57   80  179  278  247   46]\n",
      " [   2    3   15   37   67  115   37]\n",
      " [   0    1    6    9   18   36   13]]\n"
     ]
    }
   ],
   "source": [
    "from sklearn.metrics import accuracy_score, classification_report, confusion_matrix, recall_score, roc_auc_score\n",
    "\n",
    "y_pred = model_1.predict(X_test)\n",
    "\n",
    "print(classification_report(y_test, y_pred))\n",
    "print(confusion_matrix(y_test, y_pred))"
   ]
  },
  {
   "cell_type": "markdown",
   "id": "a5b67b74-ead8-4191-9c2c-c4e93511c7d2",
   "metadata": {},
   "source": [
    "#### Model 1 Feature Importances"
   ]
  },
  {
   "cell_type": "code",
   "execution_count": null,
   "id": "6937f570-6eb6-4c2c-9d37-e3ce6cde3540",
   "metadata": {
    "tags": []
   },
   "outputs": [],
   "source": [
    "model_1_fi_1 = model_1.get_feature_importance(prettified=True)\n",
    "model_1_fi_loss = model_1.get_feature_importance(\n",
    "    train_pool,\n",
    "    'LossFunctionChange',\n",
    "    prettified=True\n",
    ")"
   ]
  },
  {
   "cell_type": "code",
   "execution_count": null,
   "id": "93fb3ec7-8d65-4e8a-bd49-a7f2816251c9",
   "metadata": {
    "tags": []
   },
   "outputs": [
    {
     "data": {
      "text/html": [
       "<div>\n",
       "<style scoped>\n",
       "    .dataframe tbody tr th:only-of-type {\n",
       "        vertical-align: middle;\n",
       "    }\n",
       "\n",
       "    .dataframe tbody tr th {\n",
       "        vertical-align: top;\n",
       "    }\n",
       "\n",
       "    .dataframe thead th {\n",
       "        text-align: right;\n",
       "    }\n",
       "</style>\n",
       "<table border=\"1\" class=\"dataframe\">\n",
       "  <thead>\n",
       "    <tr style=\"text-align: right;\">\n",
       "      <th></th>\n",
       "      <th>Feature Id</th>\n",
       "      <th>Importances</th>\n",
       "    </tr>\n",
       "  </thead>\n",
       "  <tbody>\n",
       "    <tr>\n",
       "      <th>52</th>\n",
       "      <td>pymnt_plan</td>\n",
       "      <td>0.0</td>\n",
       "    </tr>\n",
       "    <tr>\n",
       "      <th>53</th>\n",
       "      <td>application_type</td>\n",
       "      <td>0.0</td>\n",
       "    </tr>\n",
       "    <tr>\n",
       "      <th>54</th>\n",
       "      <td>hardship_flag</td>\n",
       "      <td>0.0</td>\n",
       "    </tr>\n",
       "    <tr>\n",
       "      <th>55</th>\n",
       "      <td>debt_settlement_flag</td>\n",
       "      <td>0.0</td>\n",
       "    </tr>\n",
       "  </tbody>\n",
       "</table>\n",
       "</div>"
      ],
      "text/plain": [
       "              Feature Id  Importances\n",
       "52            pymnt_plan          0.0\n",
       "53      application_type          0.0\n",
       "54         hardship_flag          0.0\n",
       "55  debt_settlement_flag          0.0"
      ]
     },
     "execution_count": 222,
     "metadata": {},
     "output_type": "execute_result"
    }
   ],
   "source": [
    "model_1_fi_1.tail(4)"
   ]
  },
  {
   "cell_type": "code",
   "execution_count": null,
   "id": "a6b2376c-44a1-4278-8c8f-c083a6ab1683",
   "metadata": {
    "scrolled": true,
    "tags": []
   },
   "outputs": [
    {
     "data": {
      "text/html": [
       "<div>\n",
       "<style scoped>\n",
       "    .dataframe tbody tr th:only-of-type {\n",
       "        vertical-align: middle;\n",
       "    }\n",
       "\n",
       "    .dataframe tbody tr th {\n",
       "        vertical-align: top;\n",
       "    }\n",
       "\n",
       "    .dataframe thead th {\n",
       "        text-align: right;\n",
       "    }\n",
       "</style>\n",
       "<table border=\"1\" class=\"dataframe\">\n",
       "  <thead>\n",
       "    <tr style=\"text-align: right;\">\n",
       "      <th></th>\n",
       "      <th>Feature Id</th>\n",
       "      <th>Importances</th>\n",
       "    </tr>\n",
       "  </thead>\n",
       "  <tbody>\n",
       "    <tr>\n",
       "      <th>52</th>\n",
       "      <td>pymnt_plan</td>\n",
       "      <td>0.0</td>\n",
       "    </tr>\n",
       "    <tr>\n",
       "      <th>53</th>\n",
       "      <td>application_type</td>\n",
       "      <td>0.0</td>\n",
       "    </tr>\n",
       "    <tr>\n",
       "      <th>54</th>\n",
       "      <td>hardship_flag</td>\n",
       "      <td>0.0</td>\n",
       "    </tr>\n",
       "    <tr>\n",
       "      <th>55</th>\n",
       "      <td>debt_settlement_flag</td>\n",
       "      <td>0.0</td>\n",
       "    </tr>\n",
       "  </tbody>\n",
       "</table>\n",
       "</div>"
      ],
      "text/plain": [
       "              Feature Id  Importances\n",
       "52            pymnt_plan          0.0\n",
       "53      application_type          0.0\n",
       "54         hardship_flag          0.0\n",
       "55  debt_settlement_flag          0.0"
      ]
     },
     "execution_count": 221,
     "metadata": {},
     "output_type": "execute_result"
    }
   ],
   "source": [
    "model_1_fi_loss.tail(4)"
   ]
  },
  {
   "cell_type": "markdown",
   "id": "be39a3f7-1a3c-41cf-8aa0-575e81b01790",
   "metadata": {},
   "source": [
    "- Maybe drop these 4 ?"
   ]
  },
  {
   "cell_type": "markdown",
   "id": "6adc187b-06a5-4b67-a1bd-0c5639bacd30",
   "metadata": {
    "tags": []
   },
   "source": [
    "### Model 2"
   ]
  },
  {
   "cell_type": "code",
   "execution_count": null,
   "id": "a59b706f-5c8f-4d29-b8f4-dbd4617023a9",
   "metadata": {},
   "outputs": [],
   "source": [
    "model_1 = CatBoostClassifier(\n",
    "    iterations=600,\n",
    "    loss_function='MultiClass', \n",
    "    cat_features=cat_features,\n",
    "    verbose=100,\n",
    "    eval_metric='TotalF1',  \n",
    "    auto_class_weights='Balanced',\n",
    "    early_stopping_rounds=150\n",
    ")"
   ]
  },
  {
   "cell_type": "code",
   "execution_count": null,
   "id": "cc742890-371d-4706-ae6c-f6eae56552ec",
   "metadata": {
    "tags": []
   },
   "outputs": [
    {
     "data": {
      "application/vnd.jupyter.widget-view+json": {
       "model_id": "6978dd25db5b47a49bbe7fee0bb36029",
       "version_major": 2,
       "version_minor": 0
      },
      "text/plain": [
       "MetricVisualizer(layout=Layout(align_self='stretch', height='500px'))"
      ]
     },
     "metadata": {},
     "output_type": "display_data"
    },
    {
     "name": "stdout",
     "output_type": "stream",
     "text": [
      "0:\tlearn: 0.3201898\ttest: 0.2788386\tbest: 0.2788386 (0)\ttotal: 618ms\tremaining: 6m 10s\n",
      "50:\tlearn: 0.4362773\ttest: 0.3562481\tbest: 0.3562481 (50)\ttotal: 31.3s\tremaining: 5m 37s\n",
      "100:\tlearn: 0.4862432\ttest: 0.3645884\tbest: 0.3664766 (99)\ttotal: 1m 3s\tremaining: 5m 13s\n",
      "150:\tlearn: 0.5233320\ttest: 0.3561004\tbest: 0.3693466 (107)\ttotal: 1m 40s\tremaining: 4m 58s\n",
      "200:\tlearn: 0.5497616\ttest: 0.3658270\tbest: 0.3693466 (107)\ttotal: 2m 12s\tremaining: 4m 22s\n",
      "250:\tlearn: 0.5721622\ttest: 0.3720376\tbest: 0.3740000 (241)\ttotal: 2m 43s\tremaining: 3m 46s\n",
      "300:\tlearn: 0.5931872\ttest: 0.3748215\tbest: 0.3767354 (292)\ttotal: 3m 14s\tremaining: 3m 13s\n",
      "350:\tlearn: 0.6108232\ttest: 0.3711746\tbest: 0.3771445 (302)\ttotal: 3m 48s\tremaining: 2m 41s\n",
      "400:\tlearn: 0.6299781\ttest: 0.3704336\tbest: 0.3771445 (302)\ttotal: 4m 21s\tremaining: 2m 9s\n",
      "450:\tlearn: 0.6482676\ttest: 0.3749342\tbest: 0.3787750 (434)\ttotal: 4m 53s\tremaining: 1m 36s\n",
      "500:\tlearn: 0.6648098\ttest: 0.3776219\tbest: 0.3787750 (434)\ttotal: 5m 21s\tremaining: 1m 3s\n",
      "550:\tlearn: 0.6779103\ttest: 0.3718008\tbest: 0.3826403 (532)\ttotal: 5m 52s\tremaining: 31.4s\n",
      "599:\tlearn: 0.6905030\ttest: 0.3658058\tbest: 0.3826403 (532)\ttotal: 6m 22s\tremaining: 0us\n",
      "\n",
      "bestTest = 0.3826403355\n",
      "bestIteration = 532\n",
      "\n",
      "Shrink model to first 533 iterations.\n"
     ]
    },
    {
     "data": {
      "text/plain": [
       "<catboost.core.CatBoostClassifier at 0x1d23d52c490>"
      ]
     },
     "execution_count": 223,
     "metadata": {},
     "output_type": "execute_result"
    }
   ],
   "source": [
    "model_2 = CatBoostClassifier(\n",
    "    iterations=600,\n",
    "    learning_rate=0.03,          \n",
    "    depth=8,\n",
    "    loss_function='MultiClass',\n",
    "    eval_metric='TotalF1',\n",
    "    cat_features=cat_features,\n",
    "    auto_class_weights='Balanced',\n",
    "    early_stopping_rounds=150,\n",
    "    verbose=50\n",
    ")\n",
    "\n",
    "model_2.fit(train_pool, eval_set=validation_pool, plot=True)"
   ]
  },
  {
   "cell_type": "code",
   "execution_count": null,
   "id": "c96e94b4-5136-4f7f-ac46-8125b6530968",
   "metadata": {
    "scrolled": true,
    "tags": []
   },
   "outputs": [
    {
     "name": "stdout",
     "output_type": "stream",
     "text": [
      "              precision    recall  f1-score   support\n",
      "\n",
      "           A       0.62      0.77      0.69      2876\n",
      "           B       0.50      0.48      0.49      4441\n",
      "           C       0.48      0.33      0.39      4302\n",
      "           D       0.30      0.28      0.29      2129\n",
      "           E       0.21      0.34      0.26       893\n",
      "           F       0.15      0.41      0.22       276\n",
      "           G       0.08      0.10      0.09        83\n",
      "\n",
      "    accuracy                           0.45     15000\n",
      "   macro avg       0.33      0.38      0.35     15000\n",
      "weighted avg       0.46      0.45      0.45     15000\n",
      "\n",
      "[[2201  577   77   15    4    2    0]\n",
      " [1030 2114  878  294  100   25    0]\n",
      " [ 259 1187 1403  828  463  152   10]\n",
      " [  49  290  468  591  500  211   20]\n",
      " [   6   57   95  188  303  209   35]\n",
      " [   2    4   15   42   77  114   22]\n",
      " [   0    1    4    9   21   40    8]]\n"
     ]
    }
   ],
   "source": [
    "y_pred = model_2.predict(X_test)\n",
    "\n",
    "print(classification_report(y_test, y_pred))\n",
    "print(confusion_matrix(y_test, y_pred))"
   ]
  },
  {
   "cell_type": "markdown",
   "id": "c27c3c49-ef45-4abf-9748-7eb535121958",
   "metadata": {},
   "source": [
    "#### Model 2 Feature Importances"
   ]
  },
  {
   "cell_type": "code",
   "execution_count": null,
   "id": "80666227-0faf-45bd-84ef-ccd60dd4e8ac",
   "metadata": {
    "tags": []
   },
   "outputs": [],
   "source": [
    "model_2_fi_1 = model_2.get_feature_importance(prettified=True)\n",
    "model_2_fi_loss = model_2.get_feature_importance(\n",
    "    train_pool,\n",
    "    'LossFunctionChange',\n",
    "    prettified=True\n",
    ")"
   ]
  },
  {
   "cell_type": "code",
   "execution_count": null,
   "id": "d6376ba9-8b9f-493e-b812-5f2309b19740",
   "metadata": {
    "tags": []
   },
   "outputs": [
    {
     "data": {
      "text/html": [
       "<div>\n",
       "<style scoped>\n",
       "    .dataframe tbody tr th:only-of-type {\n",
       "        vertical-align: middle;\n",
       "    }\n",
       "\n",
       "    .dataframe tbody tr th {\n",
       "        vertical-align: top;\n",
       "    }\n",
       "\n",
       "    .dataframe thead th {\n",
       "        text-align: right;\n",
       "    }\n",
       "</style>\n",
       "<table border=\"1\" class=\"dataframe\">\n",
       "  <thead>\n",
       "    <tr style=\"text-align: right;\">\n",
       "      <th></th>\n",
       "      <th>Feature Id</th>\n",
       "      <th>Importances</th>\n",
       "    </tr>\n",
       "  </thead>\n",
       "  <tbody>\n",
       "    <tr>\n",
       "      <th>0</th>\n",
       "      <td>term</td>\n",
       "      <td>11.498417</td>\n",
       "    </tr>\n",
       "    <tr>\n",
       "      <th>1</th>\n",
       "      <td>PCA_Component_2</td>\n",
       "      <td>10.342403</td>\n",
       "    </tr>\n",
       "    <tr>\n",
       "      <th>2</th>\n",
       "      <td>PCA_Component_3</td>\n",
       "      <td>7.103404</td>\n",
       "    </tr>\n",
       "    <tr>\n",
       "      <th>3</th>\n",
       "      <td>PCA_Component_5</td>\n",
       "      <td>6.911119</td>\n",
       "    </tr>\n",
       "    <tr>\n",
       "      <th>4</th>\n",
       "      <td>verification_status</td>\n",
       "      <td>4.781445</td>\n",
       "    </tr>\n",
       "  </tbody>\n",
       "</table>\n",
       "</div>"
      ],
      "text/plain": [
       "            Feature Id  Importances\n",
       "0                 term    11.498417\n",
       "1      PCA_Component_2    10.342403\n",
       "2      PCA_Component_3     7.103404\n",
       "3      PCA_Component_5     6.911119\n",
       "4  verification_status     4.781445"
      ]
     },
     "execution_count": 231,
     "metadata": {},
     "output_type": "execute_result"
    }
   ],
   "source": [
    "model_2_fi_1.head()"
   ]
  },
  {
   "cell_type": "code",
   "execution_count": null,
   "id": "07e125fe-62d5-427b-b6f1-c638098bc8e2",
   "metadata": {
    "tags": []
   },
   "outputs": [
    {
     "data": {
      "text/html": [
       "<div>\n",
       "<style scoped>\n",
       "    .dataframe tbody tr th:only-of-type {\n",
       "        vertical-align: middle;\n",
       "    }\n",
       "\n",
       "    .dataframe tbody tr th {\n",
       "        vertical-align: top;\n",
       "    }\n",
       "\n",
       "    .dataframe thead th {\n",
       "        text-align: right;\n",
       "    }\n",
       "</style>\n",
       "<table border=\"1\" class=\"dataframe\">\n",
       "  <thead>\n",
       "    <tr style=\"text-align: right;\">\n",
       "      <th></th>\n",
       "      <th>Feature Id</th>\n",
       "      <th>Importances</th>\n",
       "    </tr>\n",
       "  </thead>\n",
       "  <tbody>\n",
       "    <tr>\n",
       "      <th>0</th>\n",
       "      <td>term</td>\n",
       "      <td>0.117731</td>\n",
       "    </tr>\n",
       "    <tr>\n",
       "      <th>1</th>\n",
       "      <td>PCA_Component_2</td>\n",
       "      <td>0.077398</td>\n",
       "    </tr>\n",
       "    <tr>\n",
       "      <th>2</th>\n",
       "      <td>PCA_Component_5</td>\n",
       "      <td>0.067554</td>\n",
       "    </tr>\n",
       "    <tr>\n",
       "      <th>3</th>\n",
       "      <td>PCA_Component_3</td>\n",
       "      <td>0.049376</td>\n",
       "    </tr>\n",
       "    <tr>\n",
       "      <th>4</th>\n",
       "      <td>PCA_Component_40</td>\n",
       "      <td>0.029133</td>\n",
       "    </tr>\n",
       "  </tbody>\n",
       "</table>\n",
       "</div>"
      ],
      "text/plain": [
       "         Feature Id  Importances\n",
       "0              term     0.117731\n",
       "1   PCA_Component_2     0.077398\n",
       "2   PCA_Component_5     0.067554\n",
       "3   PCA_Component_3     0.049376\n",
       "4  PCA_Component_40     0.029133"
      ]
     },
     "execution_count": 230,
     "metadata": {},
     "output_type": "execute_result"
    }
   ],
   "source": [
    "model_2_fi_loss.head()"
   ]
  },
  {
   "cell_type": "code",
   "execution_count": null,
   "id": "8695c231-d3cf-4b95-8f4e-73d8a079a855",
   "metadata": {
    "tags": []
   },
   "outputs": [],
   "source": [
    "# Calculate class weights\n",
    "classes = np.unique(y_train)\n",
    "weights = compute_class_weight(class_weight='balanced', classes=classes, y=y_train)\n",
    "class_weights = dict(zip(classes, weights))"
   ]
  },
  {
   "cell_type": "code",
   "execution_count": null,
   "id": "21699078-8276-4300-82a7-3d5d06f258c8",
   "metadata": {
    "tags": []
   },
   "outputs": [
    {
     "data": {
      "text/plain": [
       "{'A': 0.7451564828614009,\n",
       " 'B': 0.48255561453457513,\n",
       " 'C': 0.49808238282611944,\n",
       " 'D': 1.0068465565847764,\n",
       " 'E': 2.3986567522187574,\n",
       " 'F': 7.745933384972889,\n",
       " 'G': 25.77319587628866}"
      ]
     },
     "execution_count": 233,
     "metadata": {},
     "output_type": "execute_result"
    }
   ],
   "source": [
    "class_weights"
   ]
  },
  {
   "cell_type": "code",
   "execution_count": null,
   "id": "3e0eeadf-f330-40ca-a52e-870cc53fdd86",
   "metadata": {
    "tags": []
   },
   "outputs": [
    {
     "data": {
      "application/vnd.jupyter.widget-view+json": {
       "model_id": "ddd0f109fc08424cbdd503fd4d020dd6",
       "version_major": 2,
       "version_minor": 0
      },
      "text/plain": [
       "MetricVisualizer(layout=Layout(align_self='stretch', height='500px'))"
      ]
     },
     "metadata": {},
     "output_type": "display_data"
    },
    {
     "name": "stdout",
     "output_type": "stream",
     "text": [
      "0:\tlearn: 0.3201898\ttest: 0.2788386\tbest: 0.2788386 (0)\ttotal: 610ms\tremaining: 6m 5s\n",
      "50:\tlearn: 0.4562487\ttest: 0.3593569\tbest: 0.3626243 (38)\ttotal: 34.5s\tremaining: 6m 11s\n",
      "100:\tlearn: 0.5162280\ttest: 0.3695433\tbest: 0.3695433 (100)\ttotal: 1m 8s\tremaining: 5m 40s\n",
      "150:\tlearn: 0.5517065\ttest: 0.3705792\tbest: 0.3774473 (120)\ttotal: 1m 43s\tremaining: 5m 8s\n",
      "200:\tlearn: 0.5816587\ttest: 0.3685364\tbest: 0.3774473 (120)\ttotal: 2m 19s\tremaining: 4m 37s\n",
      "250:\tlearn: 0.6042491\ttest: 0.3783754\tbest: 0.3818830 (243)\ttotal: 2m 55s\tremaining: 4m 3s\n",
      "300:\tlearn: 0.6198970\ttest: 0.3772371\tbest: 0.3828191 (291)\ttotal: 3m 30s\tremaining: 3m 29s\n",
      "350:\tlearn: 0.6378978\ttest: 0.3763504\tbest: 0.3828191 (291)\ttotal: 4m 6s\tremaining: 2m 54s\n",
      "400:\tlearn: 0.6540609\ttest: 0.3760672\tbest: 0.3839273 (390)\ttotal: 4m 40s\tremaining: 2m 19s\n",
      "450:\tlearn: 0.6695487\ttest: 0.3804665\tbest: 0.3839273 (390)\ttotal: 5m 12s\tremaining: 1m 43s\n",
      "500:\tlearn: 0.6830140\ttest: 0.3774670\tbest: 0.3852337 (493)\ttotal: 5m 43s\tremaining: 1m 7s\n",
      "550:\tlearn: 0.6952823\ttest: 0.3752444\tbest: 0.3852337 (493)\ttotal: 6m 14s\tremaining: 33.3s\n",
      "599:\tlearn: 0.7064657\ttest: 0.3721749\tbest: 0.3852337 (493)\ttotal: 6m 47s\tremaining: 0us\n",
      "\n",
      "bestTest = 0.3852337239\n",
      "bestIteration = 493\n",
      "\n",
      "Shrink model to first 494 iterations.\n"
     ]
    },
    {
     "data": {
      "text/plain": [
       "<catboost.core.CatBoostClassifier at 0x1d226dde510>"
      ]
     },
     "execution_count": 234,
     "metadata": {},
     "output_type": "execute_result"
    }
   ],
   "source": [
    "model_2 = CatBoostClassifier(\n",
    "    iterations=600,\n",
    "    learning_rate=0.03,\n",
    "    depth=8,\n",
    "    loss_function='MultiClass',\n",
    "    eval_metric='TotalF1',\n",
    "    cat_features=cat_features,\n",
    "    class_weights=class_weights,  \n",
    "    early_stopping_rounds=150,\n",
    "    verbose=50\n",
    ")\n",
    "\n",
    "model_2.fit(train_pool, eval_set=validation_pool, plot=True)"
   ]
  },
  {
   "cell_type": "code",
   "execution_count": null,
   "id": "0d5f12ea-6487-4ecf-9a53-472aa4622bf6",
   "metadata": {},
   "outputs": [
    {
     "name": "stdout",
     "output_type": "stream",
     "text": [
      "              precision    recall  f1-score   support\n",
      "\n",
      "           A       0.63      0.77      0.69      2876\n",
      "           B       0.50      0.48      0.49      4441\n",
      "           C       0.47      0.33      0.39      4302\n",
      "           D       0.30      0.28      0.29      2129\n",
      "           E       0.22      0.38      0.28       893\n",
      "           F       0.16      0.40      0.23       276\n",
      "           G       0.14      0.12      0.13        83\n",
      "\n",
      "    accuracy                           0.45     15000\n",
      "   macro avg       0.35      0.39      0.36     15000\n",
      "weighted avg       0.46      0.45      0.45     15000\n",
      "\n",
      "[[2211  572   72   15    5    1    0]\n",
      " [1009 2127  905  282   97   21    0]\n",
      " [ 250 1175 1400  846  488  136    7]\n",
      " [  44  287  471  601  502  211   13]\n",
      " [   6   56   94  187  337  191   22]\n",
      " [   2    4   16   44   81  111   18]\n",
      " [   0    1    4    9   20   39   10]]\n"
     ]
    }
   ],
   "source": [
    "y_pred = model_2.predict(X_test)\n",
    "\n",
    "print(classification_report(y_test, y_pred))\n",
    "print(confusion_matrix(y_test, y_pred))"
   ]
  }
 ],
 "metadata": {
  "kernelspec": {
   "display_name": "Python 3 (ipykernel)",
   "language": "python",
   "name": "python3"
  },
  "language_info": {
   "codemirror_mode": {
    "name": "ipython",
    "version": 3
   },
   "file_extension": ".py",
   "mimetype": "text/x-python",
   "name": "python",
   "nbconvert_exporter": "python",
   "pygments_lexer": "ipython3",
   "version": "3.11.5"
  }
 },
 "nbformat": 4,
 "nbformat_minor": 5
}
