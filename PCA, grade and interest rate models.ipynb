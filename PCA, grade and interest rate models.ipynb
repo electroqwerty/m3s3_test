{
 "cells": [
  {
   "cell_type": "code",
   "execution_count": 1,
   "id": "30987df6-bead-4987-86e4-10599a11cc13",
   "metadata": {
    "tags": []
   },
   "outputs": [],
   "source": [
    "import numpy as np\n",
    "import pandas as pd\n",
    "import seaborn as sns\n",
    "import matplotlib.pyplot as plt\n",
    "import imblearn\n",
    "from sklearn.preprocessing import StandardScaler\n",
    "from sklearn.decomposition import PCA, TruncatedSVD\n",
    "from sklearn.model_selection import train_test_split\n",
    "from sklearn.metrics import f1_score, recall_score, classification_report, confusion_matrix\n",
    "from sklearn.metrics import mean_squared_error, mean_absolute_error, r2_score\n",
    "from sklearn.utils.class_weight import compute_class_weight\n",
    "from imblearn.over_sampling import RandomOverSampler\n",
    "from catboost import CatBoostClassifier, CatBoostRegressor, Pool"
   ]
  },
  {
   "cell_type": "markdown",
   "id": "e320fc77-87ec-4a9d-b902-cc547d4f9565",
   "metadata": {},
   "source": [
    "# PCA "
   ]
  },
  {
   "cell_type": "code",
   "execution_count": 2,
   "id": "3e116dc0-b8e9-4b84-9d70-61e22f7370be",
   "metadata": {
    "tags": []
   },
   "outputs": [],
   "source": [
    "data = pd.read_csv('./Datasets/Data Accepted Cleaned For Dimensionality Reduction.csv')"
   ]
  },
  {
   "cell_type": "code",
   "execution_count": 3,
   "id": "163b1c78-2020-4734-b008-d74d53ca14de",
   "metadata": {
    "tags": []
   },
   "outputs": [
    {
     "data": {
      "text/plain": [
       "(2258141, 88)"
      ]
     },
     "execution_count": 3,
     "metadata": {},
     "output_type": "execute_result"
    }
   ],
   "source": [
    "data.shape"
   ]
  },
  {
   "cell_type": "code",
   "execution_count": 4,
   "id": "374bbcb3-b946-49d7-ab68-b317d82c934f",
   "metadata": {
    "tags": []
   },
   "outputs": [
    {
     "data": {
      "text/plain": [
       "0"
      ]
     },
     "execution_count": 4,
     "metadata": {},
     "output_type": "execute_result"
    }
   ],
   "source": [
    "data.isnull().sum().sum()"
   ]
  },
  {
   "cell_type": "markdown",
   "id": "6cdec0c4-c49c-41ce-a589-fca3c6499d4f",
   "metadata": {},
   "source": [
    "## Extracting target features"
   ]
  },
  {
   "cell_type": "code",
   "execution_count": 5,
   "id": "96e91b78-ac50-4ed0-a434-c04d2afaf5c1",
   "metadata": {
    "tags": []
   },
   "outputs": [],
   "source": [
    "target_int_rate = data['int_rate']\n",
    "target_grade = data['grade']\n",
    "target_subgrade = data['sub_grade']"
   ]
  },
  {
   "cell_type": "code",
   "execution_count": 6,
   "id": "99cf6c2d-9c9a-4e1a-a7c6-722de0e061ef",
   "metadata": {
    "tags": []
   },
   "outputs": [],
   "source": [
    "data.drop(['int_rate','grade','sub_grade'],axis=1,inplace=True)"
   ]
  },
  {
   "cell_type": "code",
   "execution_count": 7,
   "id": "842d0a28-f3ca-4ac0-9542-25222579e7b9",
   "metadata": {
    "tags": []
   },
   "outputs": [],
   "source": [
    "datetime_columns = ['issue_d', 'earliest_cr_line', 'last_pymnt_d', 'last_credit_pull_d']\n",
    "\n",
    "for column in datetime_columns:\n",
    "    data[column] = pd.to_datetime(data[column])\n",
    "    data[column + '_year'] = data[column].dt.year\n",
    "    data[column + '_month'] = data[column].dt.month\n",
    "    data[column + '_day'] = data[column].dt.day"
   ]
  },
  {
   "cell_type": "code",
   "execution_count": 8,
   "id": "11d67bf0-f42b-4d68-9b44-e85c24e2a02e",
   "metadata": {
    "tags": []
   },
   "outputs": [
    {
     "data": {
      "text/plain": [
       "float64           67\n",
       "object            14\n",
       "int32             12\n",
       "datetime64[ns]     4\n",
       "Name: count, dtype: int64"
      ]
     },
     "execution_count": 8,
     "metadata": {},
     "output_type": "execute_result"
    }
   ],
   "source": [
    "data.dtypes.value_counts()"
   ]
  },
  {
   "cell_type": "code",
   "execution_count": 9,
   "id": "bd22cf1f-3184-425f-a2a5-e0a73996027a",
   "metadata": {
    "tags": []
   },
   "outputs": [],
   "source": [
    "numerical_data = data.select_dtypes(include=['float64', 'int32'])\n",
    "categorical_data = data.select_dtypes(include=['object'])"
   ]
  },
  {
   "cell_type": "code",
   "execution_count": 10,
   "id": "02113fff-a3bc-42d0-91b3-c59f6e9d2ea7",
   "metadata": {
    "tags": []
   },
   "outputs": [],
   "source": [
    "numerical_columns = numerical_data.columns.tolist()\n",
    "categorical_columns = categorical_data.columns.tolist()"
   ]
  },
  {
   "cell_type": "code",
   "execution_count": 11,
   "id": "d8e0c658-b649-49a7-811d-bc5771b41a24",
   "metadata": {
    "tags": []
   },
   "outputs": [
    {
     "data": {
      "text/plain": [
       "(2258141, 14)"
      ]
     },
     "execution_count": 11,
     "metadata": {},
     "output_type": "execute_result"
    }
   ],
   "source": [
    "categorical_data.shape"
   ]
  },
  {
   "cell_type": "code",
   "execution_count": 12,
   "id": "5547bf42-d39d-422d-9aaa-a43c1e3c759e",
   "metadata": {
    "tags": []
   },
   "outputs": [
    {
     "data": {
      "text/plain": [
       "(2258141, 79)"
      ]
     },
     "execution_count": 12,
     "metadata": {},
     "output_type": "execute_result"
    }
   ],
   "source": [
    "numerical_data.shape"
   ]
  },
  {
   "cell_type": "markdown",
   "id": "c3991f0c-9821-4270-ad19-a3bff0391761",
   "metadata": {},
   "source": [
    "# Numerical Data PCA"
   ]
  },
  {
   "cell_type": "code",
   "execution_count": 13,
   "id": "78360a71-6e18-4a2a-b49c-3c7386e5a0ca",
   "metadata": {
    "tags": []
   },
   "outputs": [],
   "source": [
    "# Scaling\n",
    "scaler = StandardScaler()\n",
    "numerical_data_scaled = scaler.fit_transform(data[numerical_columns])"
   ]
  },
  {
   "cell_type": "code",
   "execution_count": 14,
   "id": "b40b2123-7e2e-4d5b-b13f-1a59090c87d6",
   "metadata": {
    "tags": []
   },
   "outputs": [],
   "source": [
    "# PCA\n",
    "pca = PCA(n_components=0.95)\n",
    "numerical_reduced = pca.fit_transform(numerical_data_scaled)"
   ]
  },
  {
   "cell_type": "code",
   "execution_count": 15,
   "id": "1320f1dc-f081-43e4-96d4-f4be4ff3eb35",
   "metadata": {
    "tags": []
   },
   "outputs": [],
   "source": [
    "pca_columns = ['PCA_Component_' + str(i) for i in range(numerical_reduced.shape[1])]\n",
    "pca_df = pd.DataFrame(numerical_reduced, columns=pca_columns)"
   ]
  },
  {
   "cell_type": "code",
   "execution_count": 16,
   "id": "aeb04bd8-fc66-4f89-acc6-52ebf053fc93",
   "metadata": {
    "tags": []
   },
   "outputs": [
    {
     "data": {
      "text/html": [
       "<div>\n",
       "<style scoped>\n",
       "    .dataframe tbody tr th:only-of-type {\n",
       "        vertical-align: middle;\n",
       "    }\n",
       "\n",
       "    .dataframe tbody tr th {\n",
       "        vertical-align: top;\n",
       "    }\n",
       "\n",
       "    .dataframe thead th {\n",
       "        text-align: right;\n",
       "    }\n",
       "</style>\n",
       "<table border=\"1\" class=\"dataframe\">\n",
       "  <thead>\n",
       "    <tr style=\"text-align: right;\">\n",
       "      <th></th>\n",
       "      <th>PCA_Component_0</th>\n",
       "      <th>PCA_Component_1</th>\n",
       "      <th>PCA_Component_2</th>\n",
       "      <th>PCA_Component_3</th>\n",
       "      <th>PCA_Component_4</th>\n",
       "      <th>PCA_Component_5</th>\n",
       "      <th>PCA_Component_6</th>\n",
       "      <th>PCA_Component_7</th>\n",
       "      <th>PCA_Component_8</th>\n",
       "      <th>PCA_Component_9</th>\n",
       "      <th>...</th>\n",
       "      <th>PCA_Component_32</th>\n",
       "      <th>PCA_Component_33</th>\n",
       "      <th>PCA_Component_34</th>\n",
       "      <th>PCA_Component_35</th>\n",
       "      <th>PCA_Component_36</th>\n",
       "      <th>PCA_Component_37</th>\n",
       "      <th>PCA_Component_38</th>\n",
       "      <th>PCA_Component_39</th>\n",
       "      <th>PCA_Component_40</th>\n",
       "      <th>PCA_Component_41</th>\n",
       "    </tr>\n",
       "  </thead>\n",
       "  <tbody>\n",
       "    <tr>\n",
       "      <th>0</th>\n",
       "      <td>-4.106044</td>\n",
       "      <td>-2.015019</td>\n",
       "      <td>-0.922711</td>\n",
       "      <td>0.017330</td>\n",
       "      <td>1.891090</td>\n",
       "      <td>1.818096</td>\n",
       "      <td>0.741998</td>\n",
       "      <td>0.278728</td>\n",
       "      <td>0.244048</td>\n",
       "      <td>0.417153</td>\n",
       "      <td>...</td>\n",
       "      <td>0.837892</td>\n",
       "      <td>-0.843121</td>\n",
       "      <td>-1.148951</td>\n",
       "      <td>-0.612782</td>\n",
       "      <td>-0.194813</td>\n",
       "      <td>-0.259177</td>\n",
       "      <td>-0.677483</td>\n",
       "      <td>0.097325</td>\n",
       "      <td>-0.495755</td>\n",
       "      <td>-0.148498</td>\n",
       "    </tr>\n",
       "    <tr>\n",
       "      <th>1</th>\n",
       "      <td>6.396042</td>\n",
       "      <td>-1.151552</td>\n",
       "      <td>0.188198</td>\n",
       "      <td>-2.931914</td>\n",
       "      <td>-0.069520</td>\n",
       "      <td>1.007682</td>\n",
       "      <td>0.597207</td>\n",
       "      <td>0.181822</td>\n",
       "      <td>0.676380</td>\n",
       "      <td>0.205001</td>\n",
       "      <td>...</td>\n",
       "      <td>-0.905170</td>\n",
       "      <td>-0.888859</td>\n",
       "      <td>-1.798148</td>\n",
       "      <td>0.802240</td>\n",
       "      <td>-0.706709</td>\n",
       "      <td>-0.354019</td>\n",
       "      <td>0.525074</td>\n",
       "      <td>0.663302</td>\n",
       "      <td>-0.359573</td>\n",
       "      <td>-1.861842</td>\n",
       "    </tr>\n",
       "    <tr>\n",
       "      <th>2</th>\n",
       "      <td>-1.029270</td>\n",
       "      <td>4.193481</td>\n",
       "      <td>0.203950</td>\n",
       "      <td>-1.112776</td>\n",
       "      <td>0.411735</td>\n",
       "      <td>-0.295923</td>\n",
       "      <td>0.259924</td>\n",
       "      <td>-0.778349</td>\n",
       "      <td>-0.134218</td>\n",
       "      <td>0.236882</td>\n",
       "      <td>...</td>\n",
       "      <td>0.753108</td>\n",
       "      <td>-0.287875</td>\n",
       "      <td>0.908645</td>\n",
       "      <td>-0.106183</td>\n",
       "      <td>-0.933979</td>\n",
       "      <td>1.134252</td>\n",
       "      <td>-0.040205</td>\n",
       "      <td>-0.253181</td>\n",
       "      <td>0.796246</td>\n",
       "      <td>0.072324</td>\n",
       "    </tr>\n",
       "    <tr>\n",
       "      <th>3</th>\n",
       "      <td>3.827254</td>\n",
       "      <td>1.910027</td>\n",
       "      <td>4.526960</td>\n",
       "      <td>-2.282167</td>\n",
       "      <td>-1.462872</td>\n",
       "      <td>3.197383</td>\n",
       "      <td>-2.107418</td>\n",
       "      <td>0.466992</td>\n",
       "      <td>0.963532</td>\n",
       "      <td>0.687715</td>\n",
       "      <td>...</td>\n",
       "      <td>-0.196503</td>\n",
       "      <td>-0.297953</td>\n",
       "      <td>-1.993238</td>\n",
       "      <td>-0.224552</td>\n",
       "      <td>0.686533</td>\n",
       "      <td>-0.333773</td>\n",
       "      <td>0.089705</td>\n",
       "      <td>0.072537</td>\n",
       "      <td>0.210545</td>\n",
       "      <td>0.727653</td>\n",
       "    </tr>\n",
       "    <tr>\n",
       "      <th>4</th>\n",
       "      <td>2.155775</td>\n",
       "      <td>-0.290886</td>\n",
       "      <td>-1.684681</td>\n",
       "      <td>-0.538968</td>\n",
       "      <td>2.888613</td>\n",
       "      <td>-1.120954</td>\n",
       "      <td>-0.406556</td>\n",
       "      <td>-1.752072</td>\n",
       "      <td>0.114479</td>\n",
       "      <td>1.304035</td>\n",
       "      <td>...</td>\n",
       "      <td>0.256951</td>\n",
       "      <td>-0.438739</td>\n",
       "      <td>0.668388</td>\n",
       "      <td>-0.002468</td>\n",
       "      <td>-0.689562</td>\n",
       "      <td>0.498550</td>\n",
       "      <td>0.510188</td>\n",
       "      <td>1.441008</td>\n",
       "      <td>0.261076</td>\n",
       "      <td>0.296707</td>\n",
       "    </tr>\n",
       "  </tbody>\n",
       "</table>\n",
       "<p>5 rows × 42 columns</p>\n",
       "</div>"
      ],
      "text/plain": [
       "   PCA_Component_0  PCA_Component_1  PCA_Component_2  PCA_Component_3  \\\n",
       "0        -4.106044        -2.015019        -0.922711         0.017330   \n",
       "1         6.396042        -1.151552         0.188198        -2.931914   \n",
       "2        -1.029270         4.193481         0.203950        -1.112776   \n",
       "3         3.827254         1.910027         4.526960        -2.282167   \n",
       "4         2.155775        -0.290886        -1.684681        -0.538968   \n",
       "\n",
       "   PCA_Component_4  PCA_Component_5  PCA_Component_6  PCA_Component_7  \\\n",
       "0         1.891090         1.818096         0.741998         0.278728   \n",
       "1        -0.069520         1.007682         0.597207         0.181822   \n",
       "2         0.411735        -0.295923         0.259924        -0.778349   \n",
       "3        -1.462872         3.197383        -2.107418         0.466992   \n",
       "4         2.888613        -1.120954        -0.406556        -1.752072   \n",
       "\n",
       "   PCA_Component_8  PCA_Component_9  ...  PCA_Component_32  PCA_Component_33  \\\n",
       "0         0.244048         0.417153  ...          0.837892         -0.843121   \n",
       "1         0.676380         0.205001  ...         -0.905170         -0.888859   \n",
       "2        -0.134218         0.236882  ...          0.753108         -0.287875   \n",
       "3         0.963532         0.687715  ...         -0.196503         -0.297953   \n",
       "4         0.114479         1.304035  ...          0.256951         -0.438739   \n",
       "\n",
       "   PCA_Component_34  PCA_Component_35  PCA_Component_36  PCA_Component_37  \\\n",
       "0         -1.148951         -0.612782         -0.194813         -0.259177   \n",
       "1         -1.798148          0.802240         -0.706709         -0.354019   \n",
       "2          0.908645         -0.106183         -0.933979          1.134252   \n",
       "3         -1.993238         -0.224552          0.686533         -0.333773   \n",
       "4          0.668388         -0.002468         -0.689562          0.498550   \n",
       "\n",
       "   PCA_Component_38  PCA_Component_39  PCA_Component_40  PCA_Component_41  \n",
       "0         -0.677483          0.097325         -0.495755         -0.148498  \n",
       "1          0.525074          0.663302         -0.359573         -1.861842  \n",
       "2         -0.040205         -0.253181          0.796246          0.072324  \n",
       "3          0.089705          0.072537          0.210545          0.727653  \n",
       "4          0.510188          1.441008          0.261076          0.296707  \n",
       "\n",
       "[5 rows x 42 columns]"
      ]
     },
     "execution_count": 16,
     "metadata": {},
     "output_type": "execute_result"
    }
   ],
   "source": [
    "pca_df.head()"
   ]
  },
  {
   "cell_type": "code",
   "execution_count": 17,
   "id": "c7ac28e1-1b65-493c-8ab8-bbb8a91f62b8",
   "metadata": {
    "tags": []
   },
   "outputs": [
    {
     "data": {
      "text/plain": [
       "(2258141, 42)"
      ]
     },
     "execution_count": 17,
     "metadata": {},
     "output_type": "execute_result"
    }
   ],
   "source": [
    "pca_df.shape"
   ]
  },
  {
   "cell_type": "code",
   "execution_count": 18,
   "id": "da70e646-aa2a-4450-94e9-982a8c7b04d4",
   "metadata": {},
   "outputs": [],
   "source": [
    "variance_explained = pca.explained_variance_ratio_ * 100\n",
    "variance_df = pd.DataFrame({'PCA Component': pca_columns, 'Variance Explained (%)': variance_explained})"
   ]
  },
  {
   "cell_type": "code",
   "execution_count": 19,
   "id": "f207098d-2696-4af9-af03-089050d77776",
   "metadata": {},
   "outputs": [
    {
     "data": {
      "text/html": [
       "<div>\n",
       "<style scoped>\n",
       "    .dataframe tbody tr th:only-of-type {\n",
       "        vertical-align: middle;\n",
       "    }\n",
       "\n",
       "    .dataframe tbody tr th {\n",
       "        vertical-align: top;\n",
       "    }\n",
       "\n",
       "    .dataframe thead th {\n",
       "        text-align: right;\n",
       "    }\n",
       "</style>\n",
       "<table border=\"1\" class=\"dataframe\">\n",
       "  <thead>\n",
       "    <tr style=\"text-align: right;\">\n",
       "      <th></th>\n",
       "      <th>PCA Component</th>\n",
       "      <th>Variance Explained (%)</th>\n",
       "    </tr>\n",
       "  </thead>\n",
       "  <tbody>\n",
       "    <tr>\n",
       "      <th>0</th>\n",
       "      <td>PCA_Component_0</td>\n",
       "      <td>14.537737</td>\n",
       "    </tr>\n",
       "    <tr>\n",
       "      <th>1</th>\n",
       "      <td>PCA_Component_1</td>\n",
       "      <td>8.845541</td>\n",
       "    </tr>\n",
       "    <tr>\n",
       "      <th>2</th>\n",
       "      <td>PCA_Component_2</td>\n",
       "      <td>7.672634</td>\n",
       "    </tr>\n",
       "    <tr>\n",
       "      <th>3</th>\n",
       "      <td>PCA_Component_3</td>\n",
       "      <td>5.864067</td>\n",
       "    </tr>\n",
       "    <tr>\n",
       "      <th>4</th>\n",
       "      <td>PCA_Component_4</td>\n",
       "      <td>4.636053</td>\n",
       "    </tr>\n",
       "    <tr>\n",
       "      <th>5</th>\n",
       "      <td>PCA_Component_5</td>\n",
       "      <td>4.232242</td>\n",
       "    </tr>\n",
       "    <tr>\n",
       "      <th>6</th>\n",
       "      <td>PCA_Component_6</td>\n",
       "      <td>3.680357</td>\n",
       "    </tr>\n",
       "    <tr>\n",
       "      <th>7</th>\n",
       "      <td>PCA_Component_7</td>\n",
       "      <td>3.364979</td>\n",
       "    </tr>\n",
       "    <tr>\n",
       "      <th>8</th>\n",
       "      <td>PCA_Component_8</td>\n",
       "      <td>2.775071</td>\n",
       "    </tr>\n",
       "    <tr>\n",
       "      <th>9</th>\n",
       "      <td>PCA_Component_9</td>\n",
       "      <td>2.568196</td>\n",
       "    </tr>\n",
       "    <tr>\n",
       "      <th>10</th>\n",
       "      <td>PCA_Component_10</td>\n",
       "      <td>2.537044</td>\n",
       "    </tr>\n",
       "    <tr>\n",
       "      <th>11</th>\n",
       "      <td>PCA_Component_11</td>\n",
       "      <td>2.075423</td>\n",
       "    </tr>\n",
       "    <tr>\n",
       "      <th>12</th>\n",
       "      <td>PCA_Component_12</td>\n",
       "      <td>1.709089</td>\n",
       "    </tr>\n",
       "    <tr>\n",
       "      <th>13</th>\n",
       "      <td>PCA_Component_13</td>\n",
       "      <td>1.631885</td>\n",
       "    </tr>\n",
       "    <tr>\n",
       "      <th>14</th>\n",
       "      <td>PCA_Component_14</td>\n",
       "      <td>1.593184</td>\n",
       "    </tr>\n",
       "    <tr>\n",
       "      <th>15</th>\n",
       "      <td>PCA_Component_15</td>\n",
       "      <td>1.538035</td>\n",
       "    </tr>\n",
       "    <tr>\n",
       "      <th>16</th>\n",
       "      <td>PCA_Component_16</td>\n",
       "      <td>1.443252</td>\n",
       "    </tr>\n",
       "    <tr>\n",
       "      <th>17</th>\n",
       "      <td>PCA_Component_17</td>\n",
       "      <td>1.402814</td>\n",
       "    </tr>\n",
       "    <tr>\n",
       "      <th>18</th>\n",
       "      <td>PCA_Component_18</td>\n",
       "      <td>1.383552</td>\n",
       "    </tr>\n",
       "    <tr>\n",
       "      <th>19</th>\n",
       "      <td>PCA_Component_19</td>\n",
       "      <td>1.348584</td>\n",
       "    </tr>\n",
       "    <tr>\n",
       "      <th>20</th>\n",
       "      <td>PCA_Component_20</td>\n",
       "      <td>1.338601</td>\n",
       "    </tr>\n",
       "    <tr>\n",
       "      <th>21</th>\n",
       "      <td>PCA_Component_21</td>\n",
       "      <td>1.275609</td>\n",
       "    </tr>\n",
       "    <tr>\n",
       "      <th>22</th>\n",
       "      <td>PCA_Component_22</td>\n",
       "      <td>1.267811</td>\n",
       "    </tr>\n",
       "    <tr>\n",
       "      <th>23</th>\n",
       "      <td>PCA_Component_23</td>\n",
       "      <td>1.232791</td>\n",
       "    </tr>\n",
       "    <tr>\n",
       "      <th>24</th>\n",
       "      <td>PCA_Component_24</td>\n",
       "      <td>1.191574</td>\n",
       "    </tr>\n",
       "    <tr>\n",
       "      <th>25</th>\n",
       "      <td>PCA_Component_25</td>\n",
       "      <td>1.158845</td>\n",
       "    </tr>\n",
       "    <tr>\n",
       "      <th>26</th>\n",
       "      <td>PCA_Component_26</td>\n",
       "      <td>1.083236</td>\n",
       "    </tr>\n",
       "    <tr>\n",
       "      <th>27</th>\n",
       "      <td>PCA_Component_27</td>\n",
       "      <td>1.050009</td>\n",
       "    </tr>\n",
       "    <tr>\n",
       "      <th>28</th>\n",
       "      <td>PCA_Component_28</td>\n",
       "      <td>1.034531</td>\n",
       "    </tr>\n",
       "    <tr>\n",
       "      <th>29</th>\n",
       "      <td>PCA_Component_29</td>\n",
       "      <td>0.998393</td>\n",
       "    </tr>\n",
       "    <tr>\n",
       "      <th>30</th>\n",
       "      <td>PCA_Component_30</td>\n",
       "      <td>0.971673</td>\n",
       "    </tr>\n",
       "    <tr>\n",
       "      <th>31</th>\n",
       "      <td>PCA_Component_31</td>\n",
       "      <td>0.936931</td>\n",
       "    </tr>\n",
       "    <tr>\n",
       "      <th>32</th>\n",
       "      <td>PCA_Component_32</td>\n",
       "      <td>0.917796</td>\n",
       "    </tr>\n",
       "    <tr>\n",
       "      <th>33</th>\n",
       "      <td>PCA_Component_33</td>\n",
       "      <td>0.870368</td>\n",
       "    </tr>\n",
       "    <tr>\n",
       "      <th>34</th>\n",
       "      <td>PCA_Component_34</td>\n",
       "      <td>0.815501</td>\n",
       "    </tr>\n",
       "    <tr>\n",
       "      <th>35</th>\n",
       "      <td>PCA_Component_35</td>\n",
       "      <td>0.772913</td>\n",
       "    </tr>\n",
       "    <tr>\n",
       "      <th>36</th>\n",
       "      <td>PCA_Component_36</td>\n",
       "      <td>0.706590</td>\n",
       "    </tr>\n",
       "    <tr>\n",
       "      <th>37</th>\n",
       "      <td>PCA_Component_37</td>\n",
       "      <td>0.697456</td>\n",
       "    </tr>\n",
       "    <tr>\n",
       "      <th>38</th>\n",
       "      <td>PCA_Component_38</td>\n",
       "      <td>0.634636</td>\n",
       "    </tr>\n",
       "    <tr>\n",
       "      <th>39</th>\n",
       "      <td>PCA_Component_39</td>\n",
       "      <td>0.569042</td>\n",
       "    </tr>\n",
       "    <tr>\n",
       "      <th>40</th>\n",
       "      <td>PCA_Component_40</td>\n",
       "      <td>0.520674</td>\n",
       "    </tr>\n",
       "    <tr>\n",
       "      <th>41</th>\n",
       "      <td>PCA_Component_41</td>\n",
       "      <td>0.509628</td>\n",
       "    </tr>\n",
       "  </tbody>\n",
       "</table>\n",
       "</div>"
      ],
      "text/plain": [
       "       PCA Component  Variance Explained (%)\n",
       "0    PCA_Component_0               14.537737\n",
       "1    PCA_Component_1                8.845541\n",
       "2    PCA_Component_2                7.672634\n",
       "3    PCA_Component_3                5.864067\n",
       "4    PCA_Component_4                4.636053\n",
       "5    PCA_Component_5                4.232242\n",
       "6    PCA_Component_6                3.680357\n",
       "7    PCA_Component_7                3.364979\n",
       "8    PCA_Component_8                2.775071\n",
       "9    PCA_Component_9                2.568196\n",
       "10  PCA_Component_10                2.537044\n",
       "11  PCA_Component_11                2.075423\n",
       "12  PCA_Component_12                1.709089\n",
       "13  PCA_Component_13                1.631885\n",
       "14  PCA_Component_14                1.593184\n",
       "15  PCA_Component_15                1.538035\n",
       "16  PCA_Component_16                1.443252\n",
       "17  PCA_Component_17                1.402814\n",
       "18  PCA_Component_18                1.383552\n",
       "19  PCA_Component_19                1.348584\n",
       "20  PCA_Component_20                1.338601\n",
       "21  PCA_Component_21                1.275609\n",
       "22  PCA_Component_22                1.267811\n",
       "23  PCA_Component_23                1.232791\n",
       "24  PCA_Component_24                1.191574\n",
       "25  PCA_Component_25                1.158845\n",
       "26  PCA_Component_26                1.083236\n",
       "27  PCA_Component_27                1.050009\n",
       "28  PCA_Component_28                1.034531\n",
       "29  PCA_Component_29                0.998393\n",
       "30  PCA_Component_30                0.971673\n",
       "31  PCA_Component_31                0.936931\n",
       "32  PCA_Component_32                0.917796\n",
       "33  PCA_Component_33                0.870368\n",
       "34  PCA_Component_34                0.815501\n",
       "35  PCA_Component_35                0.772913\n",
       "36  PCA_Component_36                0.706590\n",
       "37  PCA_Component_37                0.697456\n",
       "38  PCA_Component_38                0.634636\n",
       "39  PCA_Component_39                0.569042\n",
       "40  PCA_Component_40                0.520674\n",
       "41  PCA_Component_41                0.509628"
      ]
     },
     "execution_count": 19,
     "metadata": {},
     "output_type": "execute_result"
    }
   ],
   "source": [
    "# Looking at variance explained list\n",
    "variance_df"
   ]
  },
  {
   "cell_type": "markdown",
   "id": "fb6b49b9-3cac-4dc4-90dc-edbd3d214cbc",
   "metadata": {},
   "source": [
    "## Merge PCA_df with rest of the features"
   ]
  },
  {
   "cell_type": "code",
   "execution_count": 20,
   "id": "d5ab1baa-3eca-4d6f-81a7-834a8f8069f0",
   "metadata": {
    "tags": []
   },
   "outputs": [
    {
     "data": {
      "text/plain": [
       "((2258141, 42), (2258141, 14))"
      ]
     },
     "execution_count": 20,
     "metadata": {},
     "output_type": "execute_result"
    }
   ],
   "source": [
    "pca_df.shape, categorical_data.shape"
   ]
  },
  {
   "cell_type": "code",
   "execution_count": 21,
   "id": "5e3f4cc7-0019-4d2a-88a4-a5df05e816de",
   "metadata": {
    "tags": []
   },
   "outputs": [],
   "source": [
    "pca_df.reset_index(drop=True, inplace=True)\n",
    "categorical_data.reset_index(drop=True, inplace=True)\n",
    "merged_data = pd.concat([pca_df, categorical_data], axis=1)"
   ]
  },
  {
   "cell_type": "code",
   "execution_count": 22,
   "id": "5208d735-5726-4da2-ae6a-d7ff0b87c351",
   "metadata": {
    "tags": []
   },
   "outputs": [
    {
     "data": {
      "text/plain": [
       "(2258141, 56)"
      ]
     },
     "execution_count": 22,
     "metadata": {},
     "output_type": "execute_result"
    }
   ],
   "source": [
    "merged_data.shape"
   ]
  },
  {
   "cell_type": "code",
   "execution_count": 23,
   "id": "43737470-033d-4d1e-a3d2-3f0b777889f1",
   "metadata": {
    "tags": []
   },
   "outputs": [],
   "source": [
    "#merged_data.to_csv('./Datasets/Dimensionally reduced dataset for modeling.csv')"
   ]
  },
  {
   "cell_type": "markdown",
   "id": "08ebaf2a-14b4-4993-84a6-c3684660824c",
   "metadata": {},
   "source": [
    "# Modeling"
   ]
  },
  {
   "cell_type": "markdown",
   "id": "59af4adb-04de-467e-8b0a-0054ed295e95",
   "metadata": {
    "tags": []
   },
   "source": [
    "## Looking in more detail at target classes"
   ]
  },
  {
   "cell_type": "code",
   "execution_count": 24,
   "id": "36343ee8-8f93-4a1c-adff-908b581c3a33",
   "metadata": {
    "tags": []
   },
   "outputs": [
    {
     "data": {
      "text/html": [
       "<div>\n",
       "<style scoped>\n",
       "    .dataframe tbody tr th:only-of-type {\n",
       "        vertical-align: middle;\n",
       "    }\n",
       "\n",
       "    .dataframe tbody tr th {\n",
       "        vertical-align: top;\n",
       "    }\n",
       "\n",
       "    .dataframe thead th {\n",
       "        text-align: right;\n",
       "    }\n",
       "</style>\n",
       "<table border=\"1\" class=\"dataframe\">\n",
       "  <thead>\n",
       "    <tr style=\"text-align: right;\">\n",
       "      <th></th>\n",
       "      <th>PCA_Component_0</th>\n",
       "      <th>PCA_Component_1</th>\n",
       "      <th>PCA_Component_2</th>\n",
       "      <th>PCA_Component_3</th>\n",
       "      <th>PCA_Component_4</th>\n",
       "      <th>PCA_Component_5</th>\n",
       "      <th>PCA_Component_6</th>\n",
       "      <th>PCA_Component_7</th>\n",
       "      <th>PCA_Component_8</th>\n",
       "      <th>PCA_Component_9</th>\n",
       "      <th>...</th>\n",
       "      <th>verification_status</th>\n",
       "      <th>loan_status</th>\n",
       "      <th>pymnt_plan</th>\n",
       "      <th>purpose</th>\n",
       "      <th>addr_state</th>\n",
       "      <th>initial_list_status</th>\n",
       "      <th>application_type</th>\n",
       "      <th>hardship_flag</th>\n",
       "      <th>disbursement_method</th>\n",
       "      <th>debt_settlement_flag</th>\n",
       "    </tr>\n",
       "  </thead>\n",
       "  <tbody>\n",
       "    <tr>\n",
       "      <th>0</th>\n",
       "      <td>-4.106044</td>\n",
       "      <td>-2.015019</td>\n",
       "      <td>-0.922711</td>\n",
       "      <td>0.017330</td>\n",
       "      <td>1.891090</td>\n",
       "      <td>1.818096</td>\n",
       "      <td>0.741998</td>\n",
       "      <td>0.278728</td>\n",
       "      <td>0.244048</td>\n",
       "      <td>0.417153</td>\n",
       "      <td>...</td>\n",
       "      <td>Not Verified</td>\n",
       "      <td>Fully Paid</td>\n",
       "      <td>n</td>\n",
       "      <td>debt_consolidation</td>\n",
       "      <td>PA</td>\n",
       "      <td>w</td>\n",
       "      <td>Individual</td>\n",
       "      <td>N</td>\n",
       "      <td>Cash</td>\n",
       "      <td>N</td>\n",
       "    </tr>\n",
       "    <tr>\n",
       "      <th>1</th>\n",
       "      <td>6.396042</td>\n",
       "      <td>-1.151552</td>\n",
       "      <td>0.188198</td>\n",
       "      <td>-2.931914</td>\n",
       "      <td>-0.069520</td>\n",
       "      <td>1.007682</td>\n",
       "      <td>0.597207</td>\n",
       "      <td>0.181822</td>\n",
       "      <td>0.676380</td>\n",
       "      <td>0.205001</td>\n",
       "      <td>...</td>\n",
       "      <td>Not Verified</td>\n",
       "      <td>Fully Paid</td>\n",
       "      <td>n</td>\n",
       "      <td>small_business</td>\n",
       "      <td>SD</td>\n",
       "      <td>w</td>\n",
       "      <td>Individual</td>\n",
       "      <td>N</td>\n",
       "      <td>Cash</td>\n",
       "      <td>N</td>\n",
       "    </tr>\n",
       "    <tr>\n",
       "      <th>2</th>\n",
       "      <td>-1.029270</td>\n",
       "      <td>4.193481</td>\n",
       "      <td>0.203950</td>\n",
       "      <td>-1.112776</td>\n",
       "      <td>0.411735</td>\n",
       "      <td>-0.295923</td>\n",
       "      <td>0.259924</td>\n",
       "      <td>-0.778349</td>\n",
       "      <td>-0.134218</td>\n",
       "      <td>0.236882</td>\n",
       "      <td>...</td>\n",
       "      <td>Not Verified</td>\n",
       "      <td>Fully Paid</td>\n",
       "      <td>n</td>\n",
       "      <td>home_improvement</td>\n",
       "      <td>IL</td>\n",
       "      <td>w</td>\n",
       "      <td>Joint App</td>\n",
       "      <td>N</td>\n",
       "      <td>Cash</td>\n",
       "      <td>N</td>\n",
       "    </tr>\n",
       "    <tr>\n",
       "      <th>3</th>\n",
       "      <td>3.827254</td>\n",
       "      <td>1.910027</td>\n",
       "      <td>4.526960</td>\n",
       "      <td>-2.282167</td>\n",
       "      <td>-1.462872</td>\n",
       "      <td>3.197383</td>\n",
       "      <td>-2.107418</td>\n",
       "      <td>0.466992</td>\n",
       "      <td>0.963532</td>\n",
       "      <td>0.687715</td>\n",
       "      <td>...</td>\n",
       "      <td>Source Verified</td>\n",
       "      <td>Current</td>\n",
       "      <td>n</td>\n",
       "      <td>debt_consolidation</td>\n",
       "      <td>NJ</td>\n",
       "      <td>w</td>\n",
       "      <td>Individual</td>\n",
       "      <td>N</td>\n",
       "      <td>Cash</td>\n",
       "      <td>N</td>\n",
       "    </tr>\n",
       "    <tr>\n",
       "      <th>4</th>\n",
       "      <td>2.155775</td>\n",
       "      <td>-0.290886</td>\n",
       "      <td>-1.684681</td>\n",
       "      <td>-0.538968</td>\n",
       "      <td>2.888613</td>\n",
       "      <td>-1.120954</td>\n",
       "      <td>-0.406556</td>\n",
       "      <td>-1.752072</td>\n",
       "      <td>0.114479</td>\n",
       "      <td>1.304035</td>\n",
       "      <td>...</td>\n",
       "      <td>Source Verified</td>\n",
       "      <td>Fully Paid</td>\n",
       "      <td>n</td>\n",
       "      <td>major_purchase</td>\n",
       "      <td>PA</td>\n",
       "      <td>w</td>\n",
       "      <td>Individual</td>\n",
       "      <td>N</td>\n",
       "      <td>Cash</td>\n",
       "      <td>N</td>\n",
       "    </tr>\n",
       "  </tbody>\n",
       "</table>\n",
       "<p>5 rows × 56 columns</p>\n",
       "</div>"
      ],
      "text/plain": [
       "   PCA_Component_0  PCA_Component_1  PCA_Component_2  PCA_Component_3  \\\n",
       "0        -4.106044        -2.015019        -0.922711         0.017330   \n",
       "1         6.396042        -1.151552         0.188198        -2.931914   \n",
       "2        -1.029270         4.193481         0.203950        -1.112776   \n",
       "3         3.827254         1.910027         4.526960        -2.282167   \n",
       "4         2.155775        -0.290886        -1.684681        -0.538968   \n",
       "\n",
       "   PCA_Component_4  PCA_Component_5  PCA_Component_6  PCA_Component_7  \\\n",
       "0         1.891090         1.818096         0.741998         0.278728   \n",
       "1        -0.069520         1.007682         0.597207         0.181822   \n",
       "2         0.411735        -0.295923         0.259924        -0.778349   \n",
       "3        -1.462872         3.197383        -2.107418         0.466992   \n",
       "4         2.888613        -1.120954        -0.406556        -1.752072   \n",
       "\n",
       "   PCA_Component_8  PCA_Component_9  ...  verification_status  loan_status  \\\n",
       "0         0.244048         0.417153  ...         Not Verified   Fully Paid   \n",
       "1         0.676380         0.205001  ...         Not Verified   Fully Paid   \n",
       "2        -0.134218         0.236882  ...         Not Verified   Fully Paid   \n",
       "3         0.963532         0.687715  ...      Source Verified      Current   \n",
       "4         0.114479         1.304035  ...      Source Verified   Fully Paid   \n",
       "\n",
       "   pymnt_plan             purpose  addr_state  initial_list_status  \\\n",
       "0           n  debt_consolidation          PA                    w   \n",
       "1           n      small_business          SD                    w   \n",
       "2           n    home_improvement          IL                    w   \n",
       "3           n  debt_consolidation          NJ                    w   \n",
       "4           n      major_purchase          PA                    w   \n",
       "\n",
       "   application_type  hardship_flag  disbursement_method  debt_settlement_flag  \n",
       "0        Individual              N                 Cash                     N  \n",
       "1        Individual              N                 Cash                     N  \n",
       "2         Joint App              N                 Cash                     N  \n",
       "3        Individual              N                 Cash                     N  \n",
       "4        Individual              N                 Cash                     N  \n",
       "\n",
       "[5 rows x 56 columns]"
      ]
     },
     "execution_count": 24,
     "metadata": {},
     "output_type": "execute_result"
    }
   ],
   "source": [
    "merged_data.head()"
   ]
  },
  {
   "cell_type": "code",
   "execution_count": 25,
   "id": "7b8416da-e5b1-4724-873b-30f4ef1fb488",
   "metadata": {
    "tags": []
   },
   "outputs": [
    {
     "name": "stdout",
     "output_type": "stream",
     "text": [
      "Grade Counts and Proportions\n",
      "       Counts  Proportions (%)\n",
      "grade                         \n",
      "B      663102        29.364951\n",
      "C      649396        28.757992\n",
      "A      432828        19.167448\n",
      "D      323839        14.340956\n",
      "E      135235         5.988776\n",
      "F       41653         1.844570\n",
      "G       12088         0.535308\n",
      "\n",
      "Subgrade Counts and Proportions\n",
      "           Counts  Proportions (%)\n",
      "sub_grade                         \n",
      "C1         145781         6.455797\n",
      "B5         140163         6.207008\n",
      "B4         139693         6.186195\n",
      "B3         131430         5.820274\n",
      "C2         130974         5.800081\n",
      "C3         129079         5.716162\n",
      "C4         126982         5.623298\n",
      "B2         126555         5.604389\n",
      "B1         125261         5.547085\n",
      "C5         116580         5.162654\n",
      "A5         107564         4.763387\n",
      "A4          95826         4.243579\n",
      "A1          86768         3.842453\n",
      "D1          81637         3.615230\n",
      "A3          73144         3.239125\n",
      "D2          72771         3.222607\n",
      "A2          69526         3.078904\n",
      "D3          64706         2.865454\n",
      "D4          56797         2.515211\n",
      "D5          47928         2.122454\n",
      "E1          33503         1.483654\n",
      "E2          29824         1.320732\n",
      "E3          26624         1.179023\n",
      "E4          22686         1.004632\n",
      "E5          22598         1.000735\n",
      "F1          13371         0.592124\n",
      "F2           9271         0.410559\n",
      "F3           7772         0.344177\n",
      "F4           6097         0.270001\n",
      "F5           5142         0.227709\n",
      "G1           4083         0.180812\n",
      "G2           2670         0.118239\n",
      "G3           2082         0.092200\n",
      "G4           1694         0.075017\n",
      "G5           1559         0.069039\n"
     ]
    }
   ],
   "source": [
    "value_counts_grade = target_grade.value_counts()\n",
    "proportions_grade = target_grade.value_counts(normalize=True) * 100\n",
    "combined_grade = pd.DataFrame({'Counts': value_counts_grade, 'Proportions (%)': proportions_grade})\n",
    "\n",
    "value_counts_subgrade = target_subgrade.value_counts()\n",
    "proportions_subgrade = target_subgrade.value_counts(normalize=True) * 100\n",
    "combined_subgrade = pd.DataFrame({'Counts': value_counts_subgrade, 'Proportions (%)': proportions_subgrade})\n",
    "\n",
    "print(\"Grade Counts and Proportions\")\n",
    "print(combined_grade)\n",
    "print(\"\\nSubgrade Counts and Proportions\")\n",
    "print(combined_subgrade)"
   ]
  },
  {
   "cell_type": "markdown",
   "id": "1b2a2a7a-5c2f-42e8-875a-6c86bdfc4f41",
   "metadata": {},
   "source": [
    "- In both features we have very low frequency of lowest grades of loans, which might lead to issues with modeling. I will merge them into less categories due to this. "
   ]
  },
  {
   "cell_type": "code",
   "execution_count": 26,
   "id": "2cdacb4b-faf3-422d-9a46-84aec3b1fbfa",
   "metadata": {
    "tags": []
   },
   "outputs": [],
   "source": [
    "target_data = pd.DataFrame({\n",
    "    'grade': target_grade,\n",
    "    'sub_grade': target_subgrade,\n",
    "    'int_rate': target_int_rate\n",
    "})"
   ]
  },
  {
   "cell_type": "code",
   "execution_count": 27,
   "id": "6ac01613-8b76-4544-b18d-298536bb1a7b",
   "metadata": {
    "tags": []
   },
   "outputs": [],
   "source": [
    "target_data['grade_merged'] = target_data['grade'].replace(['F', 'G'], 'FG')\n",
    "\n",
    "threshold = 1  # in %\n",
    "value_counts_subgrade = target_data['sub_grade'].value_counts(normalize=True) * 100\n",
    "to_merge_subgrade = value_counts_subgrade[value_counts_subgrade < threshold].index\n",
    "target_data['sub_grade_merged'] = target_data['sub_grade'].replace(to_merge_subgrade, 'Other')"
   ]
  },
  {
   "cell_type": "code",
   "execution_count": 28,
   "id": "fe4766b6-3a8e-44c8-88cc-309eb608acb2",
   "metadata": {
    "tags": []
   },
   "outputs": [
    {
     "data": {
      "text/plain": [
       "grade                 7\n",
       "sub_grade            35\n",
       "int_rate            673\n",
       "grade_merged          6\n",
       "sub_grade_merged     26\n",
       "dtype: int64"
      ]
     },
     "execution_count": 28,
     "metadata": {},
     "output_type": "execute_result"
    }
   ],
   "source": [
    "target_data.nunique()"
   ]
  },
  {
   "cell_type": "markdown",
   "id": "a9cf4855-c77b-4cf1-be77-a9d66d3ed262",
   "metadata": {},
   "source": [
    "- We reduced number of categories from 7 to 6 in grade feature, from 35 to 26 in subgrade "
   ]
  },
  {
   "cell_type": "code",
   "execution_count": 29,
   "id": "53d8f30c-adae-481e-b9e9-595027ffcf93",
   "metadata": {
    "tags": []
   },
   "outputs": [
    {
     "data": {
      "text/plain": [
       "count    2258141.000\n",
       "mean          13.089\n",
       "std            4.829\n",
       "min            5.310\n",
       "25%            9.490\n",
       "50%           12.620\n",
       "75%           15.990\n",
       "max           30.990\n",
       "Name: int_rate, dtype: float64"
      ]
     },
     "execution_count": 29,
     "metadata": {},
     "output_type": "execute_result"
    }
   ],
   "source": [
    "target_data['int_rate'].describe().round(3)"
   ]
  },
  {
   "cell_type": "code",
   "execution_count": 30,
   "id": "bdef538d-eeab-4e99-bb1a-6808961f599a",
   "metadata": {
    "tags": []
   },
   "outputs": [
    {
     "data": {
      "image/png": "[encoded data removed]",
      "text/plain": [
       "<Figure size 1000x600 with 1 Axes>"
      ]
     },
     "metadata": {},
     "output_type": "display_data"
    }
   ],
   "source": [
    "plt.figure(figsize=(10, 6))\n",
    "sns.violinplot(target_int_rate)\n",
    "plt.title('Interest Rate Distribution Violinplot')\n",
    "plt.ylabel('Interest Rate (%)')\n",
    "plt.show()"
   ]
  },
  {
   "cell_type": "code",
   "execution_count": 31,
   "id": "421252de-0268-4832-be24-e7812b866569",
   "metadata": {
    "tags": []
   },
   "outputs": [
    {
     "data": {
      "image/png": "[encoded data removed]",
      "text/plain": [
       "<Figure size 640x480 with 1 Axes>"
      ]
     },
     "metadata": {},
     "output_type": "display_data"
    }
   ],
   "source": [
    "median_int_rate = target_data.groupby('grade')['int_rate'].median()\n",
    "sorted_grades = median_int_rate.sort_values().index.tolist()\n",
    "sns.boxplot(x='grade', y='int_rate', data=target_data, order=sorted_grades)\n",
    "plt.title('Boxplot of Interest Rates by Grade')\n",
    "plt.xlabel('Grade')\n",
    "plt.ylabel('Interest Rate (%)')\n",
    "plt.show()"
   ]
  },
  {
   "cell_type": "code",
   "execution_count": 32,
   "id": "19cdcc0f-7316-4f33-8157-0436403ef628",
   "metadata": {
    "tags": []
   },
   "outputs": [
    {
     "data": {
      "image/png": "[encoded data removed]",
      "text/plain": [
       "<Figure size 1000x600 with 1 Axes>"
      ]
     },
     "metadata": {},
     "output_type": "display_data"
    }
   ],
   "source": [
    "median_int_rate = target_data.groupby('sub_grade')['int_rate'].median()\n",
    "sorted_grades = median_int_rate.sort_values().index.tolist()\n",
    "plt.figure(figsize=(10, 6))\n",
    "sns.boxplot(x='sub_grade', y='int_rate', data=target_data, order=sorted_grades)\n",
    "plt.title('Boxplot of Interest Rates by Sub-Grade')\n",
    "plt.xlabel('Sub-Grade')\n",
    "plt.ylabel('Interest Rate (%)')\n",
    "plt.show()"
   ]
  },
  {
   "cell_type": "markdown",
   "id": "bf7c0258-e810-4f40-b0f2-d1b0528e2fa7",
   "metadata": {},
   "source": [
    "- We can see clear correlation between grade, sub_grade and interest rate\n",
    "- Lower the grade, higher the interest rate\n",
    "- Also interesting observation that range of interest rates increases as sub_grade decreases, best grade having least variance, and lower grades getting increasingly more variance"
   ]
  },
  {
   "cell_type": "markdown",
   "id": "5c0821d8-7bab-4b13-b109-e836f5271170",
   "metadata": {
    "tags": []
   },
   "source": [
    "### Grade Prediction Model"
   ]
  },
  {
   "cell_type": "code",
   "execution_count": 33,
   "id": "78d52fc0-f0ed-4c1a-97a1-9d48af558bd2",
   "metadata": {
    "tags": []
   },
   "outputs": [
    {
     "data": {
      "text/plain": [
       "0          C\n",
       "1          C\n",
       "2          B\n",
       "3          C\n",
       "4          F\n",
       "          ..\n",
       "2258136    C\n",
       "2258137    B\n",
       "2258138    B\n",
       "2258139    C\n",
       "2258140    C\n",
       "Name: grade, Length: 2258141, dtype: object"
      ]
     },
     "execution_count": 33,
     "metadata": {},
     "output_type": "execute_result"
    }
   ],
   "source": [
    "target_grade"
   ]
  },
  {
   "cell_type": "code",
   "execution_count": 34,
   "id": "7be979e1-f342-4b6b-9950-30b8e85f4074",
   "metadata": {
    "tags": []
   },
   "outputs": [
    {
     "data": {
      "text/html": [
       "<div>\n",
       "<style scoped>\n",
       "    .dataframe tbody tr th:only-of-type {\n",
       "        vertical-align: middle;\n",
       "    }\n",
       "\n",
       "    .dataframe tbody tr th {\n",
       "        vertical-align: top;\n",
       "    }\n",
       "\n",
       "    .dataframe thead th {\n",
       "        text-align: right;\n",
       "    }\n",
       "</style>\n",
       "<table border=\"1\" class=\"dataframe\">\n",
       "  <thead>\n",
       "    <tr style=\"text-align: right;\">\n",
       "      <th></th>\n",
       "      <th>PCA_Component_0</th>\n",
       "      <th>PCA_Component_1</th>\n",
       "      <th>PCA_Component_2</th>\n",
       "      <th>PCA_Component_3</th>\n",
       "      <th>PCA_Component_4</th>\n",
       "      <th>PCA_Component_5</th>\n",
       "      <th>PCA_Component_6</th>\n",
       "      <th>PCA_Component_7</th>\n",
       "      <th>PCA_Component_8</th>\n",
       "      <th>PCA_Component_9</th>\n",
       "      <th>...</th>\n",
       "      <th>verification_status</th>\n",
       "      <th>loan_status</th>\n",
       "      <th>pymnt_plan</th>\n",
       "      <th>purpose</th>\n",
       "      <th>addr_state</th>\n",
       "      <th>initial_list_status</th>\n",
       "      <th>application_type</th>\n",
       "      <th>hardship_flag</th>\n",
       "      <th>disbursement_method</th>\n",
       "      <th>debt_settlement_flag</th>\n",
       "    </tr>\n",
       "  </thead>\n",
       "  <tbody>\n",
       "    <tr>\n",
       "      <th>0</th>\n",
       "      <td>-4.106044</td>\n",
       "      <td>-2.015019</td>\n",
       "      <td>-0.922711</td>\n",
       "      <td>0.017330</td>\n",
       "      <td>1.891090</td>\n",
       "      <td>1.818096</td>\n",
       "      <td>0.741998</td>\n",
       "      <td>0.278728</td>\n",
       "      <td>0.244048</td>\n",
       "      <td>0.417153</td>\n",
       "      <td>...</td>\n",
       "      <td>Not Verified</td>\n",
       "      <td>Fully Paid</td>\n",
       "      <td>n</td>\n",
       "      <td>debt_consolidation</td>\n",
       "      <td>PA</td>\n",
       "      <td>w</td>\n",
       "      <td>Individual</td>\n",
       "      <td>N</td>\n",
       "      <td>Cash</td>\n",
       "      <td>N</td>\n",
       "    </tr>\n",
       "    <tr>\n",
       "      <th>1</th>\n",
       "      <td>6.396042</td>\n",
       "      <td>-1.151552</td>\n",
       "      <td>0.188198</td>\n",
       "      <td>-2.931914</td>\n",
       "      <td>-0.069520</td>\n",
       "      <td>1.007682</td>\n",
       "      <td>0.597207</td>\n",
       "      <td>0.181822</td>\n",
       "      <td>0.676380</td>\n",
       "      <td>0.205001</td>\n",
       "      <td>...</td>\n",
       "      <td>Not Verified</td>\n",
       "      <td>Fully Paid</td>\n",
       "      <td>n</td>\n",
       "      <td>small_business</td>\n",
       "      <td>SD</td>\n",
       "      <td>w</td>\n",
       "      <td>Individual</td>\n",
       "      <td>N</td>\n",
       "      <td>Cash</td>\n",
       "      <td>N</td>\n",
       "    </tr>\n",
       "    <tr>\n",
       "      <th>2</th>\n",
       "      <td>-1.029270</td>\n",
       "      <td>4.193481</td>\n",
       "      <td>0.203950</td>\n",
       "      <td>-1.112776</td>\n",
       "      <td>0.411735</td>\n",
       "      <td>-0.295923</td>\n",
       "      <td>0.259924</td>\n",
       "      <td>-0.778349</td>\n",
       "      <td>-0.134218</td>\n",
       "      <td>0.236882</td>\n",
       "      <td>...</td>\n",
       "      <td>Not Verified</td>\n",
       "      <td>Fully Paid</td>\n",
       "      <td>n</td>\n",
       "      <td>home_improvement</td>\n",
       "      <td>IL</td>\n",
       "      <td>w</td>\n",
       "      <td>Joint App</td>\n",
       "      <td>N</td>\n",
       "      <td>Cash</td>\n",
       "      <td>N</td>\n",
       "    </tr>\n",
       "    <tr>\n",
       "      <th>3</th>\n",
       "      <td>3.827254</td>\n",
       "      <td>1.910027</td>\n",
       "      <td>4.526960</td>\n",
       "      <td>-2.282167</td>\n",
       "      <td>-1.462872</td>\n",
       "      <td>3.197383</td>\n",
       "      <td>-2.107418</td>\n",
       "      <td>0.466992</td>\n",
       "      <td>0.963532</td>\n",
       "      <td>0.687715</td>\n",
       "      <td>...</td>\n",
       "      <td>Source Verified</td>\n",
       "      <td>Current</td>\n",
       "      <td>n</td>\n",
       "      <td>debt_consolidation</td>\n",
       "      <td>NJ</td>\n",
       "      <td>w</td>\n",
       "      <td>Individual</td>\n",
       "      <td>N</td>\n",
       "      <td>Cash</td>\n",
       "      <td>N</td>\n",
       "    </tr>\n",
       "    <tr>\n",
       "      <th>4</th>\n",
       "      <td>2.155775</td>\n",
       "      <td>-0.290886</td>\n",
       "      <td>-1.684681</td>\n",
       "      <td>-0.538968</td>\n",
       "      <td>2.888613</td>\n",
       "      <td>-1.120954</td>\n",
       "      <td>-0.406556</td>\n",
       "      <td>-1.752072</td>\n",
       "      <td>0.114479</td>\n",
       "      <td>1.304035</td>\n",
       "      <td>...</td>\n",
       "      <td>Source Verified</td>\n",
       "      <td>Fully Paid</td>\n",
       "      <td>n</td>\n",
       "      <td>major_purchase</td>\n",
       "      <td>PA</td>\n",
       "      <td>w</td>\n",
       "      <td>Individual</td>\n",
       "      <td>N</td>\n",
       "      <td>Cash</td>\n",
       "      <td>N</td>\n",
       "    </tr>\n",
       "  </tbody>\n",
       "</table>\n",
       "<p>5 rows × 56 columns</p>\n",
       "</div>"
      ],
      "text/plain": [
       "   PCA_Component_0  PCA_Component_1  PCA_Component_2  PCA_Component_3  \\\n",
       "0        -4.106044        -2.015019        -0.922711         0.017330   \n",
       "1         6.396042        -1.151552         0.188198        -2.931914   \n",
       "2        -1.029270         4.193481         0.203950        -1.112776   \n",
       "3         3.827254         1.910027         4.526960        -2.282167   \n",
       "4         2.155775        -0.290886        -1.684681        -0.538968   \n",
       "\n",
       "   PCA_Component_4  PCA_Component_5  PCA_Component_6  PCA_Component_7  \\\n",
       "0         1.891090         1.818096         0.741998         0.278728   \n",
       "1        -0.069520         1.007682         0.597207         0.181822   \n",
       "2         0.411735        -0.295923         0.259924        -0.778349   \n",
       "3        -1.462872         3.197383        -2.107418         0.466992   \n",
       "4         2.888613        -1.120954        -0.406556        -1.752072   \n",
       "\n",
       "   PCA_Component_8  PCA_Component_9  ...  verification_status  loan_status  \\\n",
       "0         0.244048         0.417153  ...         Not Verified   Fully Paid   \n",
       "1         0.676380         0.205001  ...         Not Verified   Fully Paid   \n",
       "2        -0.134218         0.236882  ...         Not Verified   Fully Paid   \n",
       "3         0.963532         0.687715  ...      Source Verified      Current   \n",
       "4         0.114479         1.304035  ...      Source Verified   Fully Paid   \n",
       "\n",
       "   pymnt_plan             purpose  addr_state  initial_list_status  \\\n",
       "0           n  debt_consolidation          PA                    w   \n",
       "1           n      small_business          SD                    w   \n",
       "2           n    home_improvement          IL                    w   \n",
       "3           n  debt_consolidation          NJ                    w   \n",
       "4           n      major_purchase          PA                    w   \n",
       "\n",
       "   application_type  hardship_flag  disbursement_method  debt_settlement_flag  \n",
       "0        Individual              N                 Cash                     N  \n",
       "1        Individual              N                 Cash                     N  \n",
       "2         Joint App              N                 Cash                     N  \n",
       "3        Individual              N                 Cash                     N  \n",
       "4        Individual              N                 Cash                     N  \n",
       "\n",
       "[5 rows x 56 columns]"
      ]
     },
     "execution_count": 34,
     "metadata": {},
     "output_type": "execute_result"
    }
   ],
   "source": [
    "merged_data.head()"
   ]
  },
  {
   "cell_type": "code",
   "execution_count": 35,
   "id": "2866429d-41c3-4d09-9861-45215c174919",
   "metadata": {
    "tags": []
   },
   "outputs": [
    {
     "data": {
      "text/plain": [
       "['term',\n",
       " 'emp_title',\n",
       " 'emp_length',\n",
       " 'home_ownership',\n",
       " 'verification_status',\n",
       " 'loan_status',\n",
       " 'pymnt_plan',\n",
       " 'purpose',\n",
       " 'addr_state',\n",
       " 'initial_list_status',\n",
       " 'application_type',\n",
       " 'hardship_flag',\n",
       " 'disbursement_method',\n",
       " 'debt_settlement_flag']"
      ]
     },
     "execution_count": 35,
     "metadata": {},
     "output_type": "execute_result"
    }
   ],
   "source": [
    "categorical_columns"
   ]
  },
  {
   "cell_type": "code",
   "execution_count": 36,
   "id": "f3cab317-2fda-443d-9341-463f4632d5de",
   "metadata": {},
   "outputs": [],
   "source": [
    "X = merged_data\n",
    "y = target_grade"
   ]
  },
  {
   "cell_type": "code",
   "execution_count": 37,
   "id": "0dde84a3-57cd-4c65-9999-e5f2ada78875",
   "metadata": {},
   "outputs": [],
   "source": [
    "cat_features = categorical_columns"
   ]
  },
  {
   "cell_type": "code",
   "execution_count": 38,
   "id": "a08372eb-8442-48c3-b5b4-a80e45803328",
   "metadata": {
    "tags": []
   },
   "outputs": [],
   "source": [
    "sample_size = 100000  # define your sample size here\n",
    "X_sampled = X.sample(n=sample_size, random_state=42)\n",
    "y_sampled = y.loc[X_sampled.index]\n",
    "\n",
    "X_train, X_temp, y_train, y_temp = train_test_split(X_sampled, y_sampled, stratify=y_sampled, test_size=0.3, random_state=2)\n",
    "X_val, X_test, y_val, y_test = train_test_split(X_temp, y_temp, stratify=y_temp, test_size=0.5, random_state=3)\n",
    "\n",
    "train_pool = Pool(data=X_train, label=y_train, cat_features=cat_features)\n",
    "validation_pool = Pool(data=X_val, label=y_val, cat_features=cat_features)"
   ]
  },
  {
   "cell_type": "markdown",
   "id": "5de9184d-61c8-41bd-a248-702aacebced0",
   "metadata": {},
   "source": [
    "# Model for Grade class"
   ]
  },
  {
   "cell_type": "code",
   "execution_count": 39,
   "id": "a5c67df7-5674-42f3-b5b7-e9c0f907c0d2",
   "metadata": {},
   "outputs": [],
   "source": [
    "X_train, X_temp, y_train, y_temp = train_test_split(X_sampled, y_sampled, stratify=y_sampled, test_size=0.3, random_state=2)\n",
    "X_val, X_test, y_val, y_test = train_test_split(X_temp, y_temp, stratify=y_temp, test_size=0.5, random_state=3)"
   ]
  },
  {
   "cell_type": "code",
   "execution_count": 40,
   "id": "6a879696-570e-47a7-a965-2e3520825c5f",
   "metadata": {},
   "outputs": [],
   "source": [
    "ros = RandomOverSampler(random_state=42)\n",
    "X_train_ros, y_train_ros = ros.fit_resample(X_train, y_train)"
   ]
  },
  {
   "cell_type": "code",
   "execution_count": 41,
   "id": "d5c7358c-d053-4627-a7d8-15054a8fb9ad",
   "metadata": {},
   "outputs": [],
   "source": [
    "# Pool with original data\n",
    "train_pool = Pool(data=X_train, label=y_train, cat_features=cat_features)\n",
    "validation_pool = Pool(data=X_val, label=y_val, cat_features=cat_features)\n",
    "\n",
    "# Pool with ROS-balanced data\n",
    "train_pool_ros = Pool(data=X_train_ros, label=y_train_ros, cat_features=cat_features)"
   ]
  },
  {
   "cell_type": "markdown",
   "id": "5320b7d4-3950-448b-b9f0-c646406e8608",
   "metadata": {},
   "source": [
    "### Model 1"
   ]
  },
  {
   "cell_type": "code",
   "execution_count": 42,
   "id": "16fdcf68-739d-467f-8c24-6537bb9ec5ec",
   "metadata": {},
   "outputs": [
    {
     "data": {
      "application/vnd.jupyter.widget-view+json": {
       "model_id": "ce6f626868874cc7afc881c5e7a104a0",
       "version_major": 2,
       "version_minor": 0
      },
      "text/plain": [
       "MetricVisualizer(layout=Layout(align_self='stretch', height='500px'))"
      ]
     },
     "metadata": {},
     "output_type": "display_data"
    },
    {
     "name": "stdout",
     "output_type": "stream",
     "text": [
      "Learning rate set to 0.117552\n",
      "0:\tlearn: 0.3981400\ttest: 0.3948884\tbest: 0.3948884 (0)\ttotal: 545ms\tremaining: 9m 4s\n",
      "50:\tlearn: 0.4694214\ttest: 0.4569296\tbest: 0.4569296 (50)\ttotal: 17.3s\tremaining: 5m 21s\n",
      "100:\tlearn: 0.4979489\ttest: 0.4704969\tbest: 0.4715674 (99)\ttotal: 33.5s\tremaining: 4m 58s\n",
      "150:\tlearn: 0.5219961\ttest: 0.4847863\tbest: 0.4847863 (150)\ttotal: 49.9s\tremaining: 4m 40s\n",
      "200:\tlearn: 0.5420602\ttest: 0.4935495\tbest: 0.4943814 (196)\ttotal: 1m 6s\tremaining: 4m 23s\n",
      "250:\tlearn: 0.5582160\ttest: 0.4967815\tbest: 0.4976633 (248)\ttotal: 1m 23s\tremaining: 4m 10s\n",
      "300:\tlearn: 0.5733169\ttest: 0.5000979\tbest: 0.5011755 (293)\ttotal: 1m 41s\tremaining: 3m 56s\n",
      "350:\tlearn: 0.5850886\ttest: 0.5008724\tbest: 0.5025872 (332)\ttotal: 1m 59s\tremaining: 3m 40s\n",
      "400:\tlearn: 0.5959291\ttest: 0.5027213\tbest: 0.5049152 (376)\ttotal: 2m 16s\tremaining: 3m 23s\n",
      "Stopped by overfitting detector  (50 iterations wait)\n",
      "\n",
      "bestTest = 0.5049152344\n",
      "bestIteration = 376\n",
      "\n",
      "Shrink model to first 377 iterations.\n"
     ]
    },
    {
     "data": {
      "application/vnd.jupyter.widget-view+json": {
       "model_id": "26a91f7a40d24b469505870c17110d0a",
       "version_major": 2,
       "version_minor": 0
      },
      "text/plain": [
       "MetricVisualizer(layout=Layout(align_self='stretch', height='500px'))"
      ]
     },
     "metadata": {},
     "output_type": "display_data"
    },
    {
     "name": "stdout",
     "output_type": "stream",
     "text": [
      "Learning rate set to 0.119278\n",
      "0:\tlearn: 0.3215987\ttest: 0.3375025\tbest: 0.3375025 (0)\ttotal: 676ms\tremaining: 11m 14s\n",
      "50:\tlearn: 0.5352760\ttest: 0.4257937\tbest: 0.4257937 (50)\ttotal: 33.6s\tremaining: 10m 25s\n",
      "100:\tlearn: 0.6060956\ttest: 0.4357497\tbest: 0.4357497 (100)\ttotal: 1m 5s\tremaining: 9m 40s\n",
      "150:\tlearn: 0.6473676\ttest: 0.4470792\tbest: 0.4470792 (150)\ttotal: 1m 36s\tremaining: 9m 3s\n",
      "200:\tlearn: 0.6742794\ttest: 0.4565262\tbest: 0.4566765 (198)\ttotal: 2m 8s\tremaining: 8m 29s\n",
      "250:\tlearn: 0.6961518\ttest: 0.4627972\tbest: 0.4646804 (248)\ttotal: 2m 39s\tremaining: 7m 56s\n",
      "300:\tlearn: 0.7111688\ttest: 0.4692264\tbest: 0.4694399 (299)\ttotal: 3m 11s\tremaining: 7m 25s\n",
      "350:\tlearn: 0.7246106\ttest: 0.4738803\tbest: 0.4738803 (350)\ttotal: 3m 44s\tremaining: 6m 54s\n",
      "400:\tlearn: 0.7345506\ttest: 0.4778608\tbest: 0.4778608 (400)\ttotal: 4m 17s\tremaining: 6m 24s\n",
      "450:\tlearn: 0.7438346\ttest: 0.4761136\tbest: 0.4781761 (402)\ttotal: 4m 50s\tremaining: 5m 53s\n",
      "Stopped by overfitting detector  (50 iterations wait)\n",
      "\n",
      "bestTest = 0.478176087\n",
      "bestIteration = 402\n",
      "\n",
      "Shrink model to first 403 iterations.\n"
     ]
    },
    {
     "data": {
      "text/plain": [
       "<catboost.core.CatBoostClassifier at 0x2052e76fdd0>"
      ]
     },
     "execution_count": 42,
     "metadata": {},
     "output_type": "execute_result"
    }
   ],
   "source": [
    "model_params = {\n",
    "    'loss_function': 'MultiClass',\n",
    "    'eval_metric': 'TotalF1',\n",
    "    'cat_features': cat_features,\n",
    "    'early_stopping_rounds': 50,\n",
    "    'verbose': 50\n",
    "}\n",
    "\n",
    "# Train model with original data\n",
    "model_original = CatBoostClassifier(**model_params)\n",
    "model_original.fit(train_pool, eval_set=validation_pool, plot=True)\n",
    "\n",
    "# Train model with ROS data\n",
    "model_ros = CatBoostClassifier(**model_params)\n",
    "model_ros.fit(train_pool_ros, eval_set=validation_pool, plot=True)"
   ]
  },
  {
   "cell_type": "code",
   "execution_count": 43,
   "id": "762172f7-4b52-44cc-934f-a769ca545420",
   "metadata": {},
   "outputs": [
    {
     "name": "stdout",
     "output_type": "stream",
     "text": [
      "Model trained on Original Data:\n",
      "              precision    recall  f1-score   support\n",
      "\n",
      "           A       0.73      0.69      0.71      2876\n",
      "           B       0.52      0.59      0.55      4441\n",
      "           C       0.46      0.60      0.52      4302\n",
      "           D       0.39      0.19      0.26      2129\n",
      "           E       0.37      0.20      0.26       893\n",
      "           F       0.30      0.07      0.12       276\n",
      "           G       0.00      0.00      0.00        83\n",
      "\n",
      "    accuracy                           0.52     15000\n",
      "   macro avg       0.40      0.33      0.35     15000\n",
      "weighted avg       0.51      0.52      0.50     15000\n",
      "\n",
      "[[1977  819   79    1    0    0    0]\n",
      " [ 600 2633 1163   42    3    0    0]\n",
      " [ 106 1301 2601  238   52    4    0]\n",
      " [  11  290 1292  406  120   10    0]\n",
      " [   1   43  396  259  175   18    1]\n",
      " [   0    7   84   72   92   20    1]\n",
      " [   0    1   21   15   31   15    0]]\n"
     ]
    }
   ],
   "source": [
    "y_pred_original = model_original.predict(X_test)\n",
    "\n",
    "# Model report for the original model\n",
    "print(\"Model trained on Original Data:\")\n",
    "print(classification_report(y_test, y_pred_original))\n",
    "print(confusion_matrix(y_test, y_pred_original))"
   ]
  },
  {
   "cell_type": "code",
   "execution_count": 44,
   "id": "cb3a9425-2642-4446-8974-75219e28bd0b",
   "metadata": {
    "tags": []
   },
   "outputs": [
    {
     "name": "stdout",
     "output_type": "stream",
     "text": [
      "\n",
      "Model trained on ROS Data:\n",
      "              precision    recall  f1-score   support\n",
      "\n",
      "           A       0.66      0.76      0.71      2876\n",
      "           B       0.53      0.50      0.52      4441\n",
      "           C       0.49      0.37      0.42      4302\n",
      "           D       0.31      0.35      0.33      2129\n",
      "           E       0.22      0.32      0.26       893\n",
      "           F       0.15      0.22      0.17       276\n",
      "           G       0.11      0.06      0.08        83\n",
      "\n",
      "    accuracy                           0.47     15000\n",
      "   macro avg       0.35      0.37      0.36     15000\n",
      "weighted avg       0.48      0.47      0.47     15000\n",
      "\n",
      "[[2199  581   73   19    3    1    0]\n",
      " [ 908 2236  902  283   88   22    2]\n",
      " [ 196 1134 1586  912  385   78   11]\n",
      " [  33  236  560  750  425  112   13]\n",
      " [   3   40  123  317  287  113   10]\n",
      " [   0    5   18   85  103   60    5]\n",
      " [   0    1    3   24   24   26    5]]\n"
     ]
    }
   ],
   "source": [
    "y_pred_ros = model_ros.predict(X_test)\n",
    "\n",
    "# Model report for the ROS model\n",
    "print(\"\\nModel trained on ROS Data:\")\n",
    "print(classification_report(y_test, y_pred_ros))\n",
    "print(confusion_matrix(y_test, y_pred_ros))"
   ]
  },
  {
   "cell_type": "markdown",
   "id": "83c75219-0194-413d-9342-f9afcc81d4c4",
   "metadata": {},
   "source": [
    "- ROS Model did better, with better recall for most classes.\n",
    "- We can see general trend, the lower the class, the less good our model predicts. \n",
    "- Possible changes of merging more categories into one. "
   ]
  },
  {
   "cell_type": "markdown",
   "id": "b19f862e-c38f-443c-b3f4-8678b195afc5",
   "metadata": {},
   "source": [
    "### Model 2 with CV"
   ]
  },
  {
   "cell_type": "code",
   "execution_count": 45,
   "id": "086c9cd8-62dc-4976-bc70-66562845fce8",
   "metadata": {
    "tags": []
   },
   "outputs": [
    {
     "data": {
      "application/vnd.jupyter.widget-view+json": {
       "model_id": "ddb7dffe3d6a4f61810dd7360e0b1053",
       "version_major": 2,
       "version_minor": 0
      },
      "text/plain": [
       "MetricVisualizer(layout=Layout(align_self='stretch', height='500px'))"
      ]
     },
     "metadata": {},
     "output_type": "display_data"
    },
    {
     "name": "stdout",
     "output_type": "stream",
     "text": [
      "Training on fold [0/3]\n",
      "0:\tlearn: 0.3220122\ttest: 0.3172392\tbest: 0.3172392 (0)\ttotal: 496ms\tremaining: 8m 15s\n",
      "100:\tlearn: 0.4881811\ttest: 0.4811666\tbest: 0.4811666 (100)\ttotal: 48.7s\tremaining: 7m 13s\n",
      "200:\tlearn: 0.5476096\ttest: 0.5323720\tbest: 0.5323720 (200)\ttotal: 1m 37s\tremaining: 6m 25s\n",
      "300:\tlearn: 0.5809616\ttest: 0.5670927\tbest: 0.5670927 (300)\ttotal: 2m 25s\tremaining: 5m 37s\n",
      "400:\tlearn: 0.6074315\ttest: 0.5876015\tbest: 0.5882264 (398)\ttotal: 3m 13s\tremaining: 4m 49s\n",
      "500:\tlearn: 0.6301946\ttest: 0.6061813\tbest: 0.6063654 (495)\ttotal: 4m 2s\tremaining: 4m 1s\n",
      "600:\tlearn: 0.6516250\ttest: 0.6252752\tbest: 0.6252752 (600)\ttotal: 4m 53s\tremaining: 3m 14s\n",
      "700:\tlearn: 0.6681243\ttest: 0.6401440\tbest: 0.6403995 (698)\ttotal: 5m 42s\tremaining: 2m 26s\n",
      "800:\tlearn: 0.6802501\ttest: 0.6497064\tbest: 0.6497077 (799)\ttotal: 6m 31s\tremaining: 1m 37s\n",
      "900:\tlearn: 0.6914812\ttest: 0.6585210\tbest: 0.6585769 (898)\ttotal: 7m 20s\tremaining: 48.4s\n",
      "999:\tlearn: 0.7021681\ttest: 0.6655711\tbest: 0.6656061 (997)\ttotal: 8m 9s\tremaining: 0us\n",
      "\n",
      "bestTest = 0.6656060869\n",
      "bestIteration = 997\n",
      "\n",
      "Training on fold [1/3]\n",
      "0:\tlearn: 0.3201843\ttest: 0.3211795\tbest: 0.3211795 (0)\ttotal: 457ms\tremaining: 7m 36s\n",
      "100:\tlearn: 0.4849046\ttest: 0.4848995\tbest: 0.4848995 (100)\ttotal: 48.6s\tremaining: 7m 12s\n",
      "200:\tlearn: 0.5466808\ttest: 0.5447780\tbest: 0.5447894 (199)\ttotal: 1m 38s\tremaining: 6m 30s\n",
      "300:\tlearn: 0.5764620\ttest: 0.5705223\tbest: 0.5707272 (299)\ttotal: 2m 29s\tremaining: 5m 46s\n",
      "400:\tlearn: 0.6023185\ttest: 0.5933285\tbest: 0.5936559 (399)\ttotal: 3m 18s\tremaining: 4m 56s\n",
      "500:\tlearn: 0.6288126\ttest: 0.6159835\tbest: 0.6161527 (498)\ttotal: 4m 8s\tremaining: 4m 7s\n",
      "600:\tlearn: 0.6495752\ttest: 0.6328685\tbest: 0.6328685 (600)\ttotal: 4m 57s\tremaining: 3m 17s\n",
      "700:\tlearn: 0.6680668\ttest: 0.6504379\tbest: 0.6504379 (700)\ttotal: 5m 45s\tremaining: 2m 27s\n",
      "800:\tlearn: 0.6806408\ttest: 0.6602944\tbest: 0.6607097 (798)\ttotal: 6m 33s\tremaining: 1m 37s\n",
      "900:\tlearn: 0.6908662\ttest: 0.6688729\tbest: 0.6688843 (899)\ttotal: 7m 23s\tremaining: 48.7s\n",
      "999:\tlearn: 0.7003164\ttest: 0.6766313\tbest: 0.6767568 (998)\ttotal: 8m 11s\tremaining: 0us\n",
      "\n",
      "bestTest = 0.6767568205\n",
      "bestIteration = 998\n",
      "\n",
      "Training on fold [2/3]\n",
      "0:\tlearn: 0.3178063\ttest: 0.3141964\tbest: 0.3141964 (0)\ttotal: 469ms\tremaining: 7m 48s\n",
      "100:\tlearn: 0.4724105\ttest: 0.4673023\tbest: 0.4673023 (100)\ttotal: 50.3s\tremaining: 7m 27s\n",
      "200:\tlearn: 0.5424239\ttest: 0.5367661\tbest: 0.5367661 (200)\ttotal: 1m 41s\tremaining: 6m 44s\n",
      "300:\tlearn: 0.5858832\ttest: 0.5759924\tbest: 0.5759924 (300)\ttotal: 2m 33s\tremaining: 5m 56s\n",
      "400:\tlearn: 0.6107196\ttest: 0.5985916\tbest: 0.5985916 (400)\ttotal: 3m 25s\tremaining: 5m 7s\n",
      "500:\tlearn: 0.6351377\ttest: 0.6175565\tbest: 0.6175565 (500)\ttotal: 4m 17s\tremaining: 4m 16s\n",
      "600:\tlearn: 0.6540828\ttest: 0.6338487\tbest: 0.6339303 (599)\ttotal: 5m 9s\tremaining: 3m 25s\n",
      "700:\tlearn: 0.6714463\ttest: 0.6488742\tbest: 0.6488742 (700)\ttotal: 6m 1s\tremaining: 2m 34s\n",
      "800:\tlearn: 0.6827958\ttest: 0.6581337\tbest: 0.6581337 (800)\ttotal: 6m 53s\tremaining: 1m 42s\n",
      "900:\tlearn: 0.6949802\ttest: 0.6657338\tbest: 0.6658018 (899)\ttotal: 7m 46s\tremaining: 51.3s\n",
      "999:\tlearn: 0.7031894\ttest: 0.6718034\tbest: 0.6722959 (988)\ttotal: 8m 38s\tremaining: 0us\n",
      "\n",
      "bestTest = 0.6722959005\n",
      "bestIteration = 988\n",
      "\n"
     ]
    }
   ],
   "source": [
    "from catboost import CatBoostClassifier, Pool, cv\n",
    "\n",
    "model_params = {\n",
    "    'loss_function': 'MultiClass',\n",
    "    'eval_metric': 'TotalF1',  \n",
    "    'cat_features': cat_features,\n",
    "    'early_stopping_rounds': 50,\n",
    "    'verbose': 100\n",
    "}\n",
    "\n",
    "\n",
    "cv_results = cv(\n",
    "    pool=train_pool_ros,\n",
    "    params=model_params,\n",
    "    fold_count=3,  \n",
    "    plot=True\n",
    ")"
   ]
  },
  {
   "cell_type": "code",
   "execution_count": 46,
   "id": "da21262d-7d17-448c-abfc-e4f0d5da97ef",
   "metadata": {
    "tags": []
   },
   "outputs": [
    {
     "data": {
      "application/vnd.jupyter.widget-view+json": {
       "model_id": "da3c926f859b464196b897f4d4dd2af9",
       "version_major": 2,
       "version_minor": 0
      },
      "text/plain": [
       "MetricVisualizer(layout=Layout(align_self='stretch', height='500px'))"
      ]
     },
     "metadata": {},
     "output_type": "display_data"
    },
    {
     "name": "stdout",
     "output_type": "stream",
     "text": [
      "Learning rate set to 0.119278\n",
      "0:\tlearn: 0.3215987\ttest: 0.3375025\tbest: 0.3375025 (0)\ttotal: 662ms\tremaining: 11m 1s\n",
      "100:\tlearn: 0.6060956\ttest: 0.4357497\tbest: 0.4357497 (100)\ttotal: 1m 8s\tremaining: 10m 5s\n",
      "200:\tlearn: 0.6742794\ttest: 0.4565262\tbest: 0.4566765 (198)\ttotal: 2m 14s\tremaining: 8m 54s\n",
      "300:\tlearn: 0.7111688\ttest: 0.4692264\tbest: 0.4694399 (299)\ttotal: 3m 21s\tremaining: 7m 48s\n",
      "400:\tlearn: 0.7345506\ttest: 0.4778608\tbest: 0.4778608 (400)\ttotal: 4m 29s\tremaining: 6m 42s\n",
      "Stopped by overfitting detector  (50 iterations wait)\n",
      "\n",
      "bestTest = 0.478176087\n",
      "bestIteration = 402\n",
      "\n",
      "Shrink model to first 403 iterations.\n"
     ]
    },
    {
     "data": {
      "text/plain": [
       "<catboost.core.CatBoostClassifier at 0x2052dd00d50>"
      ]
     },
     "execution_count": 46,
     "metadata": {},
     "output_type": "execute_result"
    }
   ],
   "source": [
    "# Train the model using the best parameters found\n",
    "model_ros = CatBoostClassifier(**model_params)\n",
    "model_ros.fit(train_pool_ros, eval_set=validation_pool, plot=True)"
   ]
  },
  {
   "cell_type": "code",
   "execution_count": 47,
   "id": "5151f9ff-d979-4ec5-92f1-abb878859bee",
   "metadata": {
    "tags": []
   },
   "outputs": [
    {
     "name": "stdout",
     "output_type": "stream",
     "text": [
      "Model trained on ROS Data:\n",
      "              precision    recall  f1-score   support\n",
      "\n",
      "           A       0.66      0.76      0.71      2876\n",
      "           B       0.53      0.50      0.52      4441\n",
      "           C       0.49      0.37      0.42      4302\n",
      "           D       0.31      0.35      0.33      2129\n",
      "           E       0.22      0.32      0.26       893\n",
      "           F       0.15      0.22      0.17       276\n",
      "           G       0.11      0.06      0.08        83\n",
      "\n",
      "    accuracy                           0.47     15000\n",
      "   macro avg       0.35      0.37      0.36     15000\n",
      "weighted avg       0.48      0.47      0.47     15000\n",
      "\n",
      "[[2199  581   73   19    3    1    0]\n",
      " [ 908 2236  902  283   88   22    2]\n",
      " [ 196 1134 1586  912  385   78   11]\n",
      " [  33  236  560  750  425  112   13]\n",
      " [   3   40  123  317  287  113   10]\n",
      " [   0    5   18   85  103   60    5]\n",
      " [   0    1    3   24   24   26    5]]\n"
     ]
    }
   ],
   "source": [
    "# Evaluate the model\n",
    "y_pred_ros = model_ros.predict(X_test)\n",
    "print(\"Model trained on ROS Data:\")\n",
    "print(classification_report(y_test, y_pred_ros))\n",
    "print(confusion_matrix(y_test, y_pred_ros))"
   ]
  },
  {
   "cell_type": "markdown",
   "id": "27559d13-c100-4460-80b1-b15e38c830d9",
   "metadata": {},
   "source": [
    "Evaluation of the outputs"
   ]
  },
  {
   "cell_type": "markdown",
   "id": "b0b80075-fb37-4753-be00-4cc6b59bcf49",
   "metadata": {},
   "source": [
    "- Best Performance in Higher Classes: Class A shows the best performance, with a gradual decrease in precision and recall from Class B to G.\n",
    "- Moderate Overall Accuracy: The model achieves 47% accuracy, indicating moderate prediction capability.\n",
    "- Significant Class Confusion: Notable confusion between Classes B and C, and C and D, indicating difficulty in distinguishing these classes."
   ]
  },
  {
   "cell_type": "code",
   "execution_count": 48,
   "id": "af7f8ea9-2345-41c1-a7bc-22e919cfbc47",
   "metadata": {
    "tags": []
   },
   "outputs": [
    {
     "name": "stdout",
     "output_type": "stream",
     "text": [
      "Model trained on ROS Data (Evaluated on Entire Dataset):\n",
      "              precision    recall  f1-score   support\n",
      "\n",
      "           A       0.66      0.77      0.71    432828\n",
      "           B       0.53      0.51      0.52    663102\n",
      "           C       0.49      0.36      0.41    649396\n",
      "           D       0.32      0.35      0.33    323839\n",
      "           E       0.24      0.36      0.28    135235\n",
      "           F       0.16      0.23      0.19     41653\n",
      "           G       0.10      0.08      0.09     12088\n",
      "\n",
      "    accuracy                           0.48   2258141\n",
      "   macro avg       0.36      0.38      0.36   2258141\n",
      "weighted avg       0.48      0.48      0.48   2258141\n",
      "\n",
      "Confusion Matrix:\n",
      "[[334227  86567   9082   2289    557    100      6]\n",
      " [134270 336048 133616  44390  12454   2091    233]\n",
      " [ 30530 171190 233899 139575  59738  12755   1709]\n",
      " [  5004  38665  83995 114366  62539  16874   2396]\n",
      " [   718   6092  18113  44098  48189  15671   2354]\n",
      " [    51    531   2620  11263  16105   9641   1442]\n",
      " [     6     92    553   3040   4576   2873    948]]\n"
     ]
    }
   ],
   "source": [
    "y_pred_entire_ros = model_ros.predict(X)\n",
    "report_entire_ros = classification_report(y, y_pred_entire_ros)\n",
    "confusion_matrix_entire_ros = confusion_matrix(y, y_pred_entire_ros)\n",
    "\n",
    "print(\"Model trained on ROS Data (Evaluated on Entire Dataset):\")\n",
    "print(report_entire_ros)\n",
    "print(\"Confusion Matrix:\")\n",
    "print(confusion_matrix_entire_ros)"
   ]
  },
  {
   "cell_type": "markdown",
   "id": "a55b9dd2-c24a-4a42-86cc-ab7d7936a858",
   "metadata": {},
   "source": [
    "Evaluation "
   ]
  },
  {
   "cell_type": "markdown",
   "id": "b82c1af3-d6ee-4edb-9d3d-a65d4347e114",
   "metadata": {},
   "source": [
    "- Slightly Improved Performance: Shows a marginal increase in accuracy (48%) and precision-recall for most classes compared to the first model.\n",
    "- Consistent Performance Across Classes: Similar performance trends as the first model, with higher classes performing better.\n",
    "- Persistent Class Confusion: Similar confusion pattern as the first model, especially among adjacent classes, indicating a consistent issue in class differentiation."
   ]
  },
  {
   "cell_type": "markdown",
   "id": "5b475b4b-a966-45ee-94b4-f0f715fdf983",
   "metadata": {},
   "source": [
    "## Saving models"
   ]
  },
  {
   "cell_type": "code",
   "execution_count": 50,
   "id": "ed59cbc4-9ef0-43d1-b09b-4e7919811ecb",
   "metadata": {},
   "outputs": [],
   "source": [
    "# Save the model to a file. The .bin extension is used by default for CatBoost models.\n",
    "model_original.save_model(\"model_original_grade.bin\")\n",
    "# Similarly, for the second model\n",
    "model_ros.save_model(\"model_ros_grade.bin\")\n"
   ]
  },
  {
   "cell_type": "markdown",
   "id": "95ad9291-3887-434a-b320-4cc5d459ff0a",
   "metadata": {},
   "source": [
    "## Build Model for interest rate"
   ]
  },
  {
   "cell_type": "code",
   "execution_count": 51,
   "id": "3d732265-1b34-48c5-b7bc-0cc1bcaeb19e",
   "metadata": {
    "tags": []
   },
   "outputs": [],
   "source": [
    "X = merged_data\n",
    "y = target_int_rate\n",
    "cat_features = categorical_columns"
   ]
  },
  {
   "cell_type": "code",
   "execution_count": 52,
   "id": "84538dec-e2ca-49c3-b7c0-2cccde3cb1f0",
   "metadata": {
    "tags": []
   },
   "outputs": [],
   "source": [
    "sample_size = 1000000  # Define your sample size\n",
    "X_sampled = X.sample(n=sample_size, random_state=42)\n",
    "y_sampled = y.loc[X_sampled.index]\n",
    "\n",
    "X_train, X_temp, y_train, y_temp = train_test_split(X_sampled, y_sampled, test_size=0.3, random_state=2)\n",
    "X_val, X_test, y_val, y_test = train_test_split(X_temp, y_temp, test_size=0.5, random_state=3)"
   ]
  },
  {
   "cell_type": "code",
   "execution_count": 53,
   "id": "080c68cd-77a5-437c-988b-046d38e4f574",
   "metadata": {
    "tags": []
   },
   "outputs": [],
   "source": [
    "train_pool = Pool(data=X_train, label=y_train, cat_features=cat_features)\n",
    "validation_pool = Pool(data=X_val, label=y_val, cat_features=cat_features)"
   ]
  },
  {
   "cell_type": "markdown",
   "id": "35366893-e152-430e-8179-994c7c8118f9",
   "metadata": {
    "tags": []
   },
   "source": [
    "### Model 1"
   ]
  },
  {
   "cell_type": "code",
   "execution_count": 54,
   "id": "8f13b3c7-bcb3-4845-9b50-9d76f7b63c63",
   "metadata": {
    "tags": []
   },
   "outputs": [
    {
     "data": {
      "application/vnd.jupyter.widget-view+json": {
       "model_id": "fb3ef5aec6934ecd9692b3749550ace6",
       "version_major": 2,
       "version_minor": 0
      },
      "text/plain": [
       "MetricVisualizer(layout=Layout(align_self='stretch', height='500px'))"
      ]
     },
     "metadata": {},
     "output_type": "display_data"
    },
    {
     "name": "stdout",
     "output_type": "stream",
     "text": [
      "Learning rate set to 0.142422\n",
      "0:\tlearn: 4.5989916\ttest: 4.5831272\tbest: 4.5831272 (0)\ttotal: 335ms\tremaining: 5m 34s\n",
      "100:\tlearn: 3.1842522\ttest: 3.1782592\tbest: 3.1782592 (100)\ttotal: 30.9s\tremaining: 4m 34s\n",
      "200:\tlearn: 3.0520928\ttest: 3.0545821\tbest: 3.0545821 (200)\ttotal: 1m 1s\tremaining: 4m 5s\n",
      "300:\tlearn: 2.9698031\ttest: 2.9791520\tbest: 2.9791520 (300)\ttotal: 1m 32s\tremaining: 3m 33s\n",
      "400:\tlearn: 2.9099350\ttest: 2.9271935\tbest: 2.9271935 (400)\ttotal: 2m 2s\tremaining: 3m 2s\n",
      "500:\tlearn: 2.8623335\ttest: 2.8861668\tbest: 2.8861668 (500)\ttotal: 2m 32s\tremaining: 2m 31s\n",
      "600:\tlearn: 2.8210951\ttest: 2.8511762\tbest: 2.8511762 (600)\ttotal: 3m 2s\tremaining: 2m\n",
      "700:\tlearn: 2.7866359\ttest: 2.8236532\tbest: 2.8236532 (700)\ttotal: 3m 32s\tremaining: 1m 30s\n",
      "800:\tlearn: 2.7545455\ttest: 2.7974828\tbest: 2.7974828 (800)\ttotal: 4m 2s\tremaining: 1m\n",
      "900:\tlearn: 2.7258875\ttest: 2.7755585\tbest: 2.7755585 (900)\ttotal: 4m 33s\tremaining: 30s\n",
      "999:\tlearn: 2.6991524\ttest: 2.7550012\tbest: 2.7550012 (999)\ttotal: 5m 3s\tremaining: 0us\n",
      "\n",
      "bestTest = 2.75500115\n",
      "bestIteration = 999\n",
      "\n"
     ]
    },
    {
     "data": {
      "text/plain": [
       "<catboost.core.CatBoostRegressor at 0x2052d85d850>"
      ]
     },
     "execution_count": 54,
     "metadata": {},
     "output_type": "execute_result"
    }
   ],
   "source": [
    "model_int = CatBoostRegressor(\n",
    "    eval_metric='RMSE',\n",
    "    random_seed=42,\n",
    "    verbose=100\n",
    ")\n",
    "\n",
    "model_int.fit(train_pool, eval_set=validation_pool,\n",
    "    plot=True)"
   ]
  },
  {
   "cell_type": "code",
   "execution_count": 55,
   "id": "d0b245d6-bcf2-4f6b-bf4d-8a87b4055b40",
   "metadata": {
    "tags": []
   },
   "outputs": [
    {
     "data": {
      "text/plain": [
       "{'nan_mode': 'Min',\n",
       " 'eval_metric': 'RMSE',\n",
       " 'combinations_ctr': ['Borders:CtrBorderCount=15:CtrBorderType=Uniform:TargetBorderCount=1:TargetBorderType=MinEntropy:Prior=0/1:Prior=0.5/1:Prior=1/1',\n",
       "  'Counter:CtrBorderCount=15:CtrBorderType=Uniform:Prior=0/1'],\n",
       " 'iterations': 1000,\n",
       " 'sampling_frequency': 'PerTree',\n",
       " 'fold_permutation_block': 0,\n",
       " 'leaf_estimation_method': 'Newton',\n",
       " 'random_score_type': 'NormalWithModelSizeDecrease',\n",
       " 'counter_calc_method': 'SkipTest',\n",
       " 'grow_policy': 'SymmetricTree',\n",
       " 'penalties_coefficient': 1,\n",
       " 'boosting_type': 'Plain',\n",
       " 'model_shrink_mode': 'Constant',\n",
       " 'feature_border_type': 'GreedyLogSum',\n",
       " 'ctr_leaf_count_limit': 18446744073709551615,\n",
       " 'bayesian_matrix_reg': 0.10000000149011612,\n",
       " 'one_hot_max_size': 2,\n",
       " 'eval_fraction': 0,\n",
       " 'force_unit_auto_pair_weights': False,\n",
       " 'l2_leaf_reg': 3,\n",
       " 'random_strength': 1,\n",
       " 'rsm': 1,\n",
       " 'boost_from_average': True,\n",
       " 'max_ctr_complexity': 4,\n",
       " 'model_size_reg': 0.5,\n",
       " 'simple_ctr': ['Borders:CtrBorderCount=15:CtrBorderType=Uniform:TargetBorderCount=1:TargetBorderType=MinEntropy:Prior=0/1:Prior=0.5/1:Prior=1/1',\n",
       "  'Counter:CtrBorderCount=15:CtrBorderType=Uniform:Prior=0/1'],\n",
       " 'pool_metainfo_options': {'tags': {}},\n",
       " 'subsample': 0.800000011920929,\n",
       " 'use_best_model': True,\n",
       " 'random_seed': 42,\n",
       " 'depth': 6,\n",
       " 'ctr_target_border_count': 1,\n",
       " 'posterior_sampling': False,\n",
       " 'has_time': False,\n",
       " 'store_all_simple_ctr': False,\n",
       " 'border_count': 254,\n",
       " 'classes_count': 0,\n",
       " 'auto_class_weights': 'None',\n",
       " 'sparse_features_conflict_fraction': 0,\n",
       " 'leaf_estimation_backtracking': 'AnyImprovement',\n",
       " 'best_model_min_trees': 1,\n",
       " 'model_shrink_rate': 0,\n",
       " 'min_data_in_leaf': 1,\n",
       " 'loss_function': 'RMSE',\n",
       " 'learning_rate': 0.14242200553417206,\n",
       " 'score_function': 'Cosine',\n",
       " 'task_type': 'CPU',\n",
       " 'leaf_estimation_iterations': 1,\n",
       " 'bootstrap_type': 'MVS',\n",
       " 'max_leaves': 64,\n",
       " 'permutation_count': 4}"
      ]
     },
     "execution_count": 55,
     "metadata": {},
     "output_type": "execute_result"
    }
   ],
   "source": [
    "model_hyperparameters = model_int.get_all_params()\n",
    "model_hyperparameters"
   ]
  },
  {
   "cell_type": "code",
   "execution_count": 56,
   "id": "0e4348a5-536f-49f3-af1f-79d6d1135da0",
   "metadata": {
    "tags": []
   },
   "outputs": [],
   "source": [
    "y_pred = model_int.predict(X_test)\n",
    "rmse = mean_squared_error(y_test, y_pred, squared=False)\n",
    "mae = mean_absolute_error(y_test, y_pred)\n",
    "r2 = r2_score(y_test, y_pred)"
   ]
  },
  {
   "cell_type": "code",
   "execution_count": 57,
   "id": "f87384cc-1f92-42ce-bdec-90b3e9995b3a",
   "metadata": {
    "tags": []
   },
   "outputs": [
    {
     "name": "stdout",
     "output_type": "stream",
     "text": [
      "Model Performance Summary:\n",
      "RMSE (Root Mean Squared Error): 2.76\n",
      "MAE (Mean Absolute Error): 2.05\n",
      "R² Score: 0.67\n"
     ]
    }
   ],
   "source": [
    "print(\"Model Performance Summary:\")\n",
    "print(f\"RMSE (Root Mean Squared Error): {rmse:.2f}\")\n",
    "print(f\"MAE (Mean Absolute Error): {mae:.2f}\")\n",
    "print(f\"R² Score: {r2:.2f}\")"
   ]
  },
  {
   "cell_type": "markdown",
   "id": "5a892435-272b-481e-b150-28867c38b2aa",
   "metadata": {},
   "source": [
    "- RMSE of 2.76: Indicates an average deviation of 2.76 units from the true values, showing moderate prediction accuracy.\n",
    "- MAE of 2.05: Reflects an average absolute error of 2.05 units, indicating the predictions are relatively close to actual values.\n",
    "- R² Score of 0.67: Suggests that approximately 67% of the variability in the dependent variable is explained by the model, indicating a good fit.\n",
    "\n",
    "- Model Training Progress:\n",
    "- Learning Rate Set to 0.142422: A moderately high learning rate, implying faster learning but potentially less precision.\n",
    "- Improvement Over Iterations: The model's error (RMSE) consistently decreases over iterations, indicating effective learning.\n",
    "- Best RMSE at 999th Iteration: The lowest RMSE achieved on the test set is 2.755, close to the final reported RMSE, showing stable convergence.\n",
    "- Indication to increase iterations. "
   ]
  },
  {
   "cell_type": "markdown",
   "id": "6727140c-e3bf-48a8-ba63-038fb8936a60",
   "metadata": {},
   "source": [
    "### Model 2"
   ]
  },
  {
   "cell_type": "code",
   "execution_count": 58,
   "id": "54ad06e6-5c38-4353-9d2f-04e3eb811823",
   "metadata": {
    "tags": []
   },
   "outputs": [
    {
     "data": {
      "application/vnd.jupyter.widget-view+json": {
       "model_id": "e2365545ede74a0a8a954a1c7ce75652",
       "version_major": 2,
       "version_minor": 0
      },
      "text/plain": [
       "MetricVisualizer(layout=Layout(align_self='stretch', height='500px'))"
      ]
     },
     "metadata": {},
     "output_type": "display_data"
    },
    {
     "name": "stdout",
     "output_type": "stream",
     "text": [
      "Learning rate set to 0.093314\n",
      "0:\tlearn: 4.6707331\ttest: 4.6547377\tbest: 4.6547377 (0)\ttotal: 383ms\tremaining: 12m 44s\n",
      "100:\tlearn: 3.2224779\ttest: 3.2162766\tbest: 3.2162766 (100)\ttotal: 36.8s\tremaining: 11m 31s\n",
      "200:\tlearn: 3.0863420\ttest: 3.0888982\tbest: 3.0888982 (200)\ttotal: 1m 13s\tremaining: 10m 56s\n",
      "300:\tlearn: 2.9989487\ttest: 3.0091783\tbest: 3.0091783 (300)\ttotal: 1m 49s\tremaining: 10m 17s\n",
      "400:\tlearn: 2.9356518\ttest: 2.9537513\tbest: 2.9537513 (400)\ttotal: 2m 25s\tremaining: 9m 41s\n",
      "500:\tlearn: 2.8845276\ttest: 2.9108482\tbest: 2.9108482 (500)\ttotal: 3m 2s\tremaining: 9m 5s\n",
      "600:\tlearn: 2.8429132\ttest: 2.8761850\tbest: 2.8761850 (600)\ttotal: 3m 38s\tremaining: 8m 28s\n",
      "700:\tlearn: 2.8058961\ttest: 2.8464247\tbest: 2.8464247 (700)\ttotal: 4m 15s\tremaining: 7m 53s\n",
      "800:\tlearn: 2.7723209\ttest: 2.8202317\tbest: 2.8202317 (800)\ttotal: 4m 51s\tremaining: 7m 17s\n",
      "900:\tlearn: 2.7416639\ttest: 2.7973103\tbest: 2.7973103 (900)\ttotal: 5m 29s\tremaining: 6m 41s\n",
      "1000:\tlearn: 2.7146550\ttest: 2.7771903\tbest: 2.7771903 (1000)\ttotal: 6m 5s\tremaining: 6m 5s\n",
      "1100:\tlearn: 2.6884362\ttest: 2.7575410\tbest: 2.7575410 (1100)\ttotal: 6m 42s\tremaining: 5m 29s\n",
      "1200:\tlearn: 2.6643653\ttest: 2.7404690\tbest: 2.7404690 (1200)\ttotal: 7m 19s\tremaining: 4m 52s\n",
      "1300:\tlearn: 2.6418368\ttest: 2.7243337\tbest: 2.7243337 (1300)\ttotal: 7m 56s\tremaining: 4m 16s\n",
      "1400:\tlearn: 2.6204718\ttest: 2.7092232\tbest: 2.7092232 (1400)\ttotal: 8m 33s\tremaining: 3m 39s\n",
      "1500:\tlearn: 2.6004420\ttest: 2.6954511\tbest: 2.6954511 (1500)\ttotal: 9m 10s\tremaining: 3m 2s\n",
      "1600:\tlearn: 2.5812778\ttest: 2.6830116\tbest: 2.6830116 (1600)\ttotal: 9m 46s\tremaining: 2m 26s\n",
      "1700:\tlearn: 2.5627231\ttest: 2.6710147\tbest: 2.6710147 (1700)\ttotal: 10m 23s\tremaining: 1m 49s\n",
      "1800:\tlearn: 2.5447911\ttest: 2.6594325\tbest: 2.6594325 (1800)\ttotal: 11m 1s\tremaining: 1m 13s\n",
      "1900:\tlearn: 2.5279566\ttest: 2.6491181\tbest: 2.6491181 (1900)\ttotal: 11m 38s\tremaining: 36.4s\n",
      "1999:\tlearn: 2.5117040\ttest: 2.6392649\tbest: 2.6392649 (1999)\ttotal: 12m 14s\tremaining: 0us\n",
      "\n",
      "bestTest = 2.639264893\n",
      "bestIteration = 1999\n",
      "\n"
     ]
    },
    {
     "data": {
      "text/plain": [
       "<catboost.core.CatBoostRegressor at 0x20772fe8550>"
      ]
     },
     "execution_count": 58,
     "metadata": {},
     "output_type": "execute_result"
    }
   ],
   "source": [
    "model_int_2 = CatBoostRegressor(\n",
    "    iterations=2000,\n",
    "    eval_metric='RMSE',\n",
    "    random_seed=42,\n",
    "    verbose=100,\n",
    "    depth=7,\n",
    "    early_stopping_rounds=100\n",
    "     \n",
    ")\n",
    "\n",
    "model_int_2.fit(train_pool, eval_set=validation_pool,\n",
    "    plot=True)"
   ]
  },
  {
   "cell_type": "code",
   "execution_count": 59,
   "id": "14d40813-4557-41b8-b142-7c8a285490ff",
   "metadata": {
    "tags": []
   },
   "outputs": [],
   "source": [
    "y_pred = model_int_2.predict(X_test)\n",
    "rmse = mean_squared_error(y_test, y_pred, squared=False)\n",
    "mae = mean_absolute_error(y_test, y_pred)\n",
    "r2 = r2_score(y_test, y_pred)"
   ]
  },
  {
   "cell_type": "code",
   "execution_count": 60,
   "id": "2f16f652-0143-4e75-94d1-9779350a9692",
   "metadata": {
    "tags": []
   },
   "outputs": [
    {
     "name": "stdout",
     "output_type": "stream",
     "text": [
      "Model Performance Summary:\n",
      "RMSE (Root Mean Squared Error): 2.65\n",
      "MAE (Mean Absolute Error): 1.94\n",
      "R² Score: 0.70\n"
     ]
    }
   ],
   "source": [
    "print(\"Model Performance Summary:\")\n",
    "print(f\"RMSE (Root Mean Squared Error): {rmse:.2f}\")\n",
    "print(f\"MAE (Mean Absolute Error): {mae:.2f}\")\n",
    "print(f\"R² Score: {r2:.2f}\")"
   ]
  },
  {
   "cell_type": "markdown",
   "id": "a505de7d-65a4-42f3-b72a-8b612f7a6d9a",
   "metadata": {},
   "source": [
    "- Better score after second trial. "
   ]
  },
  {
   "cell_type": "code",
   "execution_count": 61,
   "id": "f278d32d-2e1c-4299-8949-6e923f56c335",
   "metadata": {
    "tags": []
   },
   "outputs": [
    {
     "name": "stdout",
     "output_type": "stream",
     "text": [
      "RMSE on Entire Dataset: 2.6057271314662356\n",
      "MAE on Entire Dataset: 1.913264295860864\n",
      "R² Score on Entire Dataset: 0.7088660407963606\n"
     ]
    }
   ],
   "source": [
    "y_pred_entire = model_int_2.predict(X)\n",
    "rmse_entire = mean_squared_error(y, y_pred_entire, squared=False)\n",
    "mae_entire = mean_absolute_error(y, y_pred_entire)\n",
    "r2_entire = r2_score(y, y_pred_entire)\n",
    "print(f\"RMSE on Entire Dataset: {rmse_entire}\")\n",
    "print(f\"MAE on Entire Dataset: {mae_entire}\")\n",
    "print(f\"R² Score on Entire Dataset: {r2_entire}\")"
   ]
  },
  {
   "cell_type": "markdown",
   "id": "9e5ed401-2b1b-4ecc-9cb8-8ed35ee6cc39",
   "metadata": {},
   "source": [
    "- RMSE of 2.65: A decrease from the previous model, indicating more accurate predictions.\n",
    "- MAE of 1.94: Lower than the previous model, suggesting closer predictions to actual values.\n",
    "- R² Score of 0.70: A higher score compared to the previous model, indicating a better fit to the data.\n",
    "- Learning Rate of 0.093314: Slower than the previous model, potentially leading to more precise convergence.\n",
    "- Steady Decrease in Test Error: Indicates effective learning and generalization over iterations.\n",
    "- Best RMSE at Final Iteration: Shows that the model effectively utilized the increased number of iterations to refine its predictions."
   ]
  },
  {
   "cell_type": "markdown",
   "id": "2713d085-28bc-4a3e-ac56-026d59c61d95",
   "metadata": {},
   "source": [
    "## Saving models"
   ]
  },
  {
   "cell_type": "code",
   "execution_count": 62,
   "id": "bc1b1ec0-de5e-4b8d-b122-da839229bc65",
   "metadata": {
    "tags": []
   },
   "outputs": [],
   "source": [
    "model_int.save_model(\"model_int.bin\")\n",
    "model_int_2.save_model(\"model_int_2.bin\")"
   ]
  },
  {
   "cell_type": "code",
   "execution_count": null,
   "id": "b9014658-4271-4029-a4bb-5cd5619b30f1",
   "metadata": {},
   "outputs": [],
   "source": []
  }
 ],
 "metadata": {
  "kernelspec": {
   "display_name": "Python 3 (ipykernel)",
   "language": "python",
   "name": "python3"
  },
  "language_info": {
   "codemirror_mode": {
    "name": "ipython",
    "version": 3
   },
   "file_extension": ".py",
   "mimetype": "text/x-python",
   "name": "python",
   "nbconvert_exporter": "python",
   "pygments_lexer": "ipython3",
   "version": "3.11.5"
  }
 },
 "nbformat": 4,
 "nbformat_minor": 5
}
