{
 "cells": [
  {
   "cell_type": "markdown",
   "id": "6648c31d-82b3-4b9e-8029-22788dce3b19",
   "metadata": {},
   "source": [
    "# Combining ACCEPTED loans data and REJECTED loans data"
   ]
  },
  {
   "cell_type": "markdown",
   "id": "8ff7065f-ab09-4c3c-b07a-786dc6f3a432",
   "metadata": {
    "tags": []
   },
   "source": [
    "- This notebook contains code of merging datasets in order to try and predict wheter loan is accepted or rejected. \n",
    "- There were two separate datasets exclusively made up of either accepted or rejected loans.\n",
    "- Task here was to identify any potential connections between them to merge based on.\n",
    "- Task wasnt perfect but I've found some overlaping features. \n",
    "- If the primary business goal is to predict this acceptance or rejection, business has to collect more simmilar features on both types of loans. \n",
    "- Imbalanced datasets for classification with 10x difference between classification categories. "
   ]
  },
  {
   "cell_type": "code",
   "execution_count": 1,
   "id": "0855e1b0-4bbc-4afe-bcbb-e28398534871",
   "metadata": {
    "tags": []
   },
   "outputs": [],
   "source": [
    "import pandas as pd\n",
    "import numpy as np\n",
    "import matplotlib.pyplot as plt\n",
    "import seaborn as sns\n",
    "from catboost import CatBoostClassifier "
   ]
  },
  {
   "cell_type": "code",
   "execution_count": 18,
   "id": "97ec57d3-7785-468e-9ef1-dfaa948aa1b7",
   "metadata": {
    "tags": []
   },
   "outputs": [],
   "source": [
    "accepted_path = './Datasets/accepted_2007_to_2018Q4.csv'\n",
    "rejected_path = './Datasets/rejected_2007_to_2018Q4.csv'"
   ]
  },
  {
   "cell_type": "code",
   "execution_count": 19,
   "id": "02d5d2cf-efd8-4ec4-9879-a067912fac0a",
   "metadata": {
    "tags": []
   },
   "outputs": [
    {
     "name": "stderr",
     "output_type": "stream",
     "text": [
      "C:\\Users\\Martin\\AppData\\Local\\Temp\\ipykernel_16200\\618601729.py:1: DtypeWarning: Columns (0,19,49,59,118,129,130,131,134,135,136,139,145,146,147) have mixed types. Specify dtype option on import or set low_memory=False.\n",
      "  data_accepted = pd.read_csv(accepted_path)\n"
     ]
    }
   ],
   "source": [
    "data_accepted = pd.read_csv(accepted_path)\n",
    "data_rejected = pd.read_csv(rejected_path)"
   ]
  },
  {
   "cell_type": "markdown",
   "id": "79b4ae9f-9c9c-4fb1-8c9f-32e7549f9b7c",
   "metadata": {},
   "source": [
    "## Shape of the data"
   ]
  },
  {
   "cell_type": "code",
   "execution_count": 20,
   "id": "da10ce60-9c27-4513-8db6-888843b6de97",
   "metadata": {
    "tags": []
   },
   "outputs": [
    {
     "name": "stdout",
     "output_type": "stream",
     "text": [
      "Accepted Loans: (2260701, 151)\n",
      "Rejected Loans: (27648741, 9)\n"
     ]
    }
   ],
   "source": [
    "# Displaying the shape of the datasets\n",
    "print(\"Accepted Loans:\", data_accepted.shape)\n",
    "print(\"Rejected Loans:\", data_rejected.shape)"
   ]
  },
  {
   "cell_type": "markdown",
   "id": "3bedaeab-1b08-4f80-96c5-aec4af92b813",
   "metadata": {},
   "source": [
    "- We see rejected has 10x the number of instances, with more than 10x less features"
   ]
  },
  {
   "cell_type": "code",
   "execution_count": 21,
   "id": "ee154b02-90e3-48f7-afef-4da05cbd0bb0",
   "metadata": {
    "tags": []
   },
   "outputs": [
    {
     "name": "stdout",
     "output_type": "stream",
     "text": [
      "Columns in Accepted Loans: ['id' 'member_id' 'loan_amnt' 'funded_amnt' 'funded_amnt_inv' 'term'\n",
      " 'int_rate' 'installment' 'grade' 'sub_grade' 'emp_title' 'emp_length'\n",
      " 'home_ownership' 'annual_inc' 'verification_status' 'issue_d'\n",
      " 'loan_status' 'pymnt_plan' 'url' 'desc' 'purpose' 'title' 'zip_code'\n",
      " 'addr_state' 'dti' 'delinq_2yrs' 'earliest_cr_line' 'fico_range_low'\n",
      " 'fico_range_high' 'inq_last_6mths' 'mths_since_last_delinq'\n",
      " 'mths_since_last_record' 'open_acc' 'pub_rec' 'revol_bal' 'revol_util'\n",
      " 'total_acc' 'initial_list_status' 'out_prncp' 'out_prncp_inv'\n",
      " 'total_pymnt' 'total_pymnt_inv' 'total_rec_prncp' 'total_rec_int'\n",
      " 'total_rec_late_fee' 'recoveries' 'collection_recovery_fee'\n",
      " 'last_pymnt_d' 'last_pymnt_amnt' 'next_pymnt_d' 'last_credit_pull_d'\n",
      " 'last_fico_range_high' 'last_fico_range_low' 'collections_12_mths_ex_med'\n",
      " 'mths_since_last_major_derog' 'policy_code' 'application_type'\n",
      " 'annual_inc_joint' 'dti_joint' 'verification_status_joint'\n",
      " 'acc_now_delinq' 'tot_coll_amt' 'tot_cur_bal' 'open_acc_6m' 'open_act_il'\n",
      " 'open_il_12m' 'open_il_24m' 'mths_since_rcnt_il' 'total_bal_il' 'il_util'\n",
      " 'open_rv_12m' 'open_rv_24m' 'max_bal_bc' 'all_util' 'total_rev_hi_lim'\n",
      " 'inq_fi' 'total_cu_tl' 'inq_last_12m' 'acc_open_past_24mths'\n",
      " 'avg_cur_bal' 'bc_open_to_buy' 'bc_util' 'chargeoff_within_12_mths'\n",
      " 'delinq_amnt' 'mo_sin_old_il_acct' 'mo_sin_old_rev_tl_op'\n",
      " 'mo_sin_rcnt_rev_tl_op' 'mo_sin_rcnt_tl' 'mort_acc'\n",
      " 'mths_since_recent_bc' 'mths_since_recent_bc_dlq' 'mths_since_recent_inq'\n",
      " 'mths_since_recent_revol_delinq' 'num_accts_ever_120_pd' 'num_actv_bc_tl'\n",
      " 'num_actv_rev_tl' 'num_bc_sats' 'num_bc_tl' 'num_il_tl' 'num_op_rev_tl'\n",
      " 'num_rev_accts' 'num_rev_tl_bal_gt_0' 'num_sats' 'num_tl_120dpd_2m'\n",
      " 'num_tl_30dpd' 'num_tl_90g_dpd_24m' 'num_tl_op_past_12m' 'pct_tl_nvr_dlq'\n",
      " 'percent_bc_gt_75' 'pub_rec_bankruptcies' 'tax_liens' 'tot_hi_cred_lim'\n",
      " 'total_bal_ex_mort' 'total_bc_limit' 'total_il_high_credit_limit'\n",
      " 'revol_bal_joint' 'sec_app_fico_range_low' 'sec_app_fico_range_high'\n",
      " 'sec_app_earliest_cr_line' 'sec_app_inq_last_6mths' 'sec_app_mort_acc'\n",
      " 'sec_app_open_acc' 'sec_app_revol_util' 'sec_app_open_act_il'\n",
      " 'sec_app_num_rev_accts' 'sec_app_chargeoff_within_12_mths'\n",
      " 'sec_app_collections_12_mths_ex_med'\n",
      " 'sec_app_mths_since_last_major_derog' 'hardship_flag' 'hardship_type'\n",
      " 'hardship_reason' 'hardship_status' 'deferral_term' 'hardship_amount'\n",
      " 'hardship_start_date' 'hardship_end_date' 'payment_plan_start_date'\n",
      " 'hardship_length' 'hardship_dpd' 'hardship_loan_status'\n",
      " 'orig_projected_additional_accrued_interest'\n",
      " 'hardship_payoff_balance_amount' 'hardship_last_payment_amount'\n",
      " 'disbursement_method' 'debt_settlement_flag' 'debt_settlement_flag_date'\n",
      " 'settlement_status' 'settlement_date' 'settlement_amount'\n",
      " 'settlement_percentage' 'settlement_term']\n"
     ]
    }
   ],
   "source": [
    "# Exploring the column names\n",
    "print(\"Columns in Accepted Loans:\", data_accepted.columns.values)"
   ]
  },
  {
   "cell_type": "code",
   "execution_count": 22,
   "id": "27ff47bc-a62f-44b8-a7e7-3b4c2b1eb984",
   "metadata": {
    "tags": []
   },
   "outputs": [
    {
     "name": "stdout",
     "output_type": "stream",
     "text": [
      "Columns in Rejected Loans: ['Amount Requested' 'Application Date' 'Loan Title' 'Risk_Score'\n",
      " 'Debt-To-Income Ratio' 'Zip Code' 'State' 'Employment Length'\n",
      " 'Policy Code']\n"
     ]
    }
   ],
   "source": [
    "print(\"Columns in Rejected Loans:\", data_rejected.columns.values)"
   ]
  },
  {
   "cell_type": "code",
   "execution_count": 23,
   "id": "f7d4073c-2bfe-4714-9d25-3a4555a454e5",
   "metadata": {
    "tags": []
   },
   "outputs": [
    {
     "data": {
      "text/html": [
       "<div>\n",
       "<style scoped>\n",
       "    .dataframe tbody tr th:only-of-type {\n",
       "        vertical-align: middle;\n",
       "    }\n",
       "\n",
       "    .dataframe tbody tr th {\n",
       "        vertical-align: top;\n",
       "    }\n",
       "\n",
       "    .dataframe thead th {\n",
       "        text-align: right;\n",
       "    }\n",
       "</style>\n",
       "<table border=\"1\" class=\"dataframe\">\n",
       "  <thead>\n",
       "    <tr style=\"text-align: right;\">\n",
       "      <th></th>\n",
       "      <th>id</th>\n",
       "      <th>member_id</th>\n",
       "      <th>loan_amnt</th>\n",
       "      <th>funded_amnt</th>\n",
       "      <th>funded_amnt_inv</th>\n",
       "      <th>term</th>\n",
       "      <th>int_rate</th>\n",
       "      <th>installment</th>\n",
       "      <th>grade</th>\n",
       "      <th>sub_grade</th>\n",
       "      <th>...</th>\n",
       "      <th>hardship_payoff_balance_amount</th>\n",
       "      <th>hardship_last_payment_amount</th>\n",
       "      <th>disbursement_method</th>\n",
       "      <th>debt_settlement_flag</th>\n",
       "      <th>debt_settlement_flag_date</th>\n",
       "      <th>settlement_status</th>\n",
       "      <th>settlement_date</th>\n",
       "      <th>settlement_amount</th>\n",
       "      <th>settlement_percentage</th>\n",
       "      <th>settlement_term</th>\n",
       "    </tr>\n",
       "  </thead>\n",
       "  <tbody>\n",
       "    <tr>\n",
       "      <th>0</th>\n",
       "      <td>68407277</td>\n",
       "      <td>NaN</td>\n",
       "      <td>3600.0</td>\n",
       "      <td>3600.0</td>\n",
       "      <td>3600.0</td>\n",
       "      <td>36 months</td>\n",
       "      <td>13.99</td>\n",
       "      <td>123.03</td>\n",
       "      <td>C</td>\n",
       "      <td>C4</td>\n",
       "      <td>...</td>\n",
       "      <td>NaN</td>\n",
       "      <td>NaN</td>\n",
       "      <td>Cash</td>\n",
       "      <td>N</td>\n",
       "      <td>NaN</td>\n",
       "      <td>NaN</td>\n",
       "      <td>NaN</td>\n",
       "      <td>NaN</td>\n",
       "      <td>NaN</td>\n",
       "      <td>NaN</td>\n",
       "    </tr>\n",
       "    <tr>\n",
       "      <th>1</th>\n",
       "      <td>68355089</td>\n",
       "      <td>NaN</td>\n",
       "      <td>24700.0</td>\n",
       "      <td>24700.0</td>\n",
       "      <td>24700.0</td>\n",
       "      <td>36 months</td>\n",
       "      <td>11.99</td>\n",
       "      <td>820.28</td>\n",
       "      <td>C</td>\n",
       "      <td>C1</td>\n",
       "      <td>...</td>\n",
       "      <td>NaN</td>\n",
       "      <td>NaN</td>\n",
       "      <td>Cash</td>\n",
       "      <td>N</td>\n",
       "      <td>NaN</td>\n",
       "      <td>NaN</td>\n",
       "      <td>NaN</td>\n",
       "      <td>NaN</td>\n",
       "      <td>NaN</td>\n",
       "      <td>NaN</td>\n",
       "    </tr>\n",
       "    <tr>\n",
       "      <th>2</th>\n",
       "      <td>68341763</td>\n",
       "      <td>NaN</td>\n",
       "      <td>20000.0</td>\n",
       "      <td>20000.0</td>\n",
       "      <td>20000.0</td>\n",
       "      <td>60 months</td>\n",
       "      <td>10.78</td>\n",
       "      <td>432.66</td>\n",
       "      <td>B</td>\n",
       "      <td>B4</td>\n",
       "      <td>...</td>\n",
       "      <td>NaN</td>\n",
       "      <td>NaN</td>\n",
       "      <td>Cash</td>\n",
       "      <td>N</td>\n",
       "      <td>NaN</td>\n",
       "      <td>NaN</td>\n",
       "      <td>NaN</td>\n",
       "      <td>NaN</td>\n",
       "      <td>NaN</td>\n",
       "      <td>NaN</td>\n",
       "    </tr>\n",
       "    <tr>\n",
       "      <th>3</th>\n",
       "      <td>66310712</td>\n",
       "      <td>NaN</td>\n",
       "      <td>35000.0</td>\n",
       "      <td>35000.0</td>\n",
       "      <td>35000.0</td>\n",
       "      <td>60 months</td>\n",
       "      <td>14.85</td>\n",
       "      <td>829.90</td>\n",
       "      <td>C</td>\n",
       "      <td>C5</td>\n",
       "      <td>...</td>\n",
       "      <td>NaN</td>\n",
       "      <td>NaN</td>\n",
       "      <td>Cash</td>\n",
       "      <td>N</td>\n",
       "      <td>NaN</td>\n",
       "      <td>NaN</td>\n",
       "      <td>NaN</td>\n",
       "      <td>NaN</td>\n",
       "      <td>NaN</td>\n",
       "      <td>NaN</td>\n",
       "    </tr>\n",
       "    <tr>\n",
       "      <th>4</th>\n",
       "      <td>68476807</td>\n",
       "      <td>NaN</td>\n",
       "      <td>10400.0</td>\n",
       "      <td>10400.0</td>\n",
       "      <td>10400.0</td>\n",
       "      <td>60 months</td>\n",
       "      <td>22.45</td>\n",
       "      <td>289.91</td>\n",
       "      <td>F</td>\n",
       "      <td>F1</td>\n",
       "      <td>...</td>\n",
       "      <td>NaN</td>\n",
       "      <td>NaN</td>\n",
       "      <td>Cash</td>\n",
       "      <td>N</td>\n",
       "      <td>NaN</td>\n",
       "      <td>NaN</td>\n",
       "      <td>NaN</td>\n",
       "      <td>NaN</td>\n",
       "      <td>NaN</td>\n",
       "      <td>NaN</td>\n",
       "    </tr>\n",
       "  </tbody>\n",
       "</table>\n",
       "<p>5 rows × 151 columns</p>\n",
       "</div>"
      ],
      "text/plain": [
       "         id  member_id  loan_amnt  funded_amnt  funded_amnt_inv        term  \\\n",
       "0  68407277        NaN     3600.0       3600.0           3600.0   36 months   \n",
       "1  68355089        NaN    24700.0      24700.0          24700.0   36 months   \n",
       "2  68341763        NaN    20000.0      20000.0          20000.0   60 months   \n",
       "3  66310712        NaN    35000.0      35000.0          35000.0   60 months   \n",
       "4  68476807        NaN    10400.0      10400.0          10400.0   60 months   \n",
       "\n",
       "   int_rate  installment grade sub_grade  ... hardship_payoff_balance_amount  \\\n",
       "0     13.99       123.03     C        C4  ...                            NaN   \n",
       "1     11.99       820.28     C        C1  ...                            NaN   \n",
       "2     10.78       432.66     B        B4  ...                            NaN   \n",
       "3     14.85       829.90     C        C5  ...                            NaN   \n",
       "4     22.45       289.91     F        F1  ...                            NaN   \n",
       "\n",
       "  hardship_last_payment_amount disbursement_method  debt_settlement_flag  \\\n",
       "0                          NaN                Cash                     N   \n",
       "1                          NaN                Cash                     N   \n",
       "2                          NaN                Cash                     N   \n",
       "3                          NaN                Cash                     N   \n",
       "4                          NaN                Cash                     N   \n",
       "\n",
       "  debt_settlement_flag_date settlement_status settlement_date  \\\n",
       "0                       NaN               NaN             NaN   \n",
       "1                       NaN               NaN             NaN   \n",
       "2                       NaN               NaN             NaN   \n",
       "3                       NaN               NaN             NaN   \n",
       "4                       NaN               NaN             NaN   \n",
       "\n",
       "  settlement_amount settlement_percentage settlement_term  \n",
       "0               NaN                   NaN             NaN  \n",
       "1               NaN                   NaN             NaN  \n",
       "2               NaN                   NaN             NaN  \n",
       "3               NaN                   NaN             NaN  \n",
       "4               NaN                   NaN             NaN  \n",
       "\n",
       "[5 rows x 151 columns]"
      ]
     },
     "execution_count": 23,
     "metadata": {},
     "output_type": "execute_result"
    }
   ],
   "source": [
    "# Displaying the first few rows of each dataset\n",
    "data_accepted.head()"
   ]
  },
  {
   "cell_type": "code",
   "execution_count": 24,
   "id": "1dfe0b10-5eab-49f6-b833-30ddd469d162",
   "metadata": {
    "tags": []
   },
   "outputs": [
    {
     "data": {
      "text/html": [
       "<div>\n",
       "<style scoped>\n",
       "    .dataframe tbody tr th:only-of-type {\n",
       "        vertical-align: middle;\n",
       "    }\n",
       "\n",
       "    .dataframe tbody tr th {\n",
       "        vertical-align: top;\n",
       "    }\n",
       "\n",
       "    .dataframe thead th {\n",
       "        text-align: right;\n",
       "    }\n",
       "</style>\n",
       "<table border=\"1\" class=\"dataframe\">\n",
       "  <thead>\n",
       "    <tr style=\"text-align: right;\">\n",
       "      <th></th>\n",
       "      <th>Amount Requested</th>\n",
       "      <th>Application Date</th>\n",
       "      <th>Loan Title</th>\n",
       "      <th>Risk_Score</th>\n",
       "      <th>Debt-To-Income Ratio</th>\n",
       "      <th>Zip Code</th>\n",
       "      <th>State</th>\n",
       "      <th>Employment Length</th>\n",
       "      <th>Policy Code</th>\n",
       "    </tr>\n",
       "  </thead>\n",
       "  <tbody>\n",
       "    <tr>\n",
       "      <th>0</th>\n",
       "      <td>1000.0</td>\n",
       "      <td>2007-05-26</td>\n",
       "      <td>Wedding Covered but No Honeymoon</td>\n",
       "      <td>693.0</td>\n",
       "      <td>10%</td>\n",
       "      <td>481xx</td>\n",
       "      <td>NM</td>\n",
       "      <td>4 years</td>\n",
       "      <td>0.0</td>\n",
       "    </tr>\n",
       "    <tr>\n",
       "      <th>1</th>\n",
       "      <td>1000.0</td>\n",
       "      <td>2007-05-26</td>\n",
       "      <td>Consolidating Debt</td>\n",
       "      <td>703.0</td>\n",
       "      <td>10%</td>\n",
       "      <td>010xx</td>\n",
       "      <td>MA</td>\n",
       "      <td>&lt; 1 year</td>\n",
       "      <td>0.0</td>\n",
       "    </tr>\n",
       "    <tr>\n",
       "      <th>2</th>\n",
       "      <td>11000.0</td>\n",
       "      <td>2007-05-27</td>\n",
       "      <td>Want to consolidate my debt</td>\n",
       "      <td>715.0</td>\n",
       "      <td>10%</td>\n",
       "      <td>212xx</td>\n",
       "      <td>MD</td>\n",
       "      <td>1 year</td>\n",
       "      <td>0.0</td>\n",
       "    </tr>\n",
       "    <tr>\n",
       "      <th>3</th>\n",
       "      <td>6000.0</td>\n",
       "      <td>2007-05-27</td>\n",
       "      <td>waksman</td>\n",
       "      <td>698.0</td>\n",
       "      <td>38.64%</td>\n",
       "      <td>017xx</td>\n",
       "      <td>MA</td>\n",
       "      <td>&lt; 1 year</td>\n",
       "      <td>0.0</td>\n",
       "    </tr>\n",
       "    <tr>\n",
       "      <th>4</th>\n",
       "      <td>1500.0</td>\n",
       "      <td>2007-05-27</td>\n",
       "      <td>mdrigo</td>\n",
       "      <td>509.0</td>\n",
       "      <td>9.43%</td>\n",
       "      <td>209xx</td>\n",
       "      <td>MD</td>\n",
       "      <td>&lt; 1 year</td>\n",
       "      <td>0.0</td>\n",
       "    </tr>\n",
       "  </tbody>\n",
       "</table>\n",
       "</div>"
      ],
      "text/plain": [
       "   Amount Requested Application Date                        Loan Title  \\\n",
       "0            1000.0       2007-05-26  Wedding Covered but No Honeymoon   \n",
       "1            1000.0       2007-05-26                Consolidating Debt   \n",
       "2           11000.0       2007-05-27       Want to consolidate my debt   \n",
       "3            6000.0       2007-05-27                           waksman   \n",
       "4            1500.0       2007-05-27                            mdrigo   \n",
       "\n",
       "   Risk_Score Debt-To-Income Ratio Zip Code State Employment Length  \\\n",
       "0       693.0                  10%    481xx    NM           4 years   \n",
       "1       703.0                  10%    010xx    MA          < 1 year   \n",
       "2       715.0                  10%    212xx    MD            1 year   \n",
       "3       698.0               38.64%    017xx    MA          < 1 year   \n",
       "4       509.0                9.43%    209xx    MD          < 1 year   \n",
       "\n",
       "   Policy Code  \n",
       "0          0.0  \n",
       "1          0.0  \n",
       "2          0.0  \n",
       "3          0.0  \n",
       "4          0.0  "
      ]
     },
     "execution_count": 24,
     "metadata": {},
     "output_type": "execute_result"
    }
   ],
   "source": [
    "data_rejected.head()"
   ]
  },
  {
   "cell_type": "markdown",
   "id": "ea8eb28b-cfc9-448b-a8b7-7f8f53599fd7",
   "metadata": {},
   "source": [
    "- Column Name Formatting: Inconsistencies noted, standardization needed for easier data integration.\n",
    "- Data Collection Optimization: Structuring loan data collection to enhance prediction of loan acceptance/rejection.\n",
    "- Consistent Feature Set: Essential to have the same features in both accepted and rejected loan datasets for effective modeling.\n",
    "- Automated Decision-Making: Crucial to collect data in a uniform manner, differing only in loan status (accepted or rejected).\n",
    "- Exploring Commonalities: Investigating similarities between datasets to facilitate merging and modeling."
   ]
  },
  {
   "cell_type": "markdown",
   "id": "e70ef859-846e-4119-b23b-f3f8293870c4",
   "metadata": {},
   "source": [
    "## Common features and their reformating"
   ]
  },
  {
   "cell_type": "code",
   "execution_count": 25,
   "id": "18fb4031-7262-40be-bd7c-814315f3c70a",
   "metadata": {
    "tags": []
   },
   "outputs": [],
   "source": [
    "common_features = ['loan_amnt', 'title', 'dti', 'zip_code', 'addr_state', 'emp_length']"
   ]
  },
  {
   "cell_type": "code",
   "execution_count": 26,
   "id": "c92d7992-0909-4644-96de-9b8d8a30996c",
   "metadata": {
    "tags": []
   },
   "outputs": [],
   "source": [
    "# Extracting overlapping features and 'issue_d' from the accepted dataset\n",
    "data_accepted_overlap = data_accepted[common_features + ['issue_d']]"
   ]
  },
  {
   "cell_type": "code",
   "execution_count": 27,
   "id": "cf6e12e4-178d-4bee-bc8f-f11256aa8c7f",
   "metadata": {},
   "outputs": [],
   "source": [
    "# Converting DTI from % to floats in rejected dataset\n",
    "data_rejected['Debt-To-Income Ratio'] = data_rejected['Debt-To-Income Ratio'].str.rstrip('%').astype('float')"
   ]
  },
  {
   "cell_type": "code",
   "execution_count": 28,
   "id": "a58641ae-3779-4098-8d45-06fe02a35b03",
   "metadata": {
    "tags": []
   },
   "outputs": [],
   "source": [
    "# Renaming columns for consistency\n",
    "rename_columns = {\n",
    "    'Debt-To-Income Ratio': 'dti',\n",
    "    'Employment Length': 'emp_length',\n",
    "    'Application Date': 'year',\n",
    "    'Amount Requested': 'loan_amnt',\n",
    "    'Loan Title': 'title',\n",
    "    'State': 'addr_state',\n",
    "    'Zip Code': 'zip_code',\n",
    "    'Policy Code': 'policy_code'\n",
    "}\n",
    "data_rejected.rename(columns=rename_columns, inplace=True)"
   ]
  },
  {
   "cell_type": "code",
   "execution_count": 29,
   "id": "aa43588a-8fbb-47fc-b11c-0b690cea491f",
   "metadata": {
    "tags": []
   },
   "outputs": [
    {
     "name": "stderr",
     "output_type": "stream",
     "text": [
      "C:\\Users\\Martin\\AppData\\Local\\Temp\\ipykernel_16200\\2613273085.py:3: SettingWithCopyWarning: \n",
      "A value is trying to be set on a copy of a slice from a DataFrame.\n",
      "Try using .loc[row_indexer,col_indexer] = value instead\n",
      "\n",
      "See the caveats in the documentation: https://pandas.pydata.org/pandas-docs/stable/user_guide/indexing.html#returning-a-view-versus-a-copy\n",
      "  data_accepted_overlap['issue_d'] = pd.to_datetime(data_accepted_overlap['issue_d'], format='%b-%Y').dt.year\n",
      "C:\\Users\\Martin\\AppData\\Local\\Temp\\ipykernel_16200\\2613273085.py:4: SettingWithCopyWarning: \n",
      "A value is trying to be set on a copy of a slice from a DataFrame\n",
      "\n",
      "See the caveats in the documentation: https://pandas.pydata.org/pandas-docs/stable/user_guide/indexing.html#returning-a-view-versus-a-copy\n",
      "  data_accepted_overlap.rename(columns={'issue_d': 'year'}, inplace=True)\n"
     ]
    }
   ],
   "source": [
    "# Extracting the year from dates in order to have time dimension\n",
    "data_rejected['year'] = pd.to_datetime(data_rejected['year']).dt.year\n",
    "data_accepted_overlap['issue_d'] = pd.to_datetime(data_accepted_overlap['issue_d'], format='%b-%Y').dt.year\n",
    "data_accepted_overlap.rename(columns={'issue_d': 'year'}, inplace=True)"
   ]
  },
  {
   "cell_type": "code",
   "execution_count": 30,
   "id": "3f15e2d0-806d-4671-aed1-6c1be78bcf6f",
   "metadata": {
    "tags": []
   },
   "outputs": [],
   "source": [
    "# Dropping the policy code\n",
    "data_rejected.drop(['policy_code','Risk_Score'], axis=1, inplace=True)"
   ]
  },
  {
   "cell_type": "code",
   "execution_count": 31,
   "id": "2083ea64-7b5e-4932-9383-b4a558c747fa",
   "metadata": {
    "tags": []
   },
   "outputs": [
    {
     "name": "stderr",
     "output_type": "stream",
     "text": [
      "C:\\Users\\Martin\\AppData\\Local\\Temp\\ipykernel_16200\\162931315.py:2: SettingWithCopyWarning: \n",
      "A value is trying to be set on a copy of a slice from a DataFrame.\n",
      "Try using .loc[row_indexer,col_indexer] = value instead\n",
      "\n",
      "See the caveats in the documentation: https://pandas.pydata.org/pandas-docs/stable/user_guide/indexing.html#returning-a-view-versus-a-copy\n",
      "  data_accepted_overlap['loan_status'] = 1  # 1 for accepted\n"
     ]
    }
   ],
   "source": [
    "# Adding loan status column\n",
    "data_accepted_overlap['loan_status'] = 1  # 1 for accepted\n",
    "data_rejected['loan_status'] = 0  # 0 for rejected"
   ]
  },
  {
   "cell_type": "code",
   "execution_count": 32,
   "id": "8e73b9f4-99f6-437e-b9a7-3b536968d42c",
   "metadata": {
    "tags": []
   },
   "outputs": [
    {
     "data": {
      "text/plain": [
       "loan_status\n",
       "1    2260701\n",
       "Name: count, dtype: int64"
      ]
     },
     "execution_count": 32,
     "metadata": {},
     "output_type": "execute_result"
    }
   ],
   "source": [
    "data_accepted_overlap.loan_status.value_counts()"
   ]
  },
  {
   "cell_type": "code",
   "execution_count": 33,
   "id": "f4602f51-0185-4f3e-9fab-4884598b9687",
   "metadata": {
    "tags": []
   },
   "outputs": [
    {
     "data": {
      "text/plain": [
       "loan_status\n",
       "0    27648741\n",
       "Name: count, dtype: int64"
      ]
     },
     "execution_count": 33,
     "metadata": {},
     "output_type": "execute_result"
    }
   ],
   "source": [
    "data_rejected['loan_status'].value_counts()"
   ]
  },
  {
   "cell_type": "markdown",
   "id": "942736e8-8790-42e4-b46d-a304069f7e84",
   "metadata": {
    "tags": []
   },
   "source": [
    "## Merging the datasets"
   ]
  },
  {
   "cell_type": "code",
   "execution_count": 34,
   "id": "3765a107-5c8b-494c-8e70-ff8006b4ef3b",
   "metadata": {
    "tags": []
   },
   "outputs": [],
   "source": [
    "# Merging the datasets\n",
    "combined_df = pd.concat([data_accepted_overlap, data_rejected], ignore_index=True)"
   ]
  },
  {
   "cell_type": "code",
   "execution_count": 35,
   "id": "62f31a86-f1ab-4895-925f-eefa0f00581a",
   "metadata": {
    "tags": []
   },
   "outputs": [
    {
     "data": {
      "text/html": [
       "<div>\n",
       "<style scoped>\n",
       "    .dataframe tbody tr th:only-of-type {\n",
       "        vertical-align: middle;\n",
       "    }\n",
       "\n",
       "    .dataframe tbody tr th {\n",
       "        vertical-align: top;\n",
       "    }\n",
       "\n",
       "    .dataframe thead th {\n",
       "        text-align: right;\n",
       "    }\n",
       "</style>\n",
       "<table border=\"1\" class=\"dataframe\">\n",
       "  <thead>\n",
       "    <tr style=\"text-align: right;\">\n",
       "      <th></th>\n",
       "      <th>loan_amnt</th>\n",
       "      <th>title</th>\n",
       "      <th>dti</th>\n",
       "      <th>zip_code</th>\n",
       "      <th>addr_state</th>\n",
       "      <th>emp_length</th>\n",
       "      <th>year</th>\n",
       "      <th>loan_status</th>\n",
       "    </tr>\n",
       "  </thead>\n",
       "  <tbody>\n",
       "    <tr>\n",
       "      <th>0</th>\n",
       "      <td>3600.0</td>\n",
       "      <td>Debt consolidation</td>\n",
       "      <td>5.91</td>\n",
       "      <td>190xx</td>\n",
       "      <td>PA</td>\n",
       "      <td>10+ years</td>\n",
       "      <td>2015.0</td>\n",
       "      <td>1</td>\n",
       "    </tr>\n",
       "    <tr>\n",
       "      <th>1</th>\n",
       "      <td>24700.0</td>\n",
       "      <td>Business</td>\n",
       "      <td>16.06</td>\n",
       "      <td>577xx</td>\n",
       "      <td>SD</td>\n",
       "      <td>10+ years</td>\n",
       "      <td>2015.0</td>\n",
       "      <td>1</td>\n",
       "    </tr>\n",
       "    <tr>\n",
       "      <th>2</th>\n",
       "      <td>20000.0</td>\n",
       "      <td>NaN</td>\n",
       "      <td>10.78</td>\n",
       "      <td>605xx</td>\n",
       "      <td>IL</td>\n",
       "      <td>10+ years</td>\n",
       "      <td>2015.0</td>\n",
       "      <td>1</td>\n",
       "    </tr>\n",
       "    <tr>\n",
       "      <th>3</th>\n",
       "      <td>35000.0</td>\n",
       "      <td>Debt consolidation</td>\n",
       "      <td>17.06</td>\n",
       "      <td>076xx</td>\n",
       "      <td>NJ</td>\n",
       "      <td>10+ years</td>\n",
       "      <td>2015.0</td>\n",
       "      <td>1</td>\n",
       "    </tr>\n",
       "    <tr>\n",
       "      <th>4</th>\n",
       "      <td>10400.0</td>\n",
       "      <td>Major purchase</td>\n",
       "      <td>25.37</td>\n",
       "      <td>174xx</td>\n",
       "      <td>PA</td>\n",
       "      <td>3 years</td>\n",
       "      <td>2015.0</td>\n",
       "      <td>1</td>\n",
       "    </tr>\n",
       "  </tbody>\n",
       "</table>\n",
       "</div>"
      ],
      "text/plain": [
       "   loan_amnt               title    dti zip_code addr_state emp_length  \\\n",
       "0     3600.0  Debt consolidation   5.91    190xx         PA  10+ years   \n",
       "1    24700.0            Business  16.06    577xx         SD  10+ years   \n",
       "2    20000.0                 NaN  10.78    605xx         IL  10+ years   \n",
       "3    35000.0  Debt consolidation  17.06    076xx         NJ  10+ years   \n",
       "4    10400.0      Major purchase  25.37    174xx         PA    3 years   \n",
       "\n",
       "     year  loan_status  \n",
       "0  2015.0            1  \n",
       "1  2015.0            1  \n",
       "2  2015.0            1  \n",
       "3  2015.0            1  \n",
       "4  2015.0            1  "
      ]
     },
     "execution_count": 35,
     "metadata": {},
     "output_type": "execute_result"
    }
   ],
   "source": [
    "combined_df.head()"
   ]
  },
  {
   "cell_type": "markdown",
   "id": "8f452241-cfe4-4c7f-a45b-76afec48e9bf",
   "metadata": {},
   "source": [
    "## Modifying 'title' format and re-categorizing the feature "
   ]
  },
  {
   "cell_type": "code",
   "execution_count": 36,
   "id": "6f48a9fd-66a5-497b-8e8d-b2a0db48ad60",
   "metadata": {
    "tags": []
   },
   "outputs": [],
   "source": [
    "# Cleaning 'title' column, standardizing it's format\n",
    "combined_df['title'] = combined_df['title'].str.lower().str.replace('_', ' ').str.replace(r'[^a-zA-Z\\s]', '', regex=True)"
   ]
  },
  {
   "cell_type": "code",
   "execution_count": 37,
   "id": "6a0146de-00e5-4321-82e9-a441af6ab5f0",
   "metadata": {
    "tags": []
   },
   "outputs": [],
   "source": [
    "# Categorizing 'title' using predefined mapping\n",
    "def categorize_title(title):\n",
    "    if pd.isna(title):\n",
    "        return pd.NA\n",
    "    for category, keywords in title_mapping.items():\n",
    "        if any(keyword in title for keyword in keywords):\n",
    "            return category\n",
    "    return pd.NA\n",
    "\n",
    "title_mapping = {\n",
    "    'Debt Consolidation': ['debt consolidation', 'consolidation', 'consolidate', 'payoff'],\n",
    "    'Credit Card': ['credit card'],\n",
    "    'Home Related': ['home', 'house'],\n",
    "    'Car Related': ['car'],\n",
    "    'Business': ['business'],\n",
    "    'Medical Expenses': ['medical'],\n",
    "    'Moving and Relocation': ['moving'],\n",
    "    'Vacation': ['vacation'],\n",
    "    'Major Purchase': ['major purchase'],\n",
    "    'Green Loan': ['renewable energy', 'green loan'],\n",
    "    'Wedding': ['wedding'],\n",
    "    'Personal Loan': ['personal'],\n",
    "    'Educational': ['educational'],\n",
    "    'Freedom': ['freedom'],\n",
    "    'Loan': ['loan'],\n",
    "    'Other': ['other']\n",
    "}"
   ]
  },
  {
   "cell_type": "code",
   "execution_count": 38,
   "id": "3d61369e-3163-4aa7-b3fe-03e5c88f1038",
   "metadata": {
    "tags": []
   },
   "outputs": [],
   "source": [
    "combined_df['title_category'] = combined_df['title'].apply(categorize_title)"
   ]
  },
  {
   "cell_type": "code",
   "execution_count": 39,
   "id": "6a29e5b9-8405-4abb-b803-e9097e1f2d3e",
   "metadata": {
    "tags": []
   },
   "outputs": [],
   "source": [
    "# Dropping the original 'title' column\n",
    "combined_df.drop('title', axis=1, inplace=True)"
   ]
  },
  {
   "cell_type": "markdown",
   "id": "81963cd8-6779-41c1-9960-5fa7cdd7c558",
   "metadata": {},
   "source": [
    "## Final combined dataset"
   ]
  },
  {
   "cell_type": "code",
   "execution_count": 40,
   "id": "38e55abb-14a9-4348-9f06-415ff44ed250",
   "metadata": {
    "tags": []
   },
   "outputs": [
    {
     "data": {
      "text/html": [
       "<div>\n",
       "<style scoped>\n",
       "    .dataframe tbody tr th:only-of-type {\n",
       "        vertical-align: middle;\n",
       "    }\n",
       "\n",
       "    .dataframe tbody tr th {\n",
       "        vertical-align: top;\n",
       "    }\n",
       "\n",
       "    .dataframe thead th {\n",
       "        text-align: right;\n",
       "    }\n",
       "</style>\n",
       "<table border=\"1\" class=\"dataframe\">\n",
       "  <thead>\n",
       "    <tr style=\"text-align: right;\">\n",
       "      <th></th>\n",
       "      <th>loan_amnt</th>\n",
       "      <th>dti</th>\n",
       "      <th>zip_code</th>\n",
       "      <th>addr_state</th>\n",
       "      <th>emp_length</th>\n",
       "      <th>year</th>\n",
       "      <th>loan_status</th>\n",
       "      <th>title_category</th>\n",
       "    </tr>\n",
       "  </thead>\n",
       "  <tbody>\n",
       "    <tr>\n",
       "      <th>0</th>\n",
       "      <td>3600.0</td>\n",
       "      <td>5.91</td>\n",
       "      <td>190xx</td>\n",
       "      <td>PA</td>\n",
       "      <td>10+ years</td>\n",
       "      <td>2015.0</td>\n",
       "      <td>1</td>\n",
       "      <td>Debt Consolidation</td>\n",
       "    </tr>\n",
       "    <tr>\n",
       "      <th>1</th>\n",
       "      <td>24700.0</td>\n",
       "      <td>16.06</td>\n",
       "      <td>577xx</td>\n",
       "      <td>SD</td>\n",
       "      <td>10+ years</td>\n",
       "      <td>2015.0</td>\n",
       "      <td>1</td>\n",
       "      <td>Business</td>\n",
       "    </tr>\n",
       "    <tr>\n",
       "      <th>2</th>\n",
       "      <td>20000.0</td>\n",
       "      <td>10.78</td>\n",
       "      <td>605xx</td>\n",
       "      <td>IL</td>\n",
       "      <td>10+ years</td>\n",
       "      <td>2015.0</td>\n",
       "      <td>1</td>\n",
       "      <td>&lt;NA&gt;</td>\n",
       "    </tr>\n",
       "    <tr>\n",
       "      <th>3</th>\n",
       "      <td>35000.0</td>\n",
       "      <td>17.06</td>\n",
       "      <td>076xx</td>\n",
       "      <td>NJ</td>\n",
       "      <td>10+ years</td>\n",
       "      <td>2015.0</td>\n",
       "      <td>1</td>\n",
       "      <td>Debt Consolidation</td>\n",
       "    </tr>\n",
       "    <tr>\n",
       "      <th>4</th>\n",
       "      <td>10400.0</td>\n",
       "      <td>25.37</td>\n",
       "      <td>174xx</td>\n",
       "      <td>PA</td>\n",
       "      <td>3 years</td>\n",
       "      <td>2015.0</td>\n",
       "      <td>1</td>\n",
       "      <td>Major Purchase</td>\n",
       "    </tr>\n",
       "  </tbody>\n",
       "</table>\n",
       "</div>"
      ],
      "text/plain": [
       "   loan_amnt    dti zip_code addr_state emp_length    year  loan_status  \\\n",
       "0     3600.0   5.91    190xx         PA  10+ years  2015.0            1   \n",
       "1    24700.0  16.06    577xx         SD  10+ years  2015.0            1   \n",
       "2    20000.0  10.78    605xx         IL  10+ years  2015.0            1   \n",
       "3    35000.0  17.06    076xx         NJ  10+ years  2015.0            1   \n",
       "4    10400.0  25.37    174xx         PA    3 years  2015.0            1   \n",
       "\n",
       "       title_category  \n",
       "0  Debt Consolidation  \n",
       "1            Business  \n",
       "2                <NA>  \n",
       "3  Debt Consolidation  \n",
       "4      Major Purchase  "
      ]
     },
     "execution_count": 40,
     "metadata": {},
     "output_type": "execute_result"
    }
   ],
   "source": [
    "combined_df.head()"
   ]
  },
  {
   "cell_type": "code",
   "execution_count": 41,
   "id": "14cbff94-f56f-4fb9-912c-7225db671379",
   "metadata": {
    "tags": []
   },
   "outputs": [
    {
     "data": {
      "text/plain": [
       "(29909442, 8)"
      ]
     },
     "execution_count": 41,
     "metadata": {},
     "output_type": "execute_result"
    }
   ],
   "source": [
    "combined_df.shape"
   ]
  },
  {
   "cell_type": "markdown",
   "id": "7f06aac6-d854-4784-88a9-9963a8a39eb9",
   "metadata": {},
   "source": [
    "- Saving the combined dataset"
   ]
  },
  {
   "cell_type": "code",
   "execution_count": 42,
   "id": "cb744e28-6bfd-4029-82cd-5472bb34a741",
   "metadata": {
    "tags": []
   },
   "outputs": [],
   "source": [
    "combined_df.to_csv('./Datasets/combined_loans.csv', index=False)"
   ]
  }
 ],
 "metadata": {
  "kernelspec": {
   "display_name": "Python 3 (ipykernel)",
   "language": "python",
   "name": "python3"
  },
  "language_info": {
   "codemirror_mode": {
    "name": "ipython",
    "version": 3
   },
   "file_extension": ".py",
   "mimetype": "text/x-python",
   "name": "python",
   "nbconvert_exporter": "python",
   "pygments_lexer": "ipython3",
   "version": "3.11.5"
  }
 },
 "nbformat": 4,
 "nbformat_minor": 5
}
