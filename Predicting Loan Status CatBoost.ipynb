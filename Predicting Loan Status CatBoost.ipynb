{
 "cells": [
  {
   "cell_type": "code",
   "execution_count": 1,
   "id": "217a9eab-c281-41bb-a9ad-e9c556d36182",
   "metadata": {
    "tags": []
   },
   "outputs": [],
   "source": [
    "import pandas as pd\n",
    "import numpy as np\n",
    "import catboost as cb\n",
    "from sklearn.model_selection import train_test_split\n",
    "from sklearn.metrics import f1_score, confusion_matrix\n",
    "import matplotlib.pyplot as plt\n",
    "import seaborn as sns\n",
    "from sklearn.metrics import classification_report\n",
    "from imblearn.over_sampling import RandomOverSampler\n",
    "from sklearn.metrics import classification_report\n",
    "import time"
   ]
  },
  {
   "cell_type": "code",
   "execution_count": 2,
   "id": "883d700e-4e4d-486b-bb1d-d93fa5a920e0",
   "metadata": {
    "tags": []
   },
   "outputs": [],
   "source": [
    "data = pd.read_csv('./Datasets/Data_Removed_NaN_and_Duplicates.csv')"
   ]
  },
  {
   "cell_type": "markdown",
   "id": "1284f162-7e3c-4bbb-bd46-ee579322e2c8",
   "metadata": {},
   "source": [
    "## Data splits"
   ]
  },
  {
   "cell_type": "code",
   "execution_count": 3,
   "id": "7a12f119-dce8-41e0-9670-f20311db7662",
   "metadata": {
    "tags": []
   },
   "outputs": [],
   "source": [
    "categorical_features = ['zip_code', 'addr_state', 'emp_length', 'title_category']\n",
    "target = 'loan_status'\n",
    "\n",
    "fraction = 0.1\n",
    "_, sampled_data = train_test_split(data, test_size=fraction, stratify=data[target], random_state=42)\n",
    "\n",
    "train_data, test_data = train_test_split(sampled_data, test_size=0.3, stratify=sampled_data[target], random_state=42)\n",
    "train_data, validation_data = train_test_split(train_data, test_size=0.5, stratify=train_data[target], random_state=42)"
   ]
  },
  {
   "cell_type": "markdown",
   "id": "976dca34-fc89-4c02-a760-1dd90d379bc5",
   "metadata": {},
   "source": [
    "### Model 1"
   ]
  },
  {
   "cell_type": "code",
   "execution_count": 4,
   "id": "62aa51ad-a8e3-467d-a02b-35c63d847ac2",
   "metadata": {
    "tags": []
   },
   "outputs": [],
   "source": [
    "model = cb.CatBoostClassifier(\n",
    "    cat_features=categorical_features,\n",
    "    eval_metric='Logloss',\n",
    "    early_stopping_rounds=50,\n",
    "    random_state=42,\n",
    "    verbose=100\n",
    ")"
   ]
  },
  {
   "cell_type": "code",
   "execution_count": 5,
   "id": "ee51c96f-2a80-4e10-aefb-206a35668ca8",
   "metadata": {
    "tags": []
   },
   "outputs": [],
   "source": [
    "X_train, y_train = train_data.drop(target, axis=1), train_data[target]\n",
    "X_validation, y_validation = validation_data.drop(target, axis=1), validation_data[target]\n",
    "X_test, y_test = test_data.drop(target, axis=1), test_data[target]"
   ]
  },
  {
   "cell_type": "code",
   "execution_count": 6,
   "id": "605fb8c1-ae88-4642-a1f4-64ab06845bdc",
   "metadata": {
    "tags": []
   },
   "outputs": [
    {
     "data": {
      "application/vnd.jupyter.widget-view+json": {
       "model_id": "8d17b697fd2d47b8be4e04422f36aba7",
       "version_major": 2,
       "version_minor": 0
      },
      "text/plain": [
       "MetricVisualizer(layout=Layout(align_self='stretch', height='500px'))"
      ]
     },
     "metadata": {},
     "output_type": "display_data"
    },
    {
     "name": "stdout",
     "output_type": "stream",
     "text": [
      "Learning rate set to 0.170562\n",
      "0:\tlearn: 0.4254439\ttest: 0.4253030\tbest: 0.4253030 (0)\ttotal: 536ms\tremaining: 8m 55s\n",
      "100:\tlearn: 0.1053445\ttest: 0.1053909\tbest: 0.1053909 (100)\ttotal: 35s\tremaining: 5m 11s\n",
      "200:\tlearn: 0.1024292\ttest: 0.1029210\tbest: 0.1029210 (200)\ttotal: 1m 9s\tremaining: 4m 37s\n",
      "300:\tlearn: 0.1008702\ttest: 0.1018731\tbest: 0.1018730 (298)\ttotal: 1m 44s\tremaining: 4m 3s\n",
      "400:\tlearn: 0.0998091\ttest: 0.1012326\tbest: 0.1012326 (400)\ttotal: 2m 19s\tremaining: 3m 27s\n",
      "500:\tlearn: 0.0989405\ttest: 0.1008423\tbest: 0.1008419 (499)\ttotal: 2m 53s\tremaining: 2m 52s\n",
      "600:\tlearn: 0.0982547\ttest: 0.1006068\tbest: 0.1006068 (600)\ttotal: 3m 27s\tremaining: 2m 17s\n",
      "700:\tlearn: 0.0976959\ttest: 0.1004621\tbest: 0.1004621 (700)\ttotal: 4m 3s\tremaining: 1m 43s\n",
      "800:\tlearn: 0.0971528\ttest: 0.1003486\tbest: 0.1003470 (798)\ttotal: 4m 39s\tremaining: 1m 9s\n",
      "900:\tlearn: 0.0966837\ttest: 0.1002983\tbest: 0.1002980 (899)\ttotal: 5m 12s\tremaining: 34.3s\n",
      "999:\tlearn: 0.0962099\ttest: 0.1001951\tbest: 0.1001951 (999)\ttotal: 5m 48s\tremaining: 0us\n",
      "\n",
      "bestTest = 0.1001950977\n",
      "bestIteration = 999\n",
      "\n"
     ]
    },
    {
     "data": {
      "text/plain": [
       "<catboost.core.CatBoostClassifier at 0x1dce01a8850>"
      ]
     },
     "execution_count": 6,
     "metadata": {},
     "output_type": "execute_result"
    }
   ],
   "source": [
    "model.fit(\n",
    "    X_train, \n",
    "    y_train, \n",
    "    eval_set=(X_validation, y_validation), \n",
    "    plot=True,\n",
    ")"
   ]
  },
  {
   "cell_type": "code",
   "execution_count": 7,
   "id": "92a3a1e6-e977-45f9-84f8-61095d243be8",
   "metadata": {
    "tags": []
   },
   "outputs": [
    {
     "name": "stdout",
     "output_type": "stream",
     "text": [
      "              precision    recall  f1-score   support\n",
      "\n",
      "     Class 0       0.98      0.98      0.98    719609\n",
      "     Class 1       0.74      0.75      0.74     61055\n",
      "\n",
      "    accuracy                           0.96    780664\n",
      "   macro avg       0.86      0.86      0.86    780664\n",
      "weighted avg       0.96      0.96      0.96    780664\n",
      "\n"
     ]
    }
   ],
   "source": [
    "# Predicting on the test set\n",
    "y_pred = model.predict(X_test)\n",
    "y_pred_proba = model.predict_proba(X_test)[:, 1]\n",
    "\n",
    "report = classification_report(y_test, y_pred, target_names=['Class 0', 'Class 1'])\n",
    "print(report)"
   ]
  },
  {
   "cell_type": "markdown",
   "id": "dac361a9-90fb-4a1a-b718-aaf7f603aa1e",
   "metadata": {},
   "source": [
    "- Quite good model output with default parameters."
   ]
  },
  {
   "cell_type": "markdown",
   "id": "0a1f453e-d0be-4f94-bed8-de4e10d40bf2",
   "metadata": {},
   "source": [
    "- High Precision and Recall for Class 0:\n",
    "\n",
    "    - Precision of 0.98 and Recall of 0.98 for Class 0 indicate excellent model performance in correctly identifying and classifying instances of this class.\n",
    "\n",
    "- Moderate Performance for Class 1:\n",
    "\n",
    "    - Precision of 0.74 and Recall of 0.75 for Class 1 suggest moderate accuracy in classifying this class. While good, there is room for improvement.\n",
    "    - The lower performance for Class 1 compared to Class 0 might indicate a challenge in distinguishing Class 1 instances or a class imbalance issue.\n",
    "\n",
    "- Macro average and Weighted average both at 0.86 and 0.96, respectively, indicate a well-balanced model performance, though slightly biased towards Class 0 due to its higher representation in the dataset."
   ]
  },
  {
   "cell_type": "markdown",
   "id": "4d8492ff-fa1b-44fd-a8b2-7e565dae5d8b",
   "metadata": {},
   "source": [
    "### Model 2"
   ]
  },
  {
   "cell_type": "code",
   "execution_count": 8,
   "id": "57c1dbeb-f96e-40aa-a983-c5988756dee6",
   "metadata": {
    "tags": []
   },
   "outputs": [],
   "source": [
    "# Apply Random Over Sampling (ROS) to the training data\n",
    "ros = RandomOverSampler(random_state=42)\n",
    "X_train, y_train = ros.fit_resample(train_data.drop(target, axis=1), train_data[target])\n",
    "\n",
    "X_validation, y_validation = validation_data.drop(target, axis=1), validation_data[target]\n",
    "X_test, y_test = test_data.drop(target, axis=1), test_data[target]"
   ]
  },
  {
   "cell_type": "code",
   "execution_count": 9,
   "id": "c5ccb625-e0ef-4d9c-8d07-75be810f7681",
   "metadata": {},
   "outputs": [
    {
     "data": {
      "application/vnd.jupyter.widget-view+json": {
       "model_id": "f8a178b497d44268a8677de9c2702b4b",
       "version_major": 2,
       "version_minor": 0
      },
      "text/plain": [
       "MetricVisualizer(layout=Layout(align_self='stretch', height='500px'))"
      ]
     },
     "metadata": {},
     "output_type": "display_data"
    },
    {
     "name": "stdout",
     "output_type": "stream",
     "text": [
      "Learning rate set to 0.198382\n",
      "0:\tlearn: 0.4963226\ttest: 0.4974139\tbest: 0.4974139 (0)\ttotal: 641ms\tremaining: 10m 40s\n",
      "100:\tlearn: 0.1653257\ttest: 0.1903342\tbest: 0.1903342 (100)\ttotal: 56.2s\tremaining: 8m 19s\n",
      "200:\tlearn: 0.1415669\ttest: 0.1776840\tbest: 0.1776840 (200)\ttotal: 1m 52s\tremaining: 7m 27s\n",
      "300:\tlearn: 0.1320316\ttest: 0.1745605\tbest: 0.1737477 (298)\ttotal: 2m 49s\tremaining: 6m 34s\n",
      "400:\tlearn: 0.1248110\ttest: 0.1711224\tbest: 0.1708833 (371)\ttotal: 3m 44s\tremaining: 5m 35s\n",
      "500:\tlearn: 0.1199556\ttest: 0.1704607\tbest: 0.1700767 (498)\ttotal: 4m 44s\tremaining: 4m 42s\n",
      "600:\tlearn: 0.1162017\ttest: 0.1690934\tbest: 0.1690934 (600)\ttotal: 5m 43s\tremaining: 3m 48s\n",
      "700:\tlearn: 0.1121467\ttest: 0.1689886\tbest: 0.1689886 (700)\ttotal: 6m 41s\tremaining: 2m 51s\n",
      "800:\tlearn: 0.1092709\ttest: 0.1687223\tbest: 0.1687223 (800)\ttotal: 7m 39s\tremaining: 1m 54s\n",
      "900:\tlearn: 0.1063003\ttest: 0.1688613\tbest: 0.1685187 (866)\ttotal: 8m 38s\tremaining: 57s\n",
      "999:\tlearn: 0.1038025\ttest: 0.1685922\tbest: 0.1684128 (924)\ttotal: 9m 38s\tremaining: 0us\n",
      "\n",
      "bestTest = 0.1684128229\n",
      "bestIteration = 924\n",
      "\n",
      "Shrink model to first 925 iterations.\n"
     ]
    },
    {
     "data": {
      "text/plain": [
       "<catboost.core.CatBoostClassifier at 0x1dcd8e7f850>"
      ]
     },
     "execution_count": 9,
     "metadata": {},
     "output_type": "execute_result"
    }
   ],
   "source": [
    "model_2 = cb.CatBoostClassifier(\n",
    "    cat_features=categorical_features,\n",
    "    eval_metric='Logloss',\n",
    "    early_stopping_rounds=500,\n",
    "    random_state=42\n",
    ")\n",
    "\n",
    "model_2.fit(\n",
    "    X_train, \n",
    "    y_train, \n",
    "    eval_set=(X_validation, y_validation), \n",
    "    verbose=100,\n",
    "    plot=True,\n",
    "    early_stopping_rounds=100\n",
    ")"
   ]
  },
  {
   "cell_type": "code",
   "execution_count": 10,
   "id": "0ce91617-80aa-47b8-9cfd-c3f18527185c",
   "metadata": {},
   "outputs": [
    {
     "name": "stdout",
     "output_type": "stream",
     "text": [
      "              precision    recall  f1-score   support\n",
      "\n",
      "     Class 0       0.97      0.97      0.97    719609\n",
      "     Class 1       0.64      0.66      0.65     61055\n",
      "\n",
      "    accuracy                           0.94    780664\n",
      "   macro avg       0.81      0.81      0.81    780664\n",
      "weighted avg       0.95      0.94      0.94    780664\n",
      "\n"
     ]
    }
   ],
   "source": [
    "y_pred = model_2.predict(X_test)\n",
    "report = classification_report(y_test, y_pred, target_names=['Class 0', 'Class 1'])\n",
    "print(report)"
   ]
  },
  {
   "cell_type": "markdown",
   "id": "06e6be53-3a1b-4e46-a81a-57cc6b5fd786",
   "metadata": {},
   "source": [
    "- Class 0 Performance: Similarly high precision and recall (0.97), showing effective classification for Class 0.\n",
    "- Class 1 Performance: Lower precision (0.64) and recall (0.66) compared to Model 1, indicating more challenges in correctly classifying Class 1.\n",
    "\n",
    "\n",
    "- Overall Accuracy and Balance:\n",
    "- Slightly lower overall accuracy (94%) compared to Model 1.\n",
    "- Macro average (0.81) and Weighted average (0.95) suggest good performance but with a more noticeable bias towards Class 0 than in Model 1.\n",
    "\n",
    "\n",
    "- A relatively aggressive learning rate.\n",
    "- Gradual decrease in Logloss over many iterations, indicating a good but slightly less effective learning compared to Model 1.\n",
    "- Slightly higher final Logloss value than Model 1, suggesting a marginally less optimal fit to the validation data."
   ]
  },
  {
   "cell_type": "markdown",
   "id": "6e18e2ea-bed9-4380-9aed-2a06cb0bd0e8",
   "metadata": {},
   "source": [
    "### Saving models"
   ]
  },
  {
   "cell_type": "code",
   "execution_count": 11,
   "id": "52bbb1ca-f271-4f32-80f5-50a9ae122ce3",
   "metadata": {},
   "outputs": [],
   "source": [
    "# model trained with the original dataset\n",
    "model.save_model(\"model_original_status.bin\")\n",
    "# model trained with the ROS dataset\n",
    "model_2.save_model(\"model_ros_status.bin\")"
   ]
  }
 ],
 "metadata": {
  "kernelspec": {
   "display_name": "Python 3 (ipykernel)",
   "language": "python",
   "name": "python3"
  },
  "language_info": {
   "codemirror_mode": {
    "name": "ipython",
    "version": 3
   },
   "file_extension": ".py",
   "mimetype": "text/x-python",
   "name": "python",
   "nbconvert_exporter": "python",
   "pygments_lexer": "ipython3",
   "version": "3.11.5"
  }
 },
 "nbformat": 4,
 "nbformat_minor": 5
}
